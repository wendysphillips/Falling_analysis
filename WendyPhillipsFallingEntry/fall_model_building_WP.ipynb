{
 "cells": [
  {
   "cell_type": "markdown",
   "id": "20dc5999",
   "metadata": {},
   "source": [
    "# Investigating clinical notes regarding falls in older adults\n",
    "Author: Wendy Phillips\n",
    "\n",
    "The following work relates to my entry in the DrivenData competition [**Unsupervised Wisdom: Explore Medical Narratives on Older Adult Falls**](https://www.drivendata.org/competitions/217/cdc-fall-narratives/)\n",
    "\n",
    "## Problem statement\n",
    "\n",
    "Falls in older adults are frequent and can have major health impacts. Falls are the number-one cause of injuries, both fatal and non-fatal, in older adults (individuals aged >65 years)<sup>1</sup>. In 2014, 28.7% of older adults in the United States reported having fallen at least once in the previous year. In this analysis, I use the contents of clinical text to determine 1) how consequences differ when striking the floor versus striking an object in a falling event and 2) which objects most commonly cause falls versus which are most often struck during a fall.\n",
    "\n",
    "1. Bergen G, Stevens MR, Burns ER. Falls and Fall Injuries Among Adults Aged ≥65 Years — United States, 2014. MMWR Morb Mortal Wkly Rep 2016;65:993–998. DOI: http://dx.doi.org/10.15585/mmwr.mm6537a2\n",
    "\n",
    "## Data description\n",
    "\n",
    "Clinical notes and metadata associated with visits to an emergency department were analyzed. Data, originally obtained from the [National Electronic Injury Surveillance System (NEISS)](https://www.cpsc.gov/Research--Statistics/NEISS-Injury-Data), were downloaded from the DrivenData competition website. The primary data table consisted of 115,128 rows and 22 columns. Each row had information regarding a single emergency department visit, including a clinical narrative note written by a medical professional and metadata associated with patient demographics and fall-related information. The primary focus of this analysis was the clinical narrative column. \n",
    "\n",
    "## Analytic approach\n",
    "\n",
    "Natural Language Processing (NLP) was applied to the clinical notes to extract informative content. Specifically, the NLP tool spaCy was used to build a model that could identify and label specific spans of the text that held information of interest. "
   ]
  },
  {
   "cell_type": "code",
   "execution_count": 36,
   "id": "a92c3d52-681a-4702-946a-58424d90ac89",
   "metadata": {},
   "outputs": [],
   "source": [
    "import numpy as np\n",
    "import pandas as pd\n",
    "import json\n",
    "from pathlib import Path\n",
    "import re\n",
    "import spacy\n",
    "import matplotlib.pyplot as plt\n",
    "import seaborn as sns\n",
    "from spacy.tokens import Span\n",
    "from spacy.tokens import DocBin\n",
    "import collections"
   ]
  },
  {
   "cell_type": "code",
   "execution_count": 37,
   "id": "4a617c7b",
   "metadata": {},
   "outputs": [
    {
     "name": "stdout",
     "output_type": "stream",
     "text": [
      "3.6.1\n"
     ]
    }
   ],
   "source": [
    "print(spacy.__version__)"
   ]
  },
  {
   "cell_type": "markdown",
   "id": "a2bb2f37",
   "metadata": {},
   "source": [
    "## Import data \n",
    "\n",
    "#### Load variable mapping"
   ]
  },
  {
   "cell_type": "code",
   "execution_count": 38,
   "id": "8ed2c89f",
   "metadata": {},
   "outputs": [],
   "source": [
    "with Path(\"primary_data/variable_mapping.json\").open(\"r\") as f:\n",
    "    mapping = json.load(f, parse_int=True)\n",
    "\n",
    "# convert the encoded values in the mapping to integers since they get read in as strings\n",
    "for c in mapping.keys():\n",
    "    mapping[c] = {int(k): v for k, v in mapping[c].items()}"
   ]
  },
  {
   "cell_type": "markdown",
   "id": "3d3dbb9d",
   "metadata": {},
   "source": [
    "#### Load primary data"
   ]
  },
  {
   "cell_type": "code",
   "execution_count": 39,
   "id": "94fddc67",
   "metadata": {},
   "outputs": [],
   "source": [
    "df = pd.read_csv(\n",
    "    \"primary_data/primary_data.csv\",\n",
    "    # set columns that can be null to nullable ints\n",
    "    dtype={\"body_part_2\": \"Int64\", \"diagnosis_2\": \"Int64\"},\n",
    ")"
   ]
  },
  {
   "cell_type": "code",
   "execution_count": 40,
   "id": "4d423816",
   "metadata": {},
   "outputs": [
    {
     "data": {
      "text/plain": [
       "(115128, 22)"
      ]
     },
     "execution_count": 40,
     "metadata": {},
     "output_type": "execute_result"
    }
   ],
   "source": [
    "df.shape"
   ]
  },
  {
   "cell_type": "code",
   "execution_count": 41,
   "id": "5f07bed8",
   "metadata": {},
   "outputs": [
    {
     "data": {
      "text/html": [
       "<div>\n",
       "<style scoped>\n",
       "    .dataframe tbody tr th:only-of-type {\n",
       "        vertical-align: middle;\n",
       "    }\n",
       "\n",
       "    .dataframe tbody tr th {\n",
       "        vertical-align: top;\n",
       "    }\n",
       "\n",
       "    .dataframe thead th {\n",
       "        text-align: right;\n",
       "    }\n",
       "</style>\n",
       "<table border=\"1\" class=\"dataframe\">\n",
       "  <thead>\n",
       "    <tr style=\"text-align: right;\">\n",
       "      <th></th>\n",
       "      <th>cpsc_case_number</th>\n",
       "      <th>narrative</th>\n",
       "      <th>treatment_date</th>\n",
       "      <th>age</th>\n",
       "      <th>sex</th>\n",
       "      <th>race</th>\n",
       "      <th>other_race</th>\n",
       "      <th>hispanic</th>\n",
       "      <th>diagnosis</th>\n",
       "      <th>other_diagnosis</th>\n",
       "      <th>...</th>\n",
       "      <th>body_part</th>\n",
       "      <th>body_part_2</th>\n",
       "      <th>disposition</th>\n",
       "      <th>location</th>\n",
       "      <th>fire_involvement</th>\n",
       "      <th>alcohol</th>\n",
       "      <th>drug</th>\n",
       "      <th>product_1</th>\n",
       "      <th>product_2</th>\n",
       "      <th>product_3</th>\n",
       "    </tr>\n",
       "  </thead>\n",
       "  <tbody>\n",
       "    <tr>\n",
       "      <th>0</th>\n",
       "      <td>190103269</td>\n",
       "      <td>94YOM FELL TO THE FLOOR AT THE NURSING HOME ON...</td>\n",
       "      <td>2019-01-01</td>\n",
       "      <td>94</td>\n",
       "      <td>1</td>\n",
       "      <td>0</td>\n",
       "      <td>NaN</td>\n",
       "      <td>0</td>\n",
       "      <td>62</td>\n",
       "      <td>NaN</td>\n",
       "      <td>...</td>\n",
       "      <td>75</td>\n",
       "      <td>&lt;NA&gt;</td>\n",
       "      <td>4</td>\n",
       "      <td>5</td>\n",
       "      <td>0</td>\n",
       "      <td>0</td>\n",
       "      <td>0</td>\n",
       "      <td>1807</td>\n",
       "      <td>0</td>\n",
       "      <td>0</td>\n",
       "    </tr>\n",
       "    <tr>\n",
       "      <th>1</th>\n",
       "      <td>190103270</td>\n",
       "      <td>86YOM FELL IN THE SHOWER AT HOME AND SUSTAINED...</td>\n",
       "      <td>2019-01-01</td>\n",
       "      <td>86</td>\n",
       "      <td>1</td>\n",
       "      <td>0</td>\n",
       "      <td>NaN</td>\n",
       "      <td>0</td>\n",
       "      <td>62</td>\n",
       "      <td>NaN</td>\n",
       "      <td>...</td>\n",
       "      <td>75</td>\n",
       "      <td>&lt;NA&gt;</td>\n",
       "      <td>4</td>\n",
       "      <td>1</td>\n",
       "      <td>0</td>\n",
       "      <td>0</td>\n",
       "      <td>0</td>\n",
       "      <td>611</td>\n",
       "      <td>0</td>\n",
       "      <td>0</td>\n",
       "    </tr>\n",
       "    <tr>\n",
       "      <th>2</th>\n",
       "      <td>190103273</td>\n",
       "      <td>87YOF WAS GETTING UP FROM THE COUCH AND FELL T...</td>\n",
       "      <td>2019-01-01</td>\n",
       "      <td>87</td>\n",
       "      <td>2</td>\n",
       "      <td>0</td>\n",
       "      <td>NaN</td>\n",
       "      <td>0</td>\n",
       "      <td>53</td>\n",
       "      <td>NaN</td>\n",
       "      <td>...</td>\n",
       "      <td>32</td>\n",
       "      <td>&lt;NA&gt;</td>\n",
       "      <td>4</td>\n",
       "      <td>1</td>\n",
       "      <td>0</td>\n",
       "      <td>0</td>\n",
       "      <td>0</td>\n",
       "      <td>679</td>\n",
       "      <td>1807</td>\n",
       "      <td>0</td>\n",
       "    </tr>\n",
       "  </tbody>\n",
       "</table>\n",
       "<p>3 rows × 22 columns</p>\n",
       "</div>"
      ],
      "text/plain": [
       "   cpsc_case_number                                          narrative  \\\n",
       "0         190103269  94YOM FELL TO THE FLOOR AT THE NURSING HOME ON...   \n",
       "1         190103270  86YOM FELL IN THE SHOWER AT HOME AND SUSTAINED...   \n",
       "2         190103273  87YOF WAS GETTING UP FROM THE COUCH AND FELL T...   \n",
       "\n",
       "  treatment_date  age  sex  race other_race  hispanic  diagnosis  \\\n",
       "0     2019-01-01   94    1     0        NaN         0         62   \n",
       "1     2019-01-01   86    1     0        NaN         0         62   \n",
       "2     2019-01-01   87    2     0        NaN         0         53   \n",
       "\n",
       "  other_diagnosis  ...  body_part body_part_2  disposition  location  \\\n",
       "0             NaN  ...         75        <NA>            4         5   \n",
       "1             NaN  ...         75        <NA>            4         1   \n",
       "2             NaN  ...         32        <NA>            4         1   \n",
       "\n",
       "   fire_involvement  alcohol  drug  product_1  product_2  product_3  \n",
       "0                 0        0     0       1807          0          0  \n",
       "1                 0        0     0        611          0          0  \n",
       "2                 0        0     0        679       1807          0  \n",
       "\n",
       "[3 rows x 22 columns]"
      ]
     },
     "execution_count": 41,
     "metadata": {},
     "output_type": "execute_result"
    }
   ],
   "source": [
    "df.head(3)"
   ]
  },
  {
   "cell_type": "markdown",
   "id": "39e80fbe",
   "metadata": {},
   "source": [
    "#### Replace numeric values with corresponding strings"
   ]
  },
  {
   "cell_type": "code",
   "execution_count": 42,
   "id": "caec2a0b",
   "metadata": {},
   "outputs": [
    {
     "data": {
      "text/html": [
       "<div>\n",
       "<style scoped>\n",
       "    .dataframe tbody tr th:only-of-type {\n",
       "        vertical-align: middle;\n",
       "    }\n",
       "\n",
       "    .dataframe tbody tr th {\n",
       "        vertical-align: top;\n",
       "    }\n",
       "\n",
       "    .dataframe thead th {\n",
       "        text-align: right;\n",
       "    }\n",
       "</style>\n",
       "<table border=\"1\" class=\"dataframe\">\n",
       "  <thead>\n",
       "    <tr style=\"text-align: right;\">\n",
       "      <th></th>\n",
       "      <th>cpsc_case_number</th>\n",
       "      <th>narrative</th>\n",
       "      <th>treatment_date</th>\n",
       "      <th>age</th>\n",
       "      <th>sex</th>\n",
       "      <th>race</th>\n",
       "      <th>other_race</th>\n",
       "      <th>hispanic</th>\n",
       "      <th>diagnosis</th>\n",
       "      <th>other_diagnosis</th>\n",
       "      <th>...</th>\n",
       "      <th>body_part</th>\n",
       "      <th>body_part_2</th>\n",
       "      <th>disposition</th>\n",
       "      <th>location</th>\n",
       "      <th>fire_involvement</th>\n",
       "      <th>alcohol</th>\n",
       "      <th>drug</th>\n",
       "      <th>product_1</th>\n",
       "      <th>product_2</th>\n",
       "      <th>product_3</th>\n",
       "    </tr>\n",
       "  </thead>\n",
       "  <tbody>\n",
       "    <tr>\n",
       "      <th>0</th>\n",
       "      <td>190103269</td>\n",
       "      <td>94YOM FELL TO THE FLOOR AT THE NURSING HOME ON...</td>\n",
       "      <td>2019-01-01</td>\n",
       "      <td>94</td>\n",
       "      <td>MALE</td>\n",
       "      <td>N.S.</td>\n",
       "      <td>NaN</td>\n",
       "      <td>Unk/Not stated</td>\n",
       "      <td>62 - INTERNAL INJURY</td>\n",
       "      <td>NaN</td>\n",
       "      <td>...</td>\n",
       "      <td>75 - HEAD</td>\n",
       "      <td>NaN</td>\n",
       "      <td>4 - TREATED AND ADMITTED/HOSPITALIZED</td>\n",
       "      <td>PUBLIC</td>\n",
       "      <td>NO/?</td>\n",
       "      <td>No/Unk</td>\n",
       "      <td>No/Unk</td>\n",
       "      <td>1807 - FLOORS OR FLOORING MATERIALS</td>\n",
       "      <td>0 - None</td>\n",
       "      <td>0 - None</td>\n",
       "    </tr>\n",
       "  </tbody>\n",
       "</table>\n",
       "<p>1 rows × 22 columns</p>\n",
       "</div>"
      ],
      "text/plain": [
       "   cpsc_case_number                                          narrative  \\\n",
       "0         190103269  94YOM FELL TO THE FLOOR AT THE NURSING HOME ON...   \n",
       "\n",
       "  treatment_date  age   sex  race other_race        hispanic  \\\n",
       "0     2019-01-01   94  MALE  N.S.        NaN  Unk/Not stated   \n",
       "\n",
       "              diagnosis other_diagnosis  ...  body_part body_part_2  \\\n",
       "0  62 - INTERNAL INJURY             NaN  ...  75 - HEAD         NaN   \n",
       "\n",
       "                             disposition location fire_involvement alcohol  \\\n",
       "0  4 - TREATED AND ADMITTED/HOSPITALIZED   PUBLIC             NO/?  No/Unk   \n",
       "\n",
       "     drug                            product_1 product_2 product_3  \n",
       "0  No/Unk  1807 - FLOORS OR FLOORING MATERIALS  0 - None  0 - None  \n",
       "\n",
       "[1 rows x 22 columns]"
      ]
     },
     "execution_count": 42,
     "metadata": {},
     "output_type": "execute_result"
    }
   ],
   "source": [
    "decoded_df = df.copy()\n",
    "\n",
    "for col in mapping.keys():\n",
    "    decoded_df[col] = decoded_df[col].map(mapping[col])\n",
    "\n",
    "# Check on the df\n",
    "decoded_df.head(1)"
   ]
  },
  {
   "cell_type": "code",
   "execution_count": 43,
   "id": "79536b05",
   "metadata": {},
   "outputs": [],
   "source": [
    "# ensure mappings were applied correctly by checking that the number of missing values did not change\n",
    "assert (decoded_df.isnull().sum() == df.isnull().sum()).all()"
   ]
  },
  {
   "cell_type": "markdown",
   "id": "21866a57",
   "metadata": {},
   "source": [
    "Because the narrative text will be a main focus of this analysis, it deserves some investigation. First, create a column that holds how many characters are in each narrative text string."
   ]
  },
  {
   "cell_type": "code",
   "execution_count": 44,
   "id": "91610ec1",
   "metadata": {},
   "outputs": [],
   "source": [
    "# Add character length column\n",
    "decoded_df['narrative_characters'] = decoded_df['narrative'].str.len()"
   ]
  },
  {
   "cell_type": "code",
   "execution_count": 45,
   "id": "3c53a8bc",
   "metadata": {},
   "outputs": [],
   "source": [
    "# Save to file if one wants to come back at this point\n",
    "# decoded_df.to_csv(\"decoded_primary_data_with_char_lens.csv\")"
   ]
  },
  {
   "cell_type": "code",
   "execution_count": 46,
   "id": "3d5c7795",
   "metadata": {
    "scrolled": true
   },
   "outputs": [
    {
     "data": {
      "text/plain": [
       "<Axes: xlabel='narrative_characters', ylabel='Density'>"
      ]
     },
     "execution_count": 46,
     "metadata": {},
     "output_type": "execute_result"
    },
    {
     "data": {
      "image/png": "[encoded data removed]",
      "text/plain": [
       "<Figure size 640x480 with 1 Axes>"
      ]
     },
     "metadata": {},
     "output_type": "display_data"
    }
   ],
   "source": [
    "# Exploratory plot of distribution\n",
    "sns.kdeplot(decoded_df['narrative_characters'])"
   ]
  },
  {
   "cell_type": "markdown",
   "id": "9d1d028e",
   "metadata": {},
   "source": [
    "Find the value that occurs most frequently, called the mode, which is the point at the top of the curve. Also find the 25%, 50% (median) and 75% quantiles of the distribution."
   ]
  },
  {
   "cell_type": "code",
   "execution_count": 47,
   "id": "c751a1ec",
   "metadata": {
    "scrolled": true
   },
   "outputs": [
    {
     "name": "stdout",
     "output_type": "stream",
     "text": [
      "0    88\n",
      "Name: narrative_characters, dtype: int64\n",
      "[ 80. 107. 148.]\n"
     ]
    }
   ],
   "source": [
    "print(decoded_df['narrative_characters'].mode())\n",
    "print(np.quantile(a=decoded_df['narrative_characters'], q = [0.25,0.5,0.75]))"
   ]
  },
  {
   "cell_type": "markdown",
   "id": "4a2cb266",
   "metadata": {},
   "source": [
    "I'll add text annotation that gives examples of narrative entries at the different quantiles."
   ]
  },
  {
   "cell_type": "code",
   "execution_count": 48,
   "id": "33cd52f4",
   "metadata": {
    "scrolled": true
   },
   "outputs": [
    {
     "data": {
      "image/png": "[encoded data removed]",
      "text/plain": [
       "<Figure size 1200x500 with 1 Axes>"
      ]
     },
     "metadata": {},
     "output_type": "display_data"
    }
   ],
   "source": [
    "fig, ax = plt.subplots(figsize=(12,5))\n",
    "sns.kdeplot(decoded_df['narrative_characters'], fill = True, color = 'burlywood')\n",
    "plt.axvline(x=148, color = 'mediumslateblue')\n",
    "ax.annotate('71YOF, TRIPPED&FELL IN THE DRIVEWAY WHILE CHASING AFTER 2YO CHILD\\nIN MINI CAR VS SCOOTER, DX: MULTIPLE ORBITAL BONES FRACTURES', xy=(148, 0.0042), xytext=(157, 0.005),\n",
    "            arrowprops=dict(facecolor='#4d4d4d', shrink=0.05, linewidth=0.1), wrap = True, fontsize=10, fontweight = 'bold',\n",
    "            bbox=dict(boxstyle='round,pad=0.3', edgecolor='none', facecolor='#e8e3f9'))\n",
    "plt.axvline(x=107, color = 'red')\n",
    "ax.annotate('75YOF WITH FALL ON OUTSIDE STEPS LEADING HER BLIND DOG\\nUP STEPS  DX: FRACTURED UPPER SPINE', xy=(107, 0.0084), xytext=(125, 0.0089),\n",
    "            arrowprops=dict(facecolor='#4d4d4d', shrink=0.05, linewidth=0.1), wrap = True, fontsize=10,fontweight = 'bold',\n",
    "            bbox=dict(boxstyle='round,pad=0.3', edgecolor='none', facecolor='#ffc1da'))\n",
    "plt.axvline(x=80, color = 'mediumseagreen')\n",
    "ax.annotate('92YOF FELL OFF THE COUCH TO THE\\nFLOOR AT HOME DX: HIP FRACTURE', xy=(80, 0.0091), xytext=(70, 0.0095),\n",
    "            arrowprops=dict(facecolor='#4d4d4d', shrink=0.05, linewidth=0.1), \n",
    "            horizontalalignment='right', verticalalignment='top', wrap = True, fontsize=10,fontweight = 'bold',\n",
    "            bbox=dict(boxstyle='round,pad=0.3', edgecolor='none', facecolor='#c5f2da'))\n",
    "ax.set_ylim(0, 0.01)\n",
    "ax.set_xlabel(\"Narrative characters\", fontsize = 14,fontweight = 'bold')\n",
    "ax.set_ylabel(\"Density\", fontsize = 14,fontweight = 'bold')\n",
    "ax.tick_params(labelsize=12)\n",
    "plt.savefig(\"Character_length_plot.pdf\", format=\"pdf\")\n",
    "plt.show()"
   ]
  },
  {
   "cell_type": "markdown",
   "id": "d77c1651",
   "metadata": {},
   "source": [
    "## Narrative manipulation\n",
    "Many abbreviations are used in the clinical text. For those writing the narrative, this saves time and space. Only 400 characters are allowed. However, to make it easier for us to read and for the NLP tools to 'understand', I'll convert some of the commonly used abbreviations into actual words. Additionally, there are frequent cases of lack of spacing between words. I'll fix that, too.  \n",
    "\n",
    "Most of the dictionary of medical terms as well as the `clean_narrative` function came from another contest participant. I changed and added a few terms and changed and added to some of the function code."
   ]
  },
  {
   "cell_type": "code",
   "execution_count": 49,
   "id": "905ad99e",
   "metadata": {},
   "outputs": [],
   "source": [
    "medical_terms = {\n",
    "    \"&\": \"and\",\n",
    "    \"***\": \"\",\n",
    "    \">>\": \"clinical diagnosis\",\n",
    "    \"@\": \"at\",\n",
    "    \"+\": \"with\",\n",
    "    \"?\": \"unknown if\",\n",
    "    \"abd\": \"abdomen\",\n",
    "    \"af\": \"accidental fall\",\n",
    "    \"afib\": \"atrial fibrillation\",\n",
    "    \"alf\": \"assisted living facility\",\n",
    "    \"aki\": \"acute kidney injury\",\n",
    "    \"am\": \"morning\",\n",
    "    \"ams\": \"altered mental status\",\n",
    "    \"bac\": \"blood alcohol content\",\n",
    "    \"biba\": \"brought in by ambulance\",\n",
    "    \"bwd\": \"backwards\",\n",
    "    \"c/o\": \"complains of\",\n",
    "    \"chi\": \"closed-head injury\",\n",
    "    \"clsd\": \"closed\",\n",
    "    \"cpk\": \"creatine phosphokinase\",\n",
    "    \"cva\": \"cerebral vascular accident\",\n",
    "    \"dn\": \"down\",\n",
    "    \"dtr\": \"daughter\",\n",
    "    \"dx\": \"clinical diagnosis\",\n",
    "    \"ecf\": \"extended care facility\",\n",
    "    \"er\": \"emergency room\",\n",
    "    \"etoh\": \"ethyl alcohol\",\n",
    "    \"eval\": \"evaluation\",\n",
    "    \"fd\": \"found\",\n",
    "    \"ft\": \"foot\",\n",
    "    \"fx\": \"fracture\",\n",
    "    \"fxs\": \"fractures\",\n",
    "    \"fwd\": \"forwards\",\n",
    "    \"glf\": \"ground level fall\",\n",
    "    \"h/o\": \"history of\",\n",
    "    \"hr\": \"hours\",\n",
    "    \"htn\": \"hypertension\",\n",
    "    \"hx\": \"history of\",\n",
    "    \"inj\": \"injury\",\n",
    "    \"inr\": \"international normalized ratio\",\n",
    "    \"intox\": \"intoxication\",\n",
    "    \"lac\": \"laceration\",\n",
    "    \"loc\": \"loss of consciousness\",\n",
    "    \"lt\": \"left\",\n",
    "    \"mech\": \"mechanical\",\n",
    "    \"mult\": \"multiple\",\n",
    "    \"n h \": \"nursing home\",\n",
    "    \"nh\": \"nursing home\",\n",
    "    \"p/w\": \"presents with\",\n",
    "    \"pm\": \"afternoon\",\n",
    "    \"pt\": \"patient\",\n",
    "    \"pta\": \"prior to arrival\",\n",
    "    \"pts\": \"patient's\",\n",
    "    \"px\": \"physical examination\", # not \"procedure\",\n",
    "    \"r/o\": \"rules out\",\n",
    "    \"rt\": \"right\",\n",
    "    \"s/p\": \"after\",\n",
    "    \"sah\": \"subarachnoid hemorrhage\",\n",
    "    \"sdh\": \"acute subdural hematoma\",\n",
    "    \"sts\": \"sit to stand\",\n",
    "    \"tr\": \"trauma\",\n",
    "    \"uti\": \"urinary tract infection\",\n",
    "    \"unwit'd\": \"unwitnessed\",\n",
    "    \"w/o\": \"without\",\n",
    "    \"w/\": \"with\",\n",
    "    \"wks\": \"weeks\"\n",
    "}\n",
    "\n",
    "def add_space_after(text, target=\",\"):\n",
    "    replaced_text = re.sub(r'({})(\\S)'.format(re.escape(target)), r'{} \\2'.format(target),text)\n",
    "    return replaced_text\n",
    "\n",
    "def add_space_before(text, target=\",\"):\n",
    "    replaced_text = re.sub(r'(\\S)({})'.format(re.escape(target)), r'\\1 {}'.format(target), text)\n",
    "    return replaced_text\n",
    "\n",
    "# cleanning\n",
    "def clean_narrative(text):\n",
    "    # lowercase everything\n",
    "    if pd.isna(text):\n",
    "        return \"NA\"\n",
    "    else:     \n",
    "        text = text.lower()\n",
    "        \n",
    "        # unglue DX\n",
    "        regex_dx = r\"([ˆ\\W]*(dx)[ˆ\\W]*)\"\n",
    "        text = re.sub(regex_dx, r\". dx: \", text)\n",
    "    \n",
    "        # remove age and sex identifications\n",
    "        ## regex to capture age and sex (not perfect but captures almost all of the cases)\n",
    "        regex_age_sex = r\"(\\d+)\\s*?(yof|yf|yo\\s*female|yo\\s*f|yom|ym|yo\\s*male|yo\\s*m)\"\n",
    "        age_sex_match = re.search(regex_age_sex, text)\n",
    "    \n",
    "        ## format age and sex\n",
    "        if age_sex_match:\n",
    "            age = age_sex_match.group(1)\n",
    "            sex = age_sex_match.group(2)\n",
    "            \n",
    "            # probably not best practice but it works with this data\n",
    "            if \"f\" in sex:\n",
    "                #text = text.replace(age_sex_match.group(0), f\"{age} years old female\")\n",
    "                text = text.replace(age_sex_match.group(0), f\"patient\")\n",
    "            elif \"m\" in sex:\n",
    "                #text = text.replace(age_sex_match.group(0), f\"{age} years old male\")\n",
    "                text = text.replace(age_sex_match.group(0), f\"patient\")\n",
    "                \n",
    "        text = add_space_after(text, target=\",\") \n",
    "        text = add_space_after(text, target=\";\") \n",
    "        text = add_space_after(text, target=\":\") \n",
    "        text = add_space_before(text, target=\"--\")  \n",
    "        text = add_space_after(text, target=\"--\")\n",
    "        text = re.sub(\"-\", \" \", text)\n",
    "        text = re.sub(r\"([0-9]+(\\.[0-9]+)?)\",r\" \\1 \", text).strip()\n",
    "        text = re.sub(\"\\.\", \" \", text)\n",
    "        \n",
    "        # The below two are separated from the dictionary because of the '&' character conflict\n",
    "        #   with the translate medical terms section use of '&'\n",
    "        text = re.sub(\"t'd&f\", \"tripped and fell\", text)\n",
    "        text = re.sub(\"s'd&f\", \"slipped and fell\",text)     \n",
    "    \n",
    "        \n",
    "        # translate medical terms\n",
    "        for term, replacement in medical_terms.items():\n",
    "            if term == \"@\" or term == \">>\" or term == \"&\" or term == \"***\" or term == \"+\" or term == \"?\":\n",
    "                pattern = fr\"({re.escape(term)})\"\n",
    "                text = re.sub(pattern, f\" {replacement} \", text) # force spaces around replacement\n",
    "                \n",
    "            else:\n",
    "                pattern = fr\"(?<!-)\\b({re.escape(term)})\\b(?!-)\"\n",
    "                text = re.sub(pattern, replacement, text)\n",
    "                            \n",
    "        # This done after translate medical terms because some use a '/'\n",
    "        text = add_space_before(text, target=\"/\")  \n",
    "        text = add_space_after(text, target=\"/\")\n",
    "        \n",
    "        # remove extra white spaces\n",
    "        text = re.sub(r'\\s+', ' ', text)\n",
    "    \n",
    "        return text.upper()"
   ]
  },
  {
   "cell_type": "markdown",
   "id": "f6314b00",
   "metadata": {},
   "source": [
    "Check how well that function works to change some complex example narrative text."
   ]
  },
  {
   "cell_type": "code",
   "execution_count": 50,
   "id": "f066fd40",
   "metadata": {},
   "outputs": [
    {
     "name": "stdout",
     "output_type": "stream",
     "text": [
      "Original text: 72 YOF SLIPPED&FELL OFF 4FT LADDER ONTO THE FLOOR THIS AM DTR FD DN+LOC>>L-3, L-4 FRACTURE, RT RIB FRACTURES X 3\n",
      "Clean text: PATIENT SLIPPED AND FELL OFF 4 FOOT LADDER ONTO THE FLOOR THIS MORNING DAUGHTER FOUND DOWN WITH LOSS OF CONSCIOUSNESS CLINICAL DIAGNOSIS L 3 , L 4 FRACTURE, RIGHT RIB FRACTURES X 3\n"
     ]
    }
   ],
   "source": [
    "text = '72 YOF SLIPPED&FELL OFF 4FT LADDER ONTO THE FLOOR THIS AM DTR FD DN+LOC>>L-3, L-4 FRACTURE, RT RIB FRACTURES X 3'\n",
    "print(\"Original text:\", text)\n",
    "print(\"Clean text:\", clean_narrative(text))"
   ]
  },
  {
   "cell_type": "markdown",
   "id": "20fecb57",
   "metadata": {},
   "source": [
    "While it would probably be better for things like \"L3\" to remain together, I will sacrifice that for the easy advantage of separaing other number-character strings that would be better off separated.  \n",
    "\n",
    "Proceed with processing all narratives in the data."
   ]
  },
  {
   "cell_type": "code",
   "execution_count": 51,
   "id": "75994c5c",
   "metadata": {},
   "outputs": [],
   "source": [
    "# Subset the data to just case id and narrative strings\n",
    "df_narratives = df.iloc[:, 0:2]\n",
    "\n",
    "# Apply the text cleaning function to all narrative entries\n",
    "df_narratives['narrative'] = df_narratives['narrative'].apply(lambda x: clean_narrative(x))"
   ]
  },
  {
   "cell_type": "code",
   "execution_count": 52,
   "id": "eff6756d",
   "metadata": {},
   "outputs": [
    {
     "data": {
      "text/html": [
       "<div>\n",
       "<style scoped>\n",
       "    .dataframe tbody tr th:only-of-type {\n",
       "        vertical-align: middle;\n",
       "    }\n",
       "\n",
       "    .dataframe tbody tr th {\n",
       "        vertical-align: top;\n",
       "    }\n",
       "\n",
       "    .dataframe thead th {\n",
       "        text-align: right;\n",
       "    }\n",
       "</style>\n",
       "<table border=\"1\" class=\"dataframe\">\n",
       "  <thead>\n",
       "    <tr style=\"text-align: right;\">\n",
       "      <th></th>\n",
       "      <th>cpsc_case_number</th>\n",
       "      <th>narrative</th>\n",
       "      <th>narrative_original</th>\n",
       "      <th>treatment_date</th>\n",
       "      <th>age</th>\n",
       "      <th>sex</th>\n",
       "      <th>race</th>\n",
       "      <th>other_race</th>\n",
       "      <th>hispanic</th>\n",
       "      <th>diagnosis</th>\n",
       "      <th>...</th>\n",
       "      <th>body_part_2</th>\n",
       "      <th>disposition</th>\n",
       "      <th>location</th>\n",
       "      <th>fire_involvement</th>\n",
       "      <th>alcohol</th>\n",
       "      <th>drug</th>\n",
       "      <th>product_1</th>\n",
       "      <th>product_2</th>\n",
       "      <th>product_3</th>\n",
       "      <th>narrative_characters</th>\n",
       "    </tr>\n",
       "  </thead>\n",
       "  <tbody>\n",
       "    <tr>\n",
       "      <th>0</th>\n",
       "      <td>190103269</td>\n",
       "      <td>PATIENT FELL TO THE FLOOR AT THE NURSING HOME ...</td>\n",
       "      <td>94YOM FELL TO THE FLOOR AT THE NURSING HOME ON...</td>\n",
       "      <td>2019-01-01</td>\n",
       "      <td>94</td>\n",
       "      <td>MALE</td>\n",
       "      <td>N.S.</td>\n",
       "      <td>NaN</td>\n",
       "      <td>Unk/Not stated</td>\n",
       "      <td>62 - INTERNAL INJURY</td>\n",
       "      <td>...</td>\n",
       "      <td>NaN</td>\n",
       "      <td>4 - TREATED AND ADMITTED/HOSPITALIZED</td>\n",
       "      <td>PUBLIC</td>\n",
       "      <td>NO/?</td>\n",
       "      <td>No/Unk</td>\n",
       "      <td>No/Unk</td>\n",
       "      <td>1807 - FLOORS OR FLOORING MATERIALS</td>\n",
       "      <td>0 - None</td>\n",
       "      <td>0 - None</td>\n",
       "      <td>91</td>\n",
       "    </tr>\n",
       "    <tr>\n",
       "      <th>1</th>\n",
       "      <td>190103270</td>\n",
       "      <td>PATIENT FELL IN THE SHOWER AT HOME AND SUSTAIN...</td>\n",
       "      <td>86YOM FELL IN THE SHOWER AT HOME AND SUSTAINED...</td>\n",
       "      <td>2019-01-01</td>\n",
       "      <td>86</td>\n",
       "      <td>MALE</td>\n",
       "      <td>N.S.</td>\n",
       "      <td>NaN</td>\n",
       "      <td>Unk/Not stated</td>\n",
       "      <td>62 - INTERNAL INJURY</td>\n",
       "      <td>...</td>\n",
       "      <td>NaN</td>\n",
       "      <td>4 - TREATED AND ADMITTED/HOSPITALIZED</td>\n",
       "      <td>HOME</td>\n",
       "      <td>NO/?</td>\n",
       "      <td>No/Unk</td>\n",
       "      <td>No/Unk</td>\n",
       "      <td>611 - BATHTUBS OR SHOWERS</td>\n",
       "      <td>0 - None</td>\n",
       "      <td>0 - None</td>\n",
       "      <td>67</td>\n",
       "    </tr>\n",
       "  </tbody>\n",
       "</table>\n",
       "<p>2 rows × 24 columns</p>\n",
       "</div>"
      ],
      "text/plain": [
       "   cpsc_case_number                                          narrative  \\\n",
       "0         190103269  PATIENT FELL TO THE FLOOR AT THE NURSING HOME ...   \n",
       "1         190103270  PATIENT FELL IN THE SHOWER AT HOME AND SUSTAIN...   \n",
       "\n",
       "                                  narrative_original treatment_date  age  \\\n",
       "0  94YOM FELL TO THE FLOOR AT THE NURSING HOME ON...     2019-01-01   94   \n",
       "1  86YOM FELL IN THE SHOWER AT HOME AND SUSTAINED...     2019-01-01   86   \n",
       "\n",
       "    sex  race other_race        hispanic             diagnosis  ...  \\\n",
       "0  MALE  N.S.        NaN  Unk/Not stated  62 - INTERNAL INJURY  ...   \n",
       "1  MALE  N.S.        NaN  Unk/Not stated  62 - INTERNAL INJURY  ...   \n",
       "\n",
       "  body_part_2                            disposition location  \\\n",
       "0         NaN  4 - TREATED AND ADMITTED/HOSPITALIZED   PUBLIC   \n",
       "1         NaN  4 - TREATED AND ADMITTED/HOSPITALIZED     HOME   \n",
       "\n",
       "  fire_involvement alcohol    drug                            product_1  \\\n",
       "0             NO/?  No/Unk  No/Unk  1807 - FLOORS OR FLOORING MATERIALS   \n",
       "1             NO/?  No/Unk  No/Unk            611 - BATHTUBS OR SHOWERS   \n",
       "\n",
       "  product_2 product_3 narrative_characters  \n",
       "0  0 - None  0 - None                   91  \n",
       "1  0 - None  0 - None                   67  \n",
       "\n",
       "[2 rows x 24 columns]"
      ]
     },
     "execution_count": 52,
     "metadata": {},
     "output_type": "execute_result"
    }
   ],
   "source": [
    "# Rename original narrative column in the decoded df\n",
    "df_nn = decoded_df.rename(columns={\"narrative\": \"narrative_original\"})\n",
    "\n",
    "# Merge the modified narratives with the decoded dataframe\n",
    "df_final = pd.merge(df_narratives, df_nn, on=\"cpsc_case_number\", how=\"left\")\n",
    "\n",
    "# Check head to verify\n",
    "df_final.head(2)"
   ]
  },
  {
   "cell_type": "code",
   "execution_count": 53,
   "id": "ec04262e",
   "metadata": {},
   "outputs": [],
   "source": [
    "# Save to file if one wants to come back at this point\n",
    "# df_final.to_csv(\"corrected_narrative_primary.csv\", index=False)"
   ]
  },
  {
   "cell_type": "markdown",
   "id": "be0e710b",
   "metadata": {},
   "source": [
    "## Model training"
   ]
  },
  {
   "cell_type": "markdown",
   "id": "5e91e26a-632b-4f0a-bc62-a4ab88f338b5",
   "metadata": {},
   "source": [
    "To built a labeled training set myself. First, I manually labeled ~400 narrative cases. With that I trained an initial model. Following that, I iteratively applied the model to predict labeled spans, manually corrected the predictions, and then used the compiled labeled set to train a new model. At the same time, I modified my choice of span categories to label, sometimes adding sometimes removing categories. Honestly, it was not a very straight line approach, but I learned as I went along what categories were 'working' and contained information that would be useful in a final analysis."
   ]
  },
  {
   "cell_type": "markdown",
   "id": "17ddf13e",
   "metadata": {},
   "source": [
    "I took a random sample for the purposes of building and testing labels"
   ]
  },
  {
   "cell_type": "code",
   "execution_count": 54,
   "id": "8079f9c5",
   "metadata": {},
   "outputs": [
    {
     "data": {
      "text/html": [
       "<div>\n",
       "<style scoped>\n",
       "    .dataframe tbody tr th:only-of-type {\n",
       "        vertical-align: middle;\n",
       "    }\n",
       "\n",
       "    .dataframe tbody tr th {\n",
       "        vertical-align: top;\n",
       "    }\n",
       "\n",
       "    .dataframe thead th {\n",
       "        text-align: right;\n",
       "    }\n",
       "</style>\n",
       "<table border=\"1\" class=\"dataframe\">\n",
       "  <thead>\n",
       "    <tr style=\"text-align: right;\">\n",
       "      <th></th>\n",
       "      <th>cpsc_case_number</th>\n",
       "      <th>narrative</th>\n",
       "    </tr>\n",
       "  </thead>\n",
       "  <tbody>\n",
       "    <tr>\n",
       "      <th>80147</th>\n",
       "      <td>220302739</td>\n",
       "      <td>PATIENT WAS SITTING IN A WHEELCHAIR LEANING FO...</td>\n",
       "    </tr>\n",
       "    <tr>\n",
       "      <th>48158</th>\n",
       "      <td>210101788</td>\n",
       "      <td>PATIENT WAS PLAYING WITH HER GRANDCHILD WHEN S...</td>\n",
       "    </tr>\n",
       "  </tbody>\n",
       "</table>\n",
       "</div>"
      ],
      "text/plain": [
       "       cpsc_case_number                                          narrative\n",
       "80147         220302739  PATIENT WAS SITTING IN A WHEELCHAIR LEANING FO...\n",
       "48158         210101788  PATIENT WAS PLAYING WITH HER GRANDCHILD WHEN S..."
      ]
     },
     "execution_count": 54,
     "metadata": {},
     "output_type": "execute_result"
    }
   ],
   "source": [
    "random_sample = df_final.sample(n=5000, replace=False, random_state=42)\n",
    "\n",
    "# Subset to just first two columns containing case # and narrative\n",
    "random_sample_sub = random_sample.iloc[:,0:2]\n",
    "\n",
    "# Check the result\n",
    "random_sample_sub.head(2)"
   ]
  },
  {
   "cell_type": "code",
   "execution_count": 55,
   "id": "5628b143-9f57-4b01-9e39-0846c0f2dd48",
   "metadata": {
    "scrolled": true,
    "tags": []
   },
   "outputs": [
    {
     "data": {
      "text/html": [
       "<div>\n",
       "<style scoped>\n",
       "    .dataframe tbody tr th:only-of-type {\n",
       "        vertical-align: middle;\n",
       "    }\n",
       "\n",
       "    .dataframe tbody tr th {\n",
       "        vertical-align: top;\n",
       "    }\n",
       "\n",
       "    .dataframe thead th {\n",
       "        text-align: right;\n",
       "    }\n",
       "</style>\n",
       "<table border=\"1\" class=\"dataframe\">\n",
       "  <thead>\n",
       "    <tr style=\"text-align: right;\">\n",
       "      <th></th>\n",
       "      <th>cpsc_case_number</th>\n",
       "      <th>narrative</th>\n",
       "      <th>span</th>\n",
       "      <th>label</th>\n",
       "    </tr>\n",
       "  </thead>\n",
       "  <tbody>\n",
       "    <tr>\n",
       "      <th>0</th>\n",
       "      <td>220619387</td>\n",
       "      <td>PATIENT TRIPPED ON CARPET, FELL BACKWARDS HIT ...</td>\n",
       "      <td>HIT HEAD ON FLOOR</td>\n",
       "      <td>SF</td>\n",
       "    </tr>\n",
       "    <tr>\n",
       "      <th>1</th>\n",
       "      <td>220619387</td>\n",
       "      <td>PATIENT TRIPPED ON CARPET, FELL BACKWARDS HIT ...</td>\n",
       "      <td>TRIPPED ON CARPET</td>\n",
       "      <td>OBJ</td>\n",
       "    </tr>\n",
       "  </tbody>\n",
       "</table>\n",
       "</div>"
      ],
      "text/plain": [
       "   cpsc_case_number                                          narrative  \\\n",
       "0         220619387  PATIENT TRIPPED ON CARPET, FELL BACKWARDS HIT ...   \n",
       "1         220619387  PATIENT TRIPPED ON CARPET, FELL BACKWARDS HIT ...   \n",
       "\n",
       "                span label  \n",
       "0  HIT HEAD ON FLOOR    SF  \n",
       "1  TRIPPED ON CARPET   OBJ  "
      ]
     },
     "execution_count": 55,
     "metadata": {},
     "output_type": "execute_result"
    }
   ],
   "source": [
    "labeled_sets = pd.read_csv('secondary_data/labeled_training_data.csv')\n",
    "labeled_sets.head(2)"
   ]
  },
  {
   "cell_type": "markdown",
   "id": "32cfc3bb",
   "metadata": {},
   "source": [
    "Check how long the imported data frame is"
   ]
  },
  {
   "cell_type": "code",
   "execution_count": 56,
   "id": "b6b1b2dc",
   "metadata": {},
   "outputs": [
    {
     "data": {
      "text/plain": [
       "1843"
      ]
     },
     "execution_count": 56,
     "metadata": {},
     "output_type": "execute_result"
    }
   ],
   "source": [
    "len(labeled_sets)"
   ]
  },
  {
   "cell_type": "markdown",
   "id": "fe3c1560",
   "metadata": {},
   "source": [
    "Check how many unique cases are contained in the data set"
   ]
  },
  {
   "cell_type": "code",
   "execution_count": 57,
   "id": "c4489540-39a1-4ac2-90a9-b823642f9c3f",
   "metadata": {
    "tags": []
   },
   "outputs": [
    {
     "data": {
      "text/plain": [
       "1635"
      ]
     },
     "execution_count": 57,
     "metadata": {},
     "output_type": "execute_result"
    }
   ],
   "source": [
    "key_list = labeled_sets.cpsc_case_number.unique()\n",
    "len(key_list)"
   ]
  },
  {
   "cell_type": "markdown",
   "id": "f6860817",
   "metadata": {},
   "source": [
    "Check how many cases in the training set have no labeled span. (Note, this is also an important component of one's training set!)"
   ]
  },
  {
   "cell_type": "code",
   "execution_count": 58,
   "id": "c65d9a2b",
   "metadata": {},
   "outputs": [
    {
     "data": {
      "text/plain": [
       "423"
      ]
     },
     "execution_count": 58,
     "metadata": {},
     "output_type": "execute_result"
    }
   ],
   "source": [
    "labeled_sets['span'].isna().sum()"
   ]
  },
  {
   "cell_type": "markdown",
   "id": "ae49848c",
   "metadata": {},
   "source": [
    "The following chunk of code goes through the labeled training set, processing it to be a list of Spacy doc objects."
   ]
  },
  {
   "cell_type": "code",
   "execution_count": 59,
   "id": "80aca9ed",
   "metadata": {},
   "outputs": [
    {
     "name": "stdout",
     "output_type": "stream",
     "text": [
      "temp_df has length > 1\n",
      "this entry has no label\n",
      "this entry has no label\n",
      "temp_df has length > 1\n",
      "this entry has no label\n",
      "temp_df has length > 1\n",
      "this entry has no label\n",
      "temp_df has length > 1\n",
      "temp_df has length > 1\n",
      "this entry has no label\n",
      "this entry has no label\n",
      "temp_df has length > 1\n",
      "this entry has no label\n",
      "temp_df has length > 1\n",
      "temp_df has length > 1\n",
      "temp_df has length > 1\n",
      "temp_df has length > 1\n",
      "temp_df has length > 1\n",
      "this entry has no label\n",
      "this entry has no label\n",
      "this entry has no label\n",
      "this entry has no label\n",
      "temp_df has length > 1\n",
      "this entry has no label\n",
      "this entry has no label\n",
      "this entry has no label\n",
      "this entry has no label\n",
      "this entry has no label\n",
      "temp_df has length > 1\n",
      "this entry has no label\n",
      "this entry has no label\n",
      "this entry has no label\n",
      "this entry has no label\n",
      "this entry has no label\n",
      "this entry has no label\n",
      "temp_df has length > 1\n",
      "temp_df has length > 1\n",
      "this entry has no label\n",
      "this entry has no label\n",
      "temp_df has length > 1\n",
      "this entry has no label\n",
      "this entry has no label\n",
      "temp_df has length > 1\n",
      "this entry has no label\n",
      "temp_df has length > 1\n",
      "this entry has no label\n",
      "this entry has no label\n",
      "this entry has no label\n",
      "temp_df has length > 1\n",
      "temp_df has length > 1\n",
      "this entry has no label\n",
      "this entry has no label\n",
      "this entry has no label\n",
      "this entry has no label\n",
      "temp_df has length > 1\n",
      "this entry has no label\n",
      "this entry has no label\n",
      "temp_df has length > 1\n",
      "this entry has no label\n",
      "this entry has no label\n",
      "temp_df has length > 1\n",
      "this entry has no label\n",
      "this entry has no label\n",
      "this entry has no label\n",
      "this entry has no label\n",
      "this entry has no label\n",
      "this entry has no label\n",
      "this entry has no label\n",
      "this entry has no label\n",
      "this entry has no label\n",
      "this entry has no label\n",
      "this entry has no label\n",
      "temp_df has length > 1\n",
      "this entry has no label\n",
      "this entry has no label\n",
      "this entry has no label\n",
      "this entry has no label\n",
      "temp_df has length > 1\n",
      "temp_df has length > 1\n",
      "this entry has no label\n",
      "this entry has no label\n",
      "this entry has no label\n",
      "temp_df has length > 1\n",
      "temp_df has length > 1\n",
      "temp_df has length > 1\n",
      "temp_df has length > 1\n",
      "temp_df has length > 1\n",
      "temp_df has length > 1\n",
      "this entry has no label\n",
      "temp_df has length > 1\n",
      "this entry has no label\n",
      "temp_df has length > 1\n",
      "this entry has no label\n",
      "temp_df has length > 1\n",
      "temp_df has length > 1\n",
      "temp_df has length > 1\n",
      "temp_df has length > 1\n",
      "temp_df has length > 1\n",
      "temp_df has length > 1\n",
      "temp_df has length > 1\n",
      "temp_df has length > 1\n",
      "this entry has no label\n",
      "this entry has no label\n",
      "this entry has no label\n",
      "this entry has no label\n",
      "this entry has no label\n",
      "temp_df has length > 1\n",
      "this entry has no label\n",
      "temp_df has length > 1\n",
      "this entry has no label\n",
      "temp_df has length > 1\n",
      "this entry has no label\n",
      "this entry has no label\n",
      "this entry has no label\n",
      "this entry has no label\n",
      "temp_df has length > 1\n",
      "this entry has no label\n",
      "this entry has no label\n",
      "this entry has no label\n",
      "this entry has no label\n",
      "this entry has no label\n",
      "temp_df has length > 1\n",
      "this entry has no label\n",
      "this entry has no label\n",
      "temp_df has length > 1\n",
      "temp_df has length > 1\n",
      "this entry has no label\n",
      "temp_df has length > 1\n",
      "temp_df has length > 1\n",
      "this entry has no label\n",
      "this entry has no label\n",
      "this entry has no label\n",
      "this entry has no label\n",
      "temp_df has length > 1\n",
      "temp_df has length > 1\n",
      "temp_df has length > 1\n",
      "this entry has no label\n",
      "this entry has no label\n",
      "temp_df has length > 1\n",
      "temp_df has length > 1\n",
      "this entry has no label\n",
      "this entry has no label\n",
      "this entry has no label\n",
      "this entry has no label\n",
      "this entry has no label\n",
      "this entry has no label\n",
      "this entry has no label\n",
      "this entry has no label\n",
      "temp_df has length > 1\n",
      "this entry has no label\n",
      "this entry has no label\n",
      "this entry has no label\n",
      "this entry has no label\n",
      "this entry has no label\n",
      "this entry has no label\n",
      "this entry has no label\n",
      "this entry has no label\n",
      "this entry has no label\n",
      "this entry has no label\n",
      "this entry has no label\n",
      "this entry has no label\n",
      "temp_df has length > 1\n",
      "this entry has no label\n",
      "this entry has no label\n",
      "temp_df has length > 1\n",
      "temp_df has length > 1\n",
      "this entry has no label\n",
      "temp_df has length > 1\n",
      "temp_df has length > 1\n",
      "this entry has no label\n",
      "this entry has no label\n",
      "this entry has no label\n",
      "this entry has no label\n",
      "this entry has no label\n",
      "temp_df has length > 1\n",
      "this entry has no label\n",
      "this entry has no label\n",
      "this entry has no label\n",
      "temp_df has length > 1\n",
      "this entry has no label\n",
      "this entry has no label\n",
      "this entry has no label\n",
      "this entry has no label\n",
      "this entry has no label\n",
      "this entry has no label\n",
      "this entry has no label\n",
      "this entry has no label\n",
      "temp_df has length > 1\n",
      "this entry has no label\n",
      "temp_df has length > 1\n",
      "this entry has no label\n",
      "this entry has no label\n",
      "this entry has no label\n",
      "this entry has no label\n",
      "temp_df has length > 1\n",
      "temp_df has length > 1\n",
      "this entry has no label\n",
      "this entry has no label\n",
      "temp_df has length > 1\n",
      "temp_df has length > 1\n",
      "this entry has no label\n",
      "temp_df has length > 1\n",
      "temp_df has length > 1\n",
      "this entry has no label\n",
      "this entry has no label\n",
      "temp_df has length > 1\n",
      "this entry has no label\n",
      "this entry has no label\n",
      "this entry has no label\n",
      "temp_df has length > 1\n",
      "this entry has no label\n",
      "this entry has no label\n",
      "this entry has no label\n",
      "this entry has no label\n",
      "this entry has no label\n",
      "this entry has no label\n",
      "temp_df has length > 1\n",
      "this entry has no label\n",
      "temp_df has length > 1\n",
      "this entry has no label\n",
      "this entry has no label\n",
      "this entry has no label\n",
      "this entry has no label\n",
      "this entry has no label\n",
      "this entry has no label\n",
      "temp_df has length > 1\n",
      "this entry has no label\n",
      "this entry has no label\n",
      "temp_df has length > 1\n",
      "this entry has no label\n",
      "this entry has no label\n",
      "this entry has no label\n",
      "this entry has no label\n",
      "temp_df has length > 1\n",
      "this entry has no label\n",
      "this entry has no label\n",
      "this entry has no label\n",
      "this entry has no label\n",
      "this entry has no label\n",
      "this entry has no label\n",
      "this entry has no label\n",
      "this entry has no label\n",
      "this entry has no label\n",
      "temp_df has length > 1\n",
      "this entry has no label\n",
      "temp_df has length > 1\n",
      "temp_df has length > 1\n",
      "temp_df has length > 1\n",
      "this entry has no label\n",
      "temp_df has length > 1\n",
      "this entry has no label\n",
      "this entry has no label\n",
      "temp_df has length > 1\n",
      "this entry has no label\n",
      "temp_df has length > 1\n",
      "this entry has no label\n",
      "this entry has no label\n",
      "this entry has no label\n",
      "temp_df has length > 1\n",
      "temp_df has length > 1\n",
      "this entry has no label\n",
      "this entry has no label\n",
      "this entry has no label\n",
      "temp_df has length > 1\n",
      "temp_df has length > 1\n",
      "this entry has no label\n",
      "temp_df has length > 1\n",
      "this entry has no label\n",
      "this entry has no label\n",
      "this entry has no label\n",
      "temp_df has length > 1\n",
      "temp_df has length > 1\n",
      "this entry has no label\n",
      "this entry has no label\n",
      "this entry has no label\n",
      "this entry has no label\n",
      "this entry has no label\n",
      "this entry has no label\n",
      "this entry has no label\n",
      "temp_df has length > 1\n",
      "this entry has no label\n",
      "this entry has no label\n",
      "this entry has no label\n",
      "this entry has no label\n",
      "temp_df has length > 1\n",
      "this entry has no label\n",
      "this entry has no label\n",
      "temp_df has length > 1\n",
      "this entry has no label\n",
      "this entry has no label\n",
      "temp_df has length > 1\n",
      "this entry has no label\n",
      "this entry has no label\n",
      "temp_df has length > 1\n",
      "temp_df has length > 1\n",
      "temp_df has length > 1\n",
      "this entry has no label\n",
      "this entry has no label\n",
      "this entry has no label\n",
      "this entry has no label\n",
      "temp_df has length > 1\n",
      "this entry has no label\n",
      "this entry has no label\n",
      "this entry has no label\n",
      "this entry has no label\n",
      "this entry has no label\n",
      "temp_df has length > 1\n",
      "this entry has no label\n",
      "temp_df has length > 1\n",
      "this entry has no label\n",
      "this entry has no label\n",
      "this entry has no label\n",
      "this entry has no label\n",
      "this entry has no label\n",
      "temp_df has length > 1\n",
      "temp_df has length > 1\n",
      "this entry has no label\n",
      "this entry has no label\n",
      "this entry has no label\n",
      "temp_df has length > 1\n",
      "temp_df has length > 1\n",
      "this entry has no label\n",
      "this entry has no label\n",
      "this entry has no label\n",
      "this entry has no label\n",
      "this entry has no label\n",
      "temp_df has length > 1\n",
      "this entry has no label\n",
      "temp_df has length > 1\n",
      "temp_df has length > 1\n",
      "this entry has no label\n",
      "temp_df has length > 1\n",
      "temp_df has length > 1\n",
      "this entry has no label\n",
      "temp_df has length > 1\n",
      "this entry has no label\n",
      "temp_df has length > 1\n",
      "temp_df has length > 1\n",
      "this entry has no label\n",
      "this entry has no label\n",
      "this entry has no label\n",
      "temp_df has length > 1\n",
      "temp_df has length > 1\n",
      "this entry has no label\n",
      "this entry has no label\n",
      "this entry has no label\n",
      "this entry has no label\n",
      "this entry has no label\n",
      "this entry has no label\n",
      "this entry has no label\n",
      "this entry has no label\n",
      "this entry has no label\n",
      "this entry has no label\n",
      "this entry has no label\n",
      "this entry has no label\n",
      "this entry has no label\n",
      "this entry has no label\n",
      "this entry has no label\n",
      "this entry has no label\n",
      "this entry has no label\n",
      "temp_df has length > 1\n",
      "this entry has no label\n",
      "this entry has no label\n",
      "this entry has no label\n",
      "this entry has no label\n",
      "this entry has no label\n",
      "this entry has no label\n",
      "this entry has no label\n",
      "this entry has no label\n",
      "this entry has no label\n",
      "this entry has no label\n",
      "this entry has no label\n",
      "this entry has no label\n",
      "this entry has no label\n",
      "temp_df has length > 1\n",
      "this entry has no label\n",
      "temp_df has length > 1\n",
      "this entry has no label\n",
      "temp_df has length > 1\n",
      "temp_df has length > 1\n",
      "this entry has no label\n",
      "this entry has no label\n",
      "this entry has no label\n",
      "this entry has no label\n",
      "this entry has no label\n",
      "this entry has no label\n",
      "this entry has no label\n",
      "this entry has no label\n",
      "temp_df has length > 1\n",
      "this entry has no label\n",
      "temp_df has length > 1\n",
      "this entry has no label\n",
      "temp_df has length > 1\n",
      "temp_df has length > 1\n",
      "temp_df has length > 1\n",
      "this entry has no label\n",
      "this entry has no label\n",
      "this entry has no label\n",
      "this entry has no label\n",
      "temp_df has length > 1\n",
      "this entry has no label\n",
      "this entry has no label\n",
      "this entry has no label\n",
      "this entry has no label\n",
      "this entry has no label\n",
      "this entry has no label\n",
      "temp_df has length > 1\n",
      "this entry has no label\n",
      "temp_df has length > 1\n",
      "this entry has no label\n",
      "this entry has no label\n",
      "this entry has no label\n",
      "this entry has no label\n",
      "this entry has no label\n",
      "temp_df has length > 1\n",
      "this entry has no label\n",
      "temp_df has length > 1\n",
      "temp_df has length > 1\n",
      "this entry has no label\n",
      "temp_df has length > 1\n",
      "this entry has no label\n",
      "temp_df has length > 1\n",
      "this entry has no label\n",
      "temp_df has length > 1\n",
      "this entry has no label\n",
      "temp_df has length > 1\n",
      "temp_df has length > 1\n",
      "temp_df has length > 1\n",
      "this entry has no label\n",
      "this entry has no label\n",
      "this entry has no label\n",
      "temp_df has length > 1\n",
      "this entry has no label\n",
      "this entry has no label\n",
      "this entry has no label\n",
      "temp_df has length > 1\n",
      "this entry has no label\n",
      "this entry has no label\n",
      "this entry has no label\n",
      "this entry has no label\n",
      "temp_df has length > 1\n",
      "this entry has no label\n",
      "this entry has no label\n",
      "this entry has no label\n",
      "this entry has no label\n",
      "this entry has no label\n",
      "this entry has no label\n",
      "this entry has no label\n",
      "temp_df has length > 1\n",
      "this entry has no label\n",
      "this entry has no label\n",
      "this entry has no label\n",
      "temp_df has length > 1\n",
      "temp_df has length > 1\n",
      "this entry has no label\n",
      "temp_df has length > 1\n",
      "this entry has no label\n",
      "temp_df has length > 1\n",
      "this entry has no label\n",
      "this entry has no label\n",
      "temp_df has length > 1\n",
      "temp_df has length > 1\n",
      "this entry has no label\n",
      "temp_df has length > 1\n",
      "this entry has no label\n",
      "this entry has no label\n",
      "temp_df has length > 1\n",
      "this entry has no label\n",
      "this entry has no label\n",
      "temp_df has length > 1\n",
      "this entry has no label\n",
      "this entry has no label\n",
      "this entry has no label\n",
      "this entry has no label\n",
      "temp_df has length > 1\n",
      "this entry has no label\n",
      "temp_df has length > 1\n",
      "this entry has no label\n",
      "this entry has no label\n",
      "this entry has no label\n",
      "this entry has no label\n",
      "this entry has no label\n",
      "temp_df has length > 1\n",
      "this entry has no label\n",
      "temp_df has length > 1\n",
      "temp_df has length > 1\n",
      "this entry has no label\n",
      "temp_df has length > 1\n",
      "this entry has no label\n",
      "this entry has no label\n",
      "this entry has no label\n",
      "temp_df has length > 1\n",
      "this entry has no label\n",
      "this entry has no label\n",
      "this entry has no label\n",
      "temp_df has length > 1\n",
      "this entry has no label\n",
      "this entry has no label\n",
      "this entry has no label\n",
      "temp_df has length > 1\n",
      "this entry has no label\n",
      "this entry has no label\n",
      "this entry has no label\n",
      "temp_df has length > 1\n",
      "temp_df has length > 1\n",
      "this entry has no label\n",
      "this entry has no label\n",
      "this entry has no label\n",
      "temp_df has length > 1\n",
      "temp_df has length > 1\n",
      "this entry has no label\n",
      "this entry has no label\n",
      "this entry has no label\n",
      "this entry has no label\n",
      "this entry has no label\n",
      "this entry has no label\n",
      "temp_df has length > 1\n",
      "this entry has no label\n",
      "this entry has no label\n",
      "this entry has no label\n",
      "temp_df has length > 1\n",
      "this entry has no label\n",
      "this entry has no label\n",
      "this entry has no label\n",
      "this entry has no label\n",
      "temp_df has length > 1\n",
      "temp_df has length > 1\n",
      "this entry has no label\n",
      "this entry has no label\n",
      "this entry has no label\n",
      "temp_df has length > 1\n",
      "this entry has no label\n",
      "temp_df has length > 1\n",
      "temp_df has length > 1\n",
      "temp_df has length > 1\n",
      "this entry has no label\n",
      "temp_df has length > 1\n",
      "this entry has no label\n",
      "this entry has no label\n",
      "this entry has no label\n",
      "this entry has no label\n",
      "temp_df has length > 1\n",
      "this entry has no label\n",
      "this entry has no label\n",
      "this entry has no label\n",
      "this entry has no label\n",
      "this entry has no label\n",
      "this entry has no label\n",
      "this entry has no label\n",
      "temp_df has length > 1\n",
      "this entry has no label\n",
      "temp_df has length > 1\n",
      "this entry has no label\n",
      "this entry has no label\n",
      "temp_df has length > 1\n",
      "this entry has no label\n",
      "this entry has no label\n",
      "this entry has no label\n",
      "this entry has no label\n",
      "this entry has no label\n",
      "this entry has no label\n",
      "temp_df has length > 1\n",
      "this entry has no label\n",
      "temp_df has length > 1\n",
      "this entry has no label\n",
      "this entry has no label\n",
      "this entry has no label\n",
      "this entry has no label\n",
      "this entry has no label\n",
      "this entry has no label\n",
      "this entry has no label\n",
      "this entry has no label\n",
      "this entry has no label\n",
      "this entry has no label\n",
      "temp_df has length > 1\n",
      "this entry has no label\n",
      "temp_df has length > 1\n",
      "this entry has no label\n",
      "temp_df has length > 1\n",
      "this entry has no label\n",
      "temp_df has length > 1\n",
      "this entry has no label\n",
      "this entry has no label\n",
      "this entry has no label\n",
      "temp_df has length > 1\n",
      "temp_df has length > 1\n",
      "this entry has no label\n",
      "this entry has no label\n",
      "this entry has no label\n",
      "temp_df has length > 1\n",
      "temp_df has length > 1\n",
      "this entry has no label\n",
      "temp_df has length > 1\n",
      "this entry has no label\n",
      "this entry has no label\n",
      "this entry has no label\n",
      "this entry has no label\n",
      "this entry has no label\n",
      "this entry has no label\n",
      "this entry has no label\n",
      "this entry has no label\n",
      "temp_df has length > 1\n",
      "this entry has no label\n",
      "this entry has no label\n",
      "this entry has no label\n",
      "temp_df has length > 1\n",
      "this entry has no label\n",
      "this entry has no label\n",
      "this entry has no label\n",
      "this entry has no label\n",
      "temp_df has length > 1\n",
      "this entry has no label\n",
      "temp_df has length > 1\n",
      "this entry has no label\n",
      "temp_df has length > 1\n",
      "temp_df has length > 1\n",
      "temp_df has length > 1\n",
      "this entry has no label\n",
      "this entry has no label\n",
      "temp_df has length > 1\n",
      "temp_df has length > 1\n"
     ]
    }
   ],
   "source": [
    "nlp = spacy.blank(\"en\")\n",
    "\n",
    "# keeping span token lengths to appropriately set config\n",
    "token_lengths = []\n",
    "\n",
    "# Keeping labels in case I want to check\n",
    "label_list = []\n",
    "\n",
    "# This will hold the processed string and span docs\n",
    "docs=[] \n",
    "\n",
    "for case in key_list:\n",
    "    \n",
    "    # Subest to just one case\n",
    "    temp_df = labeled_sets[labeled_sets.cpsc_case_number == case]\n",
    "    \n",
    "    # Get the narrative and process into a doc\n",
    "    nar = temp_df.iloc[0,1]\n",
    "    doc = nlp(nar)\n",
    "    \n",
    "    if len(temp_df)==1:    \n",
    "        if pd.isna(temp_df.iloc[0,2]):\n",
    "            print(\"this entry has no label\")\n",
    "            doc.spans[\"sc\"] = []\n",
    "            docs.append(doc)\n",
    "        else:     \n",
    "            span_text = temp_df.iloc[0,2]\n",
    "            temp_label = temp_df.iloc[0,3]   \n",
    "            span_start_char = nar.find(span_text)\n",
    "            span_end_char = span_start_char + len(span_text)\n",
    "            \n",
    "            # Finding the start and end tokens using character offsets\n",
    "            start_token = None\n",
    "            end_token = None\n",
    "            for token in doc:\n",
    "                if token.idx == span_start_char:\n",
    "                     start_token = token.i\n",
    "                if token.idx + len(token.text) == span_end_char:\n",
    "                    end_token = token.i\n",
    "                    break\n",
    "                    \n",
    "            if start_token is not None and end_token is not None:\n",
    "                temp_start = start_token\n",
    "                temp_end = end_token + 1\n",
    "                \n",
    "                doc.spans[\"sc\"] = [Span(doc, temp_start, temp_end, temp_label)]\n",
    "                \n",
    "                token_lengths.append(temp_end - temp_start)\n",
    "                label_list.append(temp_label)\n",
    "            \n",
    "                docs.append(doc)\n",
    "            else:\n",
    "                print(nar, \"span=\", span_text,\"couldn't find tokens\")\n",
    "    else:\n",
    "        print(\"temp_df has length > 1\")\n",
    "        span_list = []\n",
    "        for ent in range(len(temp_df)):\n",
    "            span_text = temp_df.iloc[ent,2]\n",
    "            temp_label = temp_df.iloc[ent,3]\n",
    "            span_start_char = nar.find(span_text)\n",
    "            span_end_char = span_start_char + len(span_text)\n",
    "            # print(span_start_char, span_end_char)\n",
    "\n",
    "            # Finding the start and end tokens using character offsets\n",
    "            start_token = None\n",
    "            end_token = None\n",
    "            for token in doc:\n",
    "                if token.idx == span_start_char:\n",
    "                     start_token = token.i\n",
    "                if token.idx + len(token.text) == span_end_char:\n",
    "                    end_token = token.i\n",
    "                    break\n",
    "            if start_token is not None and end_token is not None:\n",
    "                temp_start = start_token\n",
    "                temp_end = end_token + 1             \n",
    "                span_list.append(Span(doc, temp_start, temp_end, temp_label))\n",
    "                token_lengths.append(temp_end - temp_start)\n",
    "                label_list.append(temp_label)\n",
    "            else:\n",
    "                print(nar, \"span=\",span_text, \"couldn't find tokens\")\n",
    "        \n",
    "            doc.spans[\"sc\"] = span_list\n",
    "        docs.append(doc)"
   ]
  },
  {
   "cell_type": "code",
   "execution_count": 60,
   "id": "f0f187d3",
   "metadata": {},
   "outputs": [
    {
     "data": {
      "text/plain": [
       "1635"
      ]
     },
     "execution_count": 60,
     "metadata": {},
     "output_type": "execute_result"
    }
   ],
   "source": [
    "len(docs)"
   ]
  },
  {
   "cell_type": "code",
   "execution_count": 61,
   "id": "69e39443",
   "metadata": {},
   "outputs": [
    {
     "name": "stdout",
     "output_type": "stream",
     "text": [
      "PATIENT TRIPPED ON CARPET, FELL BACKWARDS HIT HEAD ON FLOOR CLINICAL DIAGNOSIS: HEAD INJURY WITH CONTUSION SCALP {'sc': [HIT HEAD ON FLOOR, TRIPPED ON CARPET]}\n"
     ]
    }
   ],
   "source": [
    "for doc in docs[0:1]:\n",
    "    print(doc, doc.spans)"
   ]
  },
  {
   "cell_type": "code",
   "execution_count": 62,
   "id": "d3ac0bd3",
   "metadata": {},
   "outputs": [
    {
     "data": {
      "text/plain": [
       "1420"
      ]
     },
     "execution_count": 62,
     "metadata": {},
     "output_type": "execute_result"
    }
   ],
   "source": [
    "len(token_lengths)"
   ]
  },
  {
   "cell_type": "markdown",
   "id": "cdef2bfe",
   "metadata": {},
   "source": [
    "Check on length of tokens in spans to set appropriate parameters in training config file"
   ]
  },
  {
   "cell_type": "code",
   "execution_count": 63,
   "id": "c32a732a",
   "metadata": {},
   "outputs": [
    {
     "name": "stdout",
     "output_type": "stream",
     "text": [
      "2 15 4.0\n"
     ]
    }
   ],
   "source": [
    "print(np.min(token_lengths), np.max(token_lengths), np.median(token_lengths))"
   ]
  },
  {
   "cell_type": "code",
   "execution_count": 64,
   "id": "d4a50f06",
   "metadata": {
    "scrolled": true
   },
   "outputs": [
    {
     "data": {
      "text/plain": [
       "array([2., 7.])"
      ]
     },
     "execution_count": 64,
     "metadata": {},
     "output_type": "execute_result"
    }
   ],
   "source": [
    "np.quantile(token_lengths, q =[0.05,0.95])"
   ]
  },
  {
   "cell_type": "markdown",
   "id": "2997c54d",
   "metadata": {},
   "source": [
    "Want to split the data into train and test such that a single case is not split between the two. Check two consecutive rows to make sure they are separate cases."
   ]
  },
  {
   "cell_type": "code",
   "execution_count": 65,
   "id": "600f29f1",
   "metadata": {},
   "outputs": [
    {
     "data": {
      "text/plain": [
       "PATIENT FELL OUT OF BED TO CARPETED FLOOR ONTO HEAD CLINICAL DIAGNOSIS: CLOSED HEAD INJURY"
      ]
     },
     "execution_count": 65,
     "metadata": {},
     "output_type": "execute_result"
    }
   ],
   "source": [
    "docs[1100]"
   ]
  },
  {
   "cell_type": "code",
   "execution_count": 66,
   "id": "dc378242",
   "metadata": {},
   "outputs": [
    {
     "data": {
      "text/plain": [
       "PATIENT PRESENTING AFTER FALL AFTER TRIPPING AND HITTING WALL CORNER 2 DAYS AGO, PATIENT NOTES HEAD TRAUMA AND IS COMPLAINS OF MILD HA AND NECK PAIN BUT OTHERWISE STATES SHE IS NOT IN MUCH PAIN CLINICAL DIAGNOSIS: MINOR HEAD INJURY"
      ]
     },
     "execution_count": 66,
     "metadata": {},
     "output_type": "execute_result"
    }
   ],
   "source": [
    "docs[1101]"
   ]
  },
  {
   "cell_type": "markdown",
   "id": "0888d041",
   "metadata": {},
   "source": [
    "Make training and test sets with the docs, saving in spacy format."
   ]
  },
  {
   "cell_type": "code",
   "execution_count": 67,
   "id": "a1fa81e1-08f2-41ae-ae6f-d0d2787322b3",
   "metadata": {},
   "outputs": [],
   "source": [
    "doc_bin = DocBin(docs=docs[0:1101])\n",
    "doc_bin.to_disk(\"./train_231003_1635.spacy\")\n",
    "\n",
    "doc_bin = DocBin(docs=docs[1101:])\n",
    "doc_bin.to_disk(\"./dev_231003_1635.spacy\")"
   ]
  },
  {
   "cell_type": "markdown",
   "id": "8265e138",
   "metadata": {},
   "source": [
    "Initialize the training config file. This will get some manual adjustments."
   ]
  },
  {
   "cell_type": "code",
   "execution_count": 68,
   "id": "27f34717",
   "metadata": {},
   "outputs": [
    {
     "name": "stdout",
     "output_type": "stream",
     "text": [
      "\u001b[38;5;4mℹ Generated config template specific for your use case\u001b[0m\n",
      "- Language: en\n",
      "- Pipeline: spancat_singlelabel\n",
      "- Optimize for: efficiency\n",
      "- Hardware: CPU\n",
      "- Transformer: None\n",
      "\u001b[38;5;2m✔ Auto-filled config with all values\u001b[0m\n",
      "\u001b[38;5;2m✔ Saved config\u001b[0m\n",
      "configs/config_spancat_singlelabel.cfg\n",
      "You can now add your data and train your pipeline:\n",
      "python -m spacy train config_spancat_singlelabel.cfg --paths.train ./train.spacy --paths.dev ./dev.spacy\n"
     ]
    }
   ],
   "source": [
    "# !python -m spacy init config configs/config_spancat_singlelabel.cfg --lang en --pipeline spancat_singlelabel --force "
   ]
  },
  {
   "cell_type": "markdown",
   "id": "155b261e",
   "metadata": {},
   "source": [
    "These adjustments, indicated by <---, were made to the above config file:\n",
    "\n",
    "[components.spancat_singlelabel]\n",
    "factory = \"spancat_singlelabel\"  \n",
    "allow_overlap = false  <---  \n",
    "negative_weight = 1.0  \n",
    "scorer = {\"@scorers\":\"spacy.spancat_scorer.v1\"}  \n",
    "spans_key = \"sc\"  \n",
    "\n",
    "[components.spancat_singlelabel.suggester]   \n",
    "@misc = \"spacy.ngram_range_suggester.v1\"  <---  \n",
    "min_size = 2 <---  \n",
    "max_size = 12 <---  \n",
    "\n",
    "[training]\n",
    "dev_corpus = \"corpora.dev\"  \n",
    "train_corpus = \"corpora.train\"  \n",
    "seed = ${system.seed}    \n",
    "gpu_allocator = ${system.gpu_allocator}   \n",
    "dropout = 0.1  \n",
    "accumulate_gradient = 1  \n",
    "patience = 1600  \n",
    "max_epochs = 20  <---  \n",
    "max_steps = 20000  \n",
    "eval_frequency = 100  <---  \n",
    "frozen_components = []  \n",
    "annotating_components = []  \n",
    "before_to_disk = null  \n",
    "before_update = null  \n",
    "\n",
    "[training.score_weights]  \n",
    "spans_sc_f = 0.3 <---  \n",
    "spans_sc_p = 0.5 <---  \n",
    "spans_sc_r = 0.2 <---  "
   ]
  },
  {
   "cell_type": "markdown",
   "id": "2d31585d",
   "metadata": {},
   "source": [
    "Run the training!"
   ]
  },
  {
   "cell_type": "code",
   "execution_count": 70,
   "id": "1a374663",
   "metadata": {},
   "outputs": [
    {
     "name": "stdout",
     "output_type": "stream",
     "text": [
      "\u001b[38;5;4mℹ Saving to output directory: spacy_falling_modelb\u001b[0m\n",
      "\u001b[38;5;4mℹ Using CPU\u001b[0m\n",
      "\u001b[38;5;4mℹ To switch to GPU 0, use the option: --gpu-id 0\u001b[0m\n",
      "\u001b[1m\n",
      "=========================== Initializing pipeline ===========================\u001b[0m\n",
      "\u001b[38;5;2m✔ Initialized pipeline\u001b[0m\n",
      "\u001b[1m\n",
      "============================= Training pipeline =============================\u001b[0m\n",
      "\u001b[38;5;4mℹ Pipeline: ['tok2vec', 'spancat_singlelabel']\u001b[0m\n",
      "\u001b[38;5;4mℹ Initial learn rate: 0.001\u001b[0m\n",
      "E    #       LOSS TOK2VEC  LOSS SPANC...  SPANS_SC_F  SPANS_SC_P  SPANS_SC_R  SCORE \n",
      "---  ------  ------------  -------------  ----------  ----------  ----------  ------\n",
      "  0       0          0.00         585.43        0.00        0.00        0.00    0.00\n",
      "  0     100         23.77        4503.18       14.29       22.17       10.54    0.17\n",
      "  0     200         29.99         480.10       43.79       44.37       43.23    0.44\n",
      "  1     300         39.21         345.68       59.16       64.23       54.84    0.61\n",
      "  1     400         48.51         293.65       75.20       78.64       72.04    0.76\n",
      "  2     500         48.07         234.21       84.31       90.20       79.14    0.86\n",
      "  2     600         50.85         181.32       81.79       85.12       78.71    0.83\n",
      "  3     700         51.71         200.97       81.68       89.29       75.27    0.84\n",
      "  3     800         53.50         151.75       83.24       86.01       80.65    0.84\n",
      "  4     900         63.30         149.21       83.58       86.98       80.43    0.85\n",
      "  5    1000         70.61         149.55       83.31       88.22       78.92    0.85\n",
      "  6    1100         61.40         122.15       83.77       85.46       82.15    0.84\n",
      "  7    1200         59.51         107.98       83.30       86.37       80.43    0.84\n",
      "  8    1300         59.78          80.96       84.21       89.98       79.14    0.86\n",
      " 10    1400         53.55          62.54       82.58       87.11       78.49    0.84\n",
      " 11    1500         99.13          97.74       82.42       87.83       77.63    0.84\n",
      " 13    1600         61.98          58.48       82.15       87.78       77.20    0.84\n",
      " 15    1700         45.90          45.05       82.23       85.58       79.14    0.83\n",
      " 17    1800         55.17          45.83       83.00       86.48       79.78    0.84\n",
      " 19    1900         39.89          26.87       82.80       88.70       77.63    0.85\n",
      "\u001b[38;5;2m✔ Saved pipeline to output directory\u001b[0m\n",
      "spacy_falling_modelb/model-last\n"
     ]
    }
   ],
   "source": [
    "!python -m spacy train configs/config_spancat_singlelabel.cfg --paths.train train_231003_1635.spacy --paths.dev dev_231003_1635.spacy --system.seed 99 --output spacy_falling_model/"
   ]
  },
  {
   "cell_type": "markdown",
   "id": "652ea7e2",
   "metadata": {},
   "source": [
    "These are the performance values from the 'best' model from that training run.  \n",
    "\n",
    "- F1:  0.843  \n",
    "- Precision:  0.902  \n",
    "- Recall:  0.791  \n",
    "    \n",
    "I'm pretty happy with the 90% precision value!     "
   ]
  },
  {
   "cell_type": "markdown",
   "id": "6e220f29-7abc-44bf-8a99-e4a017f84e01",
   "metadata": {},
   "source": [
    "## Using model \n",
    "\n",
    "Load the model and check its component steps,"
   ]
  },
  {
   "cell_type": "code",
   "execution_count": 71,
   "id": "0e44e15e",
   "metadata": {},
   "outputs": [
    {
     "data": {
      "text/plain": [
       "[('tok2vec', <spacy.pipeline.tok2vec.Tok2Vec at 0x2a8dd33a0>),\n",
       " ('spancat_singlelabel',\n",
       "  <spacy.pipeline.spancat.SpanCategorizer at 0x2a8dc7880>)]"
      ]
     },
     "execution_count": 71,
     "metadata": {},
     "output_type": "execute_result"
    }
   ],
   "source": [
    "nlp_spancat = spacy.load(\"spacy_falling_model/model-best\")\n",
    "nlp_spancat.pipeline"
   ]
  },
  {
   "cell_type": "markdown",
   "id": "48659394",
   "metadata": {},
   "source": [
    "**Test model on a subset of the samples**"
   ]
  },
  {
   "cell_type": "code",
   "execution_count": 72,
   "id": "77d8a185",
   "metadata": {},
   "outputs": [],
   "source": [
    "cols = ['cpsc_case_number','text', 'span_text',  'span_label', ]\n",
    "output_df = pd.DataFrame(columns=cols)\n",
    "\n",
    "for row in random_sample_sub.iloc[1000:1050:,0:2].iterrows():\n",
    "    cpsc = (row[1]['cpsc_case_number'])\n",
    "    text = (row[1]['narrative'])\n",
    "    doc = nlp_spancat(text)\n",
    "\n",
    "    if len(doc.spans[\"sc\"]) == 0:\n",
    "        df2 = pd.DataFrame([[cpsc,text, \"NA\", \"NA\"]], columns= cols)\n",
    "        output_df = pd.concat([output_df, df2])\n",
    "    else:\n",
    "        for span in doc.spans[\"sc\"]:     \n",
    "            df2 = pd.DataFrame([[cpsc,text, span.text, span.label_,]], columns=cols)\n",
    "            output_df = pd.concat([output_df, df2])"
   ]
  },
  {
   "cell_type": "code",
   "execution_count": 73,
   "id": "5d60e2fb",
   "metadata": {},
   "outputs": [
    {
     "data": {
      "text/html": [
       "<div>\n",
       "<style scoped>\n",
       "    .dataframe tbody tr th:only-of-type {\n",
       "        vertical-align: middle;\n",
       "    }\n",
       "\n",
       "    .dataframe tbody tr th {\n",
       "        vertical-align: top;\n",
       "    }\n",
       "\n",
       "    .dataframe thead th {\n",
       "        text-align: right;\n",
       "    }\n",
       "</style>\n",
       "<table border=\"1\" class=\"dataframe\">\n",
       "  <thead>\n",
       "    <tr style=\"text-align: right;\">\n",
       "      <th></th>\n",
       "      <th>cpsc_case_number</th>\n",
       "      <th>text</th>\n",
       "      <th>span_text</th>\n",
       "      <th>span_label</th>\n",
       "    </tr>\n",
       "  </thead>\n",
       "  <tbody>\n",
       "    <tr>\n",
       "      <th>0</th>\n",
       "      <td>190325590</td>\n",
       "      <td>HEAD INJURY / 91 YOWF WAS AMBULATING IN CHURCH...</td>\n",
       "      <td>FELL DOWN 1 STEP</td>\n",
       "      <td>STR</td>\n",
       "    </tr>\n",
       "    <tr>\n",
       "      <th>0</th>\n",
       "      <td>220574884</td>\n",
       "      <td>PATIENT HAD A SYNCOPAL EVENT IN THE SHOWER, FE...</td>\n",
       "      <td>HITTING HEAD</td>\n",
       "      <td>SU</td>\n",
       "    </tr>\n",
       "    <tr>\n",
       "      <th>0</th>\n",
       "      <td>190455101</td>\n",
       "      <td>PATIENT ROLLED OUT OF BED AND FELL ONTO CARPET...</td>\n",
       "      <td>NA</td>\n",
       "      <td>NA</td>\n",
       "    </tr>\n",
       "    <tr>\n",
       "      <th>0</th>\n",
       "      <td>210658295</td>\n",
       "      <td>PATIENT FELL IN FLOOR AT HOME CLINICAL DIAGNOS...</td>\n",
       "      <td>NA</td>\n",
       "      <td>NA</td>\n",
       "    </tr>\n",
       "    <tr>\n",
       "      <th>0</th>\n",
       "      <td>220303943</td>\n",
       "      <td>PATIENT PATIENT TRIPPED ON DOG WHEN HE WAS HE ...</td>\n",
       "      <td>TRIPPED ON DOG</td>\n",
       "      <td>OBJ</td>\n",
       "    </tr>\n",
       "  </tbody>\n",
       "</table>\n",
       "</div>"
      ],
      "text/plain": [
       "  cpsc_case_number                                               text  \\\n",
       "0        190325590  HEAD INJURY / 91 YOWF WAS AMBULATING IN CHURCH...   \n",
       "0        220574884  PATIENT HAD A SYNCOPAL EVENT IN THE SHOWER, FE...   \n",
       "0        190455101  PATIENT ROLLED OUT OF BED AND FELL ONTO CARPET...   \n",
       "0        210658295  PATIENT FELL IN FLOOR AT HOME CLINICAL DIAGNOS...   \n",
       "0        220303943  PATIENT PATIENT TRIPPED ON DOG WHEN HE WAS HE ...   \n",
       "\n",
       "          span_text span_label  \n",
       "0  FELL DOWN 1 STEP        STR  \n",
       "0      HITTING HEAD         SU  \n",
       "0                NA         NA  \n",
       "0                NA         NA  \n",
       "0    TRIPPED ON DOG        OBJ  "
      ]
     },
     "execution_count": 73,
     "metadata": {},
     "output_type": "execute_result"
    }
   ],
   "source": [
    "output_df.head()"
   ]
  },
  {
   "cell_type": "markdown",
   "id": "b251309c",
   "metadata": {},
   "source": [
    "## Run model on all samples"
   ]
  },
  {
   "cell_type": "markdown",
   "id": "c38c21a2",
   "metadata": {},
   "source": [
    "Before running on all samples, double check everything is in working order."
   ]
  },
  {
   "cell_type": "code",
   "execution_count": 74,
   "id": "9435d601",
   "metadata": {},
   "outputs": [
    {
     "data": {
      "text/html": [
       "<div>\n",
       "<style scoped>\n",
       "    .dataframe tbody tr th:only-of-type {\n",
       "        vertical-align: middle;\n",
       "    }\n",
       "\n",
       "    .dataframe tbody tr th {\n",
       "        vertical-align: top;\n",
       "    }\n",
       "\n",
       "    .dataframe thead th {\n",
       "        text-align: right;\n",
       "    }\n",
       "</style>\n",
       "<table border=\"1\" class=\"dataframe\">\n",
       "  <thead>\n",
       "    <tr style=\"text-align: right;\">\n",
       "      <th></th>\n",
       "      <th>cpsc_case_number</th>\n",
       "      <th>narrative</th>\n",
       "    </tr>\n",
       "  </thead>\n",
       "  <tbody>\n",
       "    <tr>\n",
       "      <th>0</th>\n",
       "      <td>190103269</td>\n",
       "      <td>94YOM FELL TO THE FLOOR AT THE NURSING HOME ON...</td>\n",
       "    </tr>\n",
       "    <tr>\n",
       "      <th>1</th>\n",
       "      <td>190103270</td>\n",
       "      <td>86YOM FELL IN THE SHOWER AT HOME AND SUSTAINED...</td>\n",
       "    </tr>\n",
       "    <tr>\n",
       "      <th>2</th>\n",
       "      <td>190103273</td>\n",
       "      <td>87YOF WAS GETTING UP FROM THE COUCH AND FELL T...</td>\n",
       "    </tr>\n",
       "  </tbody>\n",
       "</table>\n",
       "</div>"
      ],
      "text/plain": [
       "   cpsc_case_number                                          narrative\n",
       "0         190103269  94YOM FELL TO THE FLOOR AT THE NURSING HOME ON...\n",
       "1         190103270  86YOM FELL IN THE SHOWER AT HOME AND SUSTAINED...\n",
       "2         190103273  87YOF WAS GETTING UP FROM THE COUCH AND FELL T..."
      ]
     },
     "execution_count": 74,
     "metadata": {},
     "output_type": "execute_result"
    }
   ],
   "source": [
    "decoded_df.iloc[0:3:,0:2]"
   ]
  },
  {
   "cell_type": "code",
   "execution_count": 75,
   "id": "a3f62368",
   "metadata": {},
   "outputs": [
    {
     "name": "stdout",
     "output_type": "stream",
     "text": [
      "[]\n",
      "[]\n",
      "[]\n",
      "[]\n",
      "[]\n",
      "[]\n",
      "[INTO A PLANTER BOX]\n",
      "[STRUCK HEAD ON A WOODEN FLOOR]\n",
      "[LANDED ONTO FACE]\n",
      "[]\n",
      "[GOING DOWN A FLIGHT OF STAIRS]\n",
      "[STRUCK HEAD ON THE FLOOR]\n"
     ]
    }
   ],
   "source": [
    "for row in decoded_df.iloc[0:12:,0:2].iterrows():\n",
    "    cpsc = (row[1]['cpsc_case_number'])\n",
    "    text = (row[1]['narrative'])\n",
    "    doc = nlp_spancat(text)\n",
    "    print(doc.spans[\"sc\"])"
   ]
  },
  {
   "cell_type": "code",
   "execution_count": 76,
   "id": "8c4d122a",
   "metadata": {},
   "outputs": [],
   "source": [
    "# Create an empty dataframe with column names\n",
    "cols = ['cpsc_case_number','text', 'span_text', 'span_label']\n",
    "output_df = pd.DataFrame(columns=cols)\n",
    "\n",
    "for row in decoded_df.iloc[:,0:2].iterrows():\n",
    "    cpsc = (row[1]['cpsc_case_number'])\n",
    "    text = (row[1]['narrative'])\n",
    "    doc = nlp_spancat(text)\n",
    "\n",
    "    if len(doc.spans[\"sc\"]) == 0:\n",
    "        df2 = pd.DataFrame([[cpsc, text, \"NA\", \"NA\"]], columns=cols)\n",
    "        output_df = pd.concat([output_df, df2])\n",
    "    else:\n",
    "        for span in doc.spans[\"sc\"]:\n",
    "            df2 = pd.DataFrame([[cpsc, text, span.text, span.label_]], columns=cols)\n",
    "            output_df = pd.concat([output_df, df2])"
   ]
  },
  {
   "cell_type": "code",
   "execution_count": 77,
   "id": "f5bcedeb",
   "metadata": {},
   "outputs": [
    {
     "data": {
      "text/html": [
       "<div>\n",
       "<style scoped>\n",
       "    .dataframe tbody tr th:only-of-type {\n",
       "        vertical-align: middle;\n",
       "    }\n",
       "\n",
       "    .dataframe tbody tr th {\n",
       "        vertical-align: top;\n",
       "    }\n",
       "\n",
       "    .dataframe thead th {\n",
       "        text-align: right;\n",
       "    }\n",
       "</style>\n",
       "<table border=\"1\" class=\"dataframe\">\n",
       "  <thead>\n",
       "    <tr style=\"text-align: right;\">\n",
       "      <th></th>\n",
       "      <th>cpsc_case_number</th>\n",
       "      <th>text</th>\n",
       "      <th>span_text</th>\n",
       "      <th>span_label</th>\n",
       "    </tr>\n",
       "  </thead>\n",
       "  <tbody>\n",
       "    <tr>\n",
       "      <th>0</th>\n",
       "      <td>190103269</td>\n",
       "      <td>94YOM FELL TO THE FLOOR AT THE NURSING HOME ON...</td>\n",
       "      <td>NA</td>\n",
       "      <td>NA</td>\n",
       "    </tr>\n",
       "    <tr>\n",
       "      <th>0</th>\n",
       "      <td>190103270</td>\n",
       "      <td>86YOM FELL IN THE SHOWER AT HOME AND SUSTAINED...</td>\n",
       "      <td>NA</td>\n",
       "      <td>NA</td>\n",
       "    </tr>\n",
       "  </tbody>\n",
       "</table>\n",
       "</div>"
      ],
      "text/plain": [
       "  cpsc_case_number                                               text  \\\n",
       "0        190103269  94YOM FELL TO THE FLOOR AT THE NURSING HOME ON...   \n",
       "0        190103270  86YOM FELL IN THE SHOWER AT HOME AND SUSTAINED...   \n",
       "\n",
       "  span_text span_label  \n",
       "0        NA         NA  \n",
       "0        NA         NA  "
      ]
     },
     "execution_count": 77,
     "metadata": {},
     "output_type": "execute_result"
    }
   ],
   "source": [
    "# Quick check of how the output looks\n",
    "output_df.head(2)"
   ]
  },
  {
   "cell_type": "code",
   "execution_count": 78,
   "id": "af137a6e",
   "metadata": {},
   "outputs": [
    {
     "data": {
      "text/plain": [
       "123907"
      ]
     },
     "execution_count": 78,
     "metadata": {},
     "output_type": "execute_result"
    }
   ],
   "source": [
    "len(output_df)"
   ]
  },
  {
   "cell_type": "code",
   "execution_count": 79,
   "id": "7837db57",
   "metadata": {},
   "outputs": [],
   "source": [
    "# Save to file for coming back and starting up at this point\n",
    "# output_df.to_csv(\"predictions_falling_full_set.csv\")"
   ]
  },
  {
   "cell_type": "code",
   "execution_count": 80,
   "id": "ae5852af",
   "metadata": {
    "scrolled": true
   },
   "outputs": [
    {
     "data": {
      "text/html": [
       "<div>\n",
       "<style scoped>\n",
       "    .dataframe tbody tr th:only-of-type {\n",
       "        vertical-align: middle;\n",
       "    }\n",
       "\n",
       "    .dataframe tbody tr th {\n",
       "        vertical-align: top;\n",
       "    }\n",
       "\n",
       "    .dataframe thead th {\n",
       "        text-align: right;\n",
       "    }\n",
       "</style>\n",
       "<table border=\"1\" class=\"dataframe\">\n",
       "  <thead>\n",
       "    <tr style=\"text-align: right;\">\n",
       "      <th></th>\n",
       "      <th>cpsc_case_number</th>\n",
       "      <th>text</th>\n",
       "      <th>span_text</th>\n",
       "      <th>span_label</th>\n",
       "    </tr>\n",
       "  </thead>\n",
       "  <tbody>\n",
       "    <tr>\n",
       "      <th>0</th>\n",
       "      <td>190103269</td>\n",
       "      <td>94YOM FELL TO THE FLOOR AT THE NURSING HOME ON...</td>\n",
       "      <td>NA</td>\n",
       "      <td>NA</td>\n",
       "    </tr>\n",
       "    <tr>\n",
       "      <th>0</th>\n",
       "      <td>190103270</td>\n",
       "      <td>86YOM FELL IN THE SHOWER AT HOME AND SUSTAINED...</td>\n",
       "      <td>NA</td>\n",
       "      <td>NA</td>\n",
       "    </tr>\n",
       "    <tr>\n",
       "      <th>0</th>\n",
       "      <td>190103273</td>\n",
       "      <td>87YOF WAS GETTING UP FROM THE COUCH AND FELL T...</td>\n",
       "      <td>NA</td>\n",
       "      <td>NA</td>\n",
       "    </tr>\n",
       "    <tr>\n",
       "      <th>0</th>\n",
       "      <td>190103291</td>\n",
       "      <td>67YOF WAS AT A FRIENDS HOUSE AND SLIPPED ON WA...</td>\n",
       "      <td>NA</td>\n",
       "      <td>NA</td>\n",
       "    </tr>\n",
       "    <tr>\n",
       "      <th>0</th>\n",
       "      <td>190103294</td>\n",
       "      <td>70YOF WAS STANDING ON A STEP STOOL AND FELL OF...</td>\n",
       "      <td>NA</td>\n",
       "      <td>NA</td>\n",
       "    </tr>\n",
       "    <tr>\n",
       "      <th>0</th>\n",
       "      <td>190103298</td>\n",
       "      <td>79YOM WAS STANDING ON A FOLDING LAWN CHAIR AND...</td>\n",
       "      <td>NA</td>\n",
       "      <td>NA</td>\n",
       "    </tr>\n",
       "    <tr>\n",
       "      <th>0</th>\n",
       "      <td>190103309</td>\n",
       "      <td>74YOM FELL INTO A PLANTER BOX AND SUSTAINED A ...</td>\n",
       "      <td>INTO A PLANTER BOX</td>\n",
       "      <td>SO</td>\n",
       "    </tr>\n",
       "    <tr>\n",
       "      <th>0</th>\n",
       "      <td>190103337</td>\n",
       "      <td>76YOF HAD A SLIP AND FALL AT HOME STRUCK HEAD ...</td>\n",
       "      <td>STRUCK HEAD ON A WOODEN FLOOR</td>\n",
       "      <td>SF</td>\n",
       "    </tr>\n",
       "  </tbody>\n",
       "</table>\n",
       "</div>"
      ],
      "text/plain": [
       "  cpsc_case_number                                               text  \\\n",
       "0        190103269  94YOM FELL TO THE FLOOR AT THE NURSING HOME ON...   \n",
       "0        190103270  86YOM FELL IN THE SHOWER AT HOME AND SUSTAINED...   \n",
       "0        190103273  87YOF WAS GETTING UP FROM THE COUCH AND FELL T...   \n",
       "0        190103291  67YOF WAS AT A FRIENDS HOUSE AND SLIPPED ON WA...   \n",
       "0        190103294  70YOF WAS STANDING ON A STEP STOOL AND FELL OF...   \n",
       "0        190103298  79YOM WAS STANDING ON A FOLDING LAWN CHAIR AND...   \n",
       "0        190103309  74YOM FELL INTO A PLANTER BOX AND SUSTAINED A ...   \n",
       "0        190103337  76YOF HAD A SLIP AND FALL AT HOME STRUCK HEAD ...   \n",
       "\n",
       "                       span_text span_label  \n",
       "0                             NA         NA  \n",
       "0                             NA         NA  \n",
       "0                             NA         NA  \n",
       "0                             NA         NA  \n",
       "0                             NA         NA  \n",
       "0                             NA         NA  \n",
       "0             INTO A PLANTER BOX         SO  \n",
       "0  STRUCK HEAD ON A WOODEN FLOOR         SF  "
      ]
     },
     "execution_count": 80,
     "metadata": {},
     "output_type": "execute_result"
    }
   ],
   "source": [
    "# Read in output if it was saved and want to start here\n",
    "# temp_df = pd.read_csv(\"predictions_falling_full_set.csv\")\n",
    "# output_df = temp_df.iloc[:,1:5]\n",
    "output_df.head(8)"
   ]
  },
  {
   "cell_type": "markdown",
   "id": "b597bbe7",
   "metadata": {},
   "source": [
    "### Process predicted spans into dataframes  \n",
    "\n",
    "Pivot the DataFrame so that each span label is a column and the span texts are the entries in those columns. A single narrative could have two occurrences of the same span label associated with it. Therefore, when collapsing each case into a single row, make a tuple with the individual span text entries."
   ]
  },
  {
   "cell_type": "code",
   "execution_count": 81,
   "id": "75e8757c",
   "metadata": {},
   "outputs": [
    {
     "data": {
      "text/html": [
       "<div>\n",
       "<style scoped>\n",
       "    .dataframe tbody tr th:only-of-type {\n",
       "        vertical-align: middle;\n",
       "    }\n",
       "\n",
       "    .dataframe tbody tr th {\n",
       "        vertical-align: top;\n",
       "    }\n",
       "\n",
       "    .dataframe thead th {\n",
       "        text-align: right;\n",
       "    }\n",
       "</style>\n",
       "<table border=\"1\" class=\"dataframe\">\n",
       "  <thead>\n",
       "    <tr style=\"text-align: right;\">\n",
       "      <th></th>\n",
       "      <th>cpsc_case_number</th>\n",
       "      <th>text</th>\n",
       "      <th>NA</th>\n",
       "      <th>OBJ</th>\n",
       "      <th>SF</th>\n",
       "      <th>SO</th>\n",
       "      <th>STR</th>\n",
       "      <th>SU</th>\n",
       "      <th>WT</th>\n",
       "    </tr>\n",
       "  </thead>\n",
       "  <tbody>\n",
       "    <tr>\n",
       "      <th>0</th>\n",
       "      <td>190103269</td>\n",
       "      <td>94YOM FELL TO THE FLOOR AT THE NURSING HOME ON...</td>\n",
       "      <td>(NA,)</td>\n",
       "      <td>NaN</td>\n",
       "      <td>NaN</td>\n",
       "      <td>NaN</td>\n",
       "      <td>NaN</td>\n",
       "      <td>NaN</td>\n",
       "      <td>NaN</td>\n",
       "    </tr>\n",
       "    <tr>\n",
       "      <th>1</th>\n",
       "      <td>190103270</td>\n",
       "      <td>86YOM FELL IN THE SHOWER AT HOME AND SUSTAINED...</td>\n",
       "      <td>(NA,)</td>\n",
       "      <td>NaN</td>\n",
       "      <td>NaN</td>\n",
       "      <td>NaN</td>\n",
       "      <td>NaN</td>\n",
       "      <td>NaN</td>\n",
       "      <td>NaN</td>\n",
       "    </tr>\n",
       "    <tr>\n",
       "      <th>2</th>\n",
       "      <td>190103273</td>\n",
       "      <td>87YOF WAS GETTING UP FROM THE COUCH AND FELL T...</td>\n",
       "      <td>(NA,)</td>\n",
       "      <td>NaN</td>\n",
       "      <td>NaN</td>\n",
       "      <td>NaN</td>\n",
       "      <td>NaN</td>\n",
       "      <td>NaN</td>\n",
       "      <td>NaN</td>\n",
       "    </tr>\n",
       "  </tbody>\n",
       "</table>\n",
       "</div>"
      ],
      "text/plain": [
       "   cpsc_case_number                                               text     NA  \\\n",
       "0         190103269  94YOM FELL TO THE FLOOR AT THE NURSING HOME ON...  (NA,)   \n",
       "1         190103270  86YOM FELL IN THE SHOWER AT HOME AND SUSTAINED...  (NA,)   \n",
       "2         190103273  87YOF WAS GETTING UP FROM THE COUCH AND FELL T...  (NA,)   \n",
       "\n",
       "   OBJ   SF   SO  STR   SU   WT  \n",
       "0  NaN  NaN  NaN  NaN  NaN  NaN  \n",
       "1  NaN  NaN  NaN  NaN  NaN  NaN  \n",
       "2  NaN  NaN  NaN  NaN  NaN  NaN  "
      ]
     },
     "execution_count": 81,
     "metadata": {},
     "output_type": "execute_result"
    }
   ],
   "source": [
    "def tuple_aggregator(series):\n",
    "    return tuple(series)\n",
    "\n",
    "# Pivot the DataFrame\n",
    "pivot_output_df = output_df.pivot_table(index=['cpsc_case_number', 'text'], columns='span_label', values='span_text', aggfunc=tuple_aggregator).reset_index()\n",
    "pivot_output_df.columns.name = None \n",
    "pivot_output_df.head(3)"
   ]
  },
  {
   "cell_type": "code",
   "execution_count": 82,
   "id": "1dbda2e3",
   "metadata": {
    "scrolled": false
   },
   "outputs": [
    {
     "data": {
      "text/html": [
       "<div>\n",
       "<style scoped>\n",
       "    .dataframe tbody tr th:only-of-type {\n",
       "        vertical-align: middle;\n",
       "    }\n",
       "\n",
       "    .dataframe tbody tr th {\n",
       "        vertical-align: top;\n",
       "    }\n",
       "\n",
       "    .dataframe thead th {\n",
       "        text-align: right;\n",
       "    }\n",
       "</style>\n",
       "<table border=\"1\" class=\"dataframe\">\n",
       "  <thead>\n",
       "    <tr style=\"text-align: right;\">\n",
       "      <th></th>\n",
       "      <th>cpsc_case_number</th>\n",
       "      <th>text</th>\n",
       "      <th>SO</th>\n",
       "      <th>SF</th>\n",
       "      <th>SU</th>\n",
       "      <th>OBJ</th>\n",
       "      <th>STR</th>\n",
       "      <th>WT</th>\n",
       "    </tr>\n",
       "  </thead>\n",
       "  <tbody>\n",
       "    <tr>\n",
       "      <th>0</th>\n",
       "      <td>190103269</td>\n",
       "      <td>94YOM FELL TO THE FLOOR AT THE NURSING HOME ON...</td>\n",
       "      <td>0</td>\n",
       "      <td>0</td>\n",
       "      <td>0</td>\n",
       "      <td>0</td>\n",
       "      <td>0</td>\n",
       "      <td>0</td>\n",
       "    </tr>\n",
       "    <tr>\n",
       "      <th>1</th>\n",
       "      <td>190103270</td>\n",
       "      <td>86YOM FELL IN THE SHOWER AT HOME AND SUSTAINED...</td>\n",
       "      <td>0</td>\n",
       "      <td>0</td>\n",
       "      <td>0</td>\n",
       "      <td>0</td>\n",
       "      <td>0</td>\n",
       "      <td>0</td>\n",
       "    </tr>\n",
       "    <tr>\n",
       "      <th>2</th>\n",
       "      <td>190103273</td>\n",
       "      <td>87YOF WAS GETTING UP FROM THE COUCH AND FELL T...</td>\n",
       "      <td>0</td>\n",
       "      <td>0</td>\n",
       "      <td>0</td>\n",
       "      <td>0</td>\n",
       "      <td>0</td>\n",
       "      <td>0</td>\n",
       "    </tr>\n",
       "    <tr>\n",
       "      <th>3</th>\n",
       "      <td>190103291</td>\n",
       "      <td>67YOF WAS AT A FRIENDS HOUSE AND SLIPPED ON WA...</td>\n",
       "      <td>0</td>\n",
       "      <td>0</td>\n",
       "      <td>0</td>\n",
       "      <td>0</td>\n",
       "      <td>0</td>\n",
       "      <td>0</td>\n",
       "    </tr>\n",
       "    <tr>\n",
       "      <th>4</th>\n",
       "      <td>190103294</td>\n",
       "      <td>70YOF WAS STANDING ON A STEP STOOL AND FELL OF...</td>\n",
       "      <td>0</td>\n",
       "      <td>0</td>\n",
       "      <td>0</td>\n",
       "      <td>0</td>\n",
       "      <td>0</td>\n",
       "      <td>0</td>\n",
       "    </tr>\n",
       "  </tbody>\n",
       "</table>\n",
       "</div>"
      ],
      "text/plain": [
       "   cpsc_case_number                                               text  SO  \\\n",
       "0         190103269  94YOM FELL TO THE FLOOR AT THE NURSING HOME ON...   0   \n",
       "1         190103270  86YOM FELL IN THE SHOWER AT HOME AND SUSTAINED...   0   \n",
       "2         190103273  87YOF WAS GETTING UP FROM THE COUCH AND FELL T...   0   \n",
       "3         190103291  67YOF WAS AT A FRIENDS HOUSE AND SLIPPED ON WA...   0   \n",
       "4         190103294  70YOF WAS STANDING ON A STEP STOOL AND FELL OF...   0   \n",
       "\n",
       "   SF  SU  OBJ  STR  WT  \n",
       "0   0   0    0    0   0  \n",
       "1   0   0    0    0   0  \n",
       "2   0   0    0    0   0  \n",
       "3   0   0    0    0   0  \n",
       "4   0   0    0    0   0  "
      ]
     },
     "execution_count": 82,
     "metadata": {},
     "output_type": "execute_result"
    }
   ],
   "source": [
    "# Copy the first two columns to new dataframe\n",
    "binary_df = pivot_output_df.iloc[:,0:2]\n",
    "\n",
    "# For each span category, convert to binary with 1 if a span was found for that case\n",
    "#  and add to the binary dataframe\n",
    "label_cats = ['SO','SF','SU','OBJ','STR','WT']\n",
    "for lab in label_cats:\n",
    "    binary_df[lab] = pivot_output_df[lab].map(lambda x: 0 if x == 'NA' or pd.isna(x) else 1)\n",
    "\n",
    "binary_df.head()"
   ]
  },
  {
   "cell_type": "markdown",
   "id": "e6324131",
   "metadata": {},
   "source": [
    "Merge that binary span presence dataframe with the full dataframe of case information."
   ]
  },
  {
   "cell_type": "code",
   "execution_count": 83,
   "id": "84a837c2",
   "metadata": {},
   "outputs": [
    {
     "data": {
      "text/plain": [
       "Index(['cpsc_case_number', 'text', 'SO', 'SF', 'SU', 'OBJ', 'STR', 'WT',\n",
       "       'narrative', 'treatment_date', 'age', 'sex', 'race', 'other_race',\n",
       "       'hispanic', 'diagnosis', 'other_diagnosis', 'diagnosis_2',\n",
       "       'other_diagnosis_2', 'body_part', 'body_part_2', 'disposition',\n",
       "       'location', 'fire_involvement', 'alcohol', 'drug', 'product_1',\n",
       "       'product_2', 'product_3', 'narrative_characters'],\n",
       "      dtype='object')"
      ]
     },
     "execution_count": 83,
     "metadata": {},
     "output_type": "execute_result"
    }
   ],
   "source": [
    "combo_df = pd.merge(binary_df, decoded_df, how=\"left\", on=\"cpsc_case_number\")\n",
    "combo_df.columns"
   ]
  },
  {
   "cell_type": "markdown",
   "id": "816126e7",
   "metadata": {},
   "source": [
    "## RESULTS\n",
    "\n",
    "### Words within labeled spans\n",
    "\n",
    "While I just made the binary dataframe, I will use it further down. I will start the analysis of the results with the original long format dataframe of four columns: cpsc_case_number, text, span_text, and span_label. "
   ]
  },
  {
   "cell_type": "code",
   "execution_count": 84,
   "id": "de8066ac",
   "metadata": {},
   "outputs": [
    {
     "data": {
      "text/html": [
       "<div>\n",
       "<style scoped>\n",
       "    .dataframe tbody tr th:only-of-type {\n",
       "        vertical-align: middle;\n",
       "    }\n",
       "\n",
       "    .dataframe tbody tr th {\n",
       "        vertical-align: top;\n",
       "    }\n",
       "\n",
       "    .dataframe thead th {\n",
       "        text-align: right;\n",
       "    }\n",
       "</style>\n",
       "<table border=\"1\" class=\"dataframe\">\n",
       "  <thead>\n",
       "    <tr style=\"text-align: right;\">\n",
       "      <th></th>\n",
       "      <th>cpsc_case_number</th>\n",
       "      <th>text</th>\n",
       "      <th>span_text</th>\n",
       "      <th>span_label</th>\n",
       "    </tr>\n",
       "  </thead>\n",
       "  <tbody>\n",
       "    <tr>\n",
       "      <th>0</th>\n",
       "      <td>190105485</td>\n",
       "      <td>87YOF TRIPPED OVER A DOG AND FELL TO THE FLOOR...</td>\n",
       "      <td>TRIPPED OVER A DOG</td>\n",
       "      <td>OBJ</td>\n",
       "    </tr>\n",
       "    <tr>\n",
       "      <th>0</th>\n",
       "      <td>190107102</td>\n",
       "      <td>72YOF WALKING AT HOME ON CLUTTERED CARPET FLOO...</td>\n",
       "      <td>TRIPPED ON OBJECT</td>\n",
       "      <td>OBJ</td>\n",
       "    </tr>\n",
       "  </tbody>\n",
       "</table>\n",
       "</div>"
      ],
      "text/plain": [
       "  cpsc_case_number                                               text  \\\n",
       "0        190105485  87YOF TRIPPED OVER A DOG AND FELL TO THE FLOOR...   \n",
       "0        190107102  72YOF WALKING AT HOME ON CLUTTERED CARPET FLOO...   \n",
       "\n",
       "            span_text span_label  \n",
       "0  TRIPPED OVER A DOG        OBJ  \n",
       "0   TRIPPED ON OBJECT        OBJ  "
      ]
     },
     "execution_count": 84,
     "metadata": {},
     "output_type": "execute_result"
    }
   ],
   "source": [
    "OBJ_entries = output_df[output_df['span_label'] == 'OBJ']\n",
    "OBJ_entries.head(2)"
   ]
  },
  {
   "cell_type": "code",
   "execution_count": 85,
   "id": "61e3574c",
   "metadata": {},
   "outputs": [
    {
     "data": {
      "text/plain": [
       "9665"
      ]
     },
     "execution_count": 85,
     "metadata": {},
     "output_type": "execute_result"
    }
   ],
   "source": [
    "len(OBJ_entries)"
   ]
  },
  {
   "cell_type": "code",
   "execution_count": 86,
   "id": "a8386e12",
   "metadata": {},
   "outputs": [
    {
     "data": {
      "text/plain": [
       "[['DOG'], ['OBJECT'], ['RUG']]"
      ]
     },
     "execution_count": 86,
     "metadata": {},
     "output_type": "execute_result"
    }
   ],
   "source": [
    "# I developed this remove list by looking at the most frequent word list\n",
    "#  and removing those that weren't objects\n",
    "list_remove_OBJ = ['TRIPPED', 'OVER', 'A', 'AN','ON', 'THE', 'HER', \n",
    "                   'OF', 'HIS', 'TRIPPING', 'FALL', 'FELL', 'SLIPPED', \n",
    "                   'OWN', 'FEET', 'SOME', 'UP']\n",
    "OBJ_words = []\n",
    "for i in range(len(OBJ_entries)):\n",
    "    temp_entry = OBJ_entries.iloc[i,2]\n",
    "    temp_text  = temp_entry.split(' ')\n",
    "    out_temp = list(set(temp_text)-set(list_remove_OBJ))\n",
    "    out_temp = ['SHOE' if word == 'SHOES' else word for word in out_temp]\n",
    "    OBJ_words.append(out_temp) \n",
    "OBJ_words[0:3]    "
   ]
  },
  {
   "cell_type": "code",
   "execution_count": 87,
   "id": "a1590772",
   "metadata": {},
   "outputs": [],
   "source": [
    "def flatten_list(nested_list):\n",
    "    return [item for sublist in nested_list for item in sublist]"
   ]
  },
  {
   "cell_type": "code",
   "execution_count": 88,
   "id": "b50b8e5d",
   "metadata": {},
   "outputs": [
    {
     "data": {
      "text/plain": [
       "[{'element': 'DOG', 'count': 419},\n",
       " {'element': 'OBJECT', 'count': 31},\n",
       " {'element': 'RUG', 'count': 1522},\n",
       " {'element': 'STEP', 'count': 339},\n",
       " {'element': 'SHOE', 'count': 535}]"
      ]
     },
     "execution_count": 88,
     "metadata": {},
     "output_type": "execute_result"
    }
   ],
   "source": [
    "OBJ_word_counts = collections.Counter(flatten_list(OBJ_words))\n",
    "my_dict = dict(OBJ_word_counts)\n",
    "\n",
    "rows = []\n",
    "for key, value in my_dict.items():\n",
    "    row = {'element': key, 'count': value}\n",
    "    rows.append(row)\n",
    "rows[0:5]    "
   ]
  },
  {
   "cell_type": "code",
   "execution_count": 89,
   "id": "dd1c496c",
   "metadata": {},
   "outputs": [],
   "source": [
    "df = pd.DataFrame(rows).sort_values('count', ascending=False)\n",
    "\n",
    "df.set_index('element', inplace=True)\n",
    "OBJ_plot_subset = df.head(14).sort_values('count')"
   ]
  },
  {
   "cell_type": "code",
   "execution_count": 90,
   "id": "c301411d",
   "metadata": {},
   "outputs": [
    {
     "data": {
      "text/html": [
       "<div>\n",
       "<style scoped>\n",
       "    .dataframe tbody tr th:only-of-type {\n",
       "        vertical-align: middle;\n",
       "    }\n",
       "\n",
       "    .dataframe tbody tr th {\n",
       "        vertical-align: top;\n",
       "    }\n",
       "\n",
       "    .dataframe thead th {\n",
       "        text-align: right;\n",
       "    }\n",
       "</style>\n",
       "<table border=\"1\" class=\"dataframe\">\n",
       "  <thead>\n",
       "    <tr style=\"text-align: right;\">\n",
       "      <th></th>\n",
       "      <th>count</th>\n",
       "    </tr>\n",
       "    <tr>\n",
       "      <th>element</th>\n",
       "      <th></th>\n",
       "    </tr>\n",
       "  </thead>\n",
       "  <tbody>\n",
       "    <tr>\n",
       "      <th>OXYGEN</th>\n",
       "      <td>119</td>\n",
       "    </tr>\n",
       "    <tr>\n",
       "      <th>SOMETHING</th>\n",
       "      <td>121</td>\n",
       "    </tr>\n",
       "    <tr>\n",
       "      <th>CAT</th>\n",
       "      <td>134</td>\n",
       "    </tr>\n",
       "    <tr>\n",
       "      <th>WALKER</th>\n",
       "      <td>183</td>\n",
       "    </tr>\n",
       "    <tr>\n",
       "      <th>BOX</th>\n",
       "      <td>204</td>\n",
       "    </tr>\n",
       "    <tr>\n",
       "      <th>DOOR</th>\n",
       "      <td>218</td>\n",
       "    </tr>\n",
       "    <tr>\n",
       "      <th>HOSE</th>\n",
       "      <td>255</td>\n",
       "    </tr>\n",
       "    <tr>\n",
       "      <th>CHAIR</th>\n",
       "      <td>270</td>\n",
       "    </tr>\n",
       "    <tr>\n",
       "      <th>STEP</th>\n",
       "      <td>339</td>\n",
       "    </tr>\n",
       "    <tr>\n",
       "      <th>CARPET</th>\n",
       "      <td>372</td>\n",
       "    </tr>\n",
       "    <tr>\n",
       "      <th>CORD</th>\n",
       "      <td>396</td>\n",
       "    </tr>\n",
       "    <tr>\n",
       "      <th>DOG</th>\n",
       "      <td>419</td>\n",
       "    </tr>\n",
       "    <tr>\n",
       "      <th>SHOE</th>\n",
       "      <td>535</td>\n",
       "    </tr>\n",
       "    <tr>\n",
       "      <th>RUG</th>\n",
       "      <td>1522</td>\n",
       "    </tr>\n",
       "  </tbody>\n",
       "</table>\n",
       "</div>"
      ],
      "text/plain": [
       "           count\n",
       "element         \n",
       "OXYGEN       119\n",
       "SOMETHING    121\n",
       "CAT          134\n",
       "WALKER       183\n",
       "BOX          204\n",
       "DOOR         218\n",
       "HOSE         255\n",
       "CHAIR        270\n",
       "STEP         339\n",
       "CARPET       372\n",
       "CORD         396\n",
       "DOG          419\n",
       "SHOE         535\n",
       "RUG         1522"
      ]
     },
     "execution_count": 90,
     "metadata": {},
     "output_type": "execute_result"
    }
   ],
   "source": [
    "OBJ_plot_subset"
   ]
  },
  {
   "cell_type": "code",
   "execution_count": 91,
   "id": "f7f3226e",
   "metadata": {},
   "outputs": [
    {
     "data": {
      "image/png": "[encoded data removed]",
      "text/plain": [
       "<Figure size 640x480 with 1 Axes>"
      ]
     },
     "metadata": {},
     "output_type": "display_data"
    }
   ],
   "source": [
    "ax = OBJ_plot_subset.plot.barh(width = 0.8)\n",
    "plt.ylabel('')\n",
    "plt.xlabel('Count')\n",
    "plt.title('Object causing fall')\n",
    "plt.gca().get_legend().remove()\n",
    "plt.gca().invert_yaxis()\n",
    "plt.grid(axis='x', linestyle='--', linewidth=0.7, alpha=0.7)\n",
    "plt.savefig(\"Object_causing.pdf\", format=\"pdf\", pad_inches = 0.5, bbox_inches = 'tight')"
   ]
  },
  {
   "cell_type": "code",
   "execution_count": 92,
   "id": "767e9614",
   "metadata": {},
   "outputs": [
    {
     "data": {
      "text/plain": [
       "18447"
      ]
     },
     "execution_count": 92,
     "metadata": {},
     "output_type": "execute_result"
    }
   ],
   "source": [
    "# Retrieve entries where an object was struck\n",
    "SO_entries = output_df[output_df['span_label'] == 'SO']\n",
    "len(SO_entries)"
   ]
  },
  {
   "cell_type": "code",
   "execution_count": 93,
   "id": "a216189d",
   "metadata": {},
   "outputs": [
    {
     "data": {
      "text/html": [
       "<div>\n",
       "<style scoped>\n",
       "    .dataframe tbody tr th:only-of-type {\n",
       "        vertical-align: middle;\n",
       "    }\n",
       "\n",
       "    .dataframe tbody tr th {\n",
       "        vertical-align: top;\n",
       "    }\n",
       "\n",
       "    .dataframe thead th {\n",
       "        text-align: right;\n",
       "    }\n",
       "</style>\n",
       "<table border=\"1\" class=\"dataframe\">\n",
       "  <thead>\n",
       "    <tr style=\"text-align: right;\">\n",
       "      <th></th>\n",
       "      <th>cpsc_case_number</th>\n",
       "      <th>text</th>\n",
       "      <th>span_text</th>\n",
       "      <th>span_label</th>\n",
       "    </tr>\n",
       "  </thead>\n",
       "  <tbody>\n",
       "    <tr>\n",
       "      <th>0</th>\n",
       "      <td>190103309</td>\n",
       "      <td>74YOM FELL INTO A PLANTER BOX AND SUSTAINED A ...</td>\n",
       "      <td>INTO A PLANTER BOX</td>\n",
       "      <td>SO</td>\n",
       "    </tr>\n",
       "    <tr>\n",
       "      <th>0</th>\n",
       "      <td>190104639</td>\n",
       "      <td>75 YOF C/O ANKLE FRACTURE S/P WAS WEARING A SI...</td>\n",
       "      <td>AGAINST THE DOOR</td>\n",
       "      <td>SO</td>\n",
       "    </tr>\n",
       "    <tr>\n",
       "      <th>0</th>\n",
       "      <td>190104659</td>\n",
       "      <td>69  YOM C/O FACIAL LACERATION S/P HAVING A NIG...</td>\n",
       "      <td>HITTING HIS FACE ON HIS NIGHTSTAND</td>\n",
       "      <td>SO</td>\n",
       "    </tr>\n",
       "    <tr>\n",
       "      <th>0</th>\n",
       "      <td>190106324</td>\n",
       "      <td>85YM SUFFERED FROM SYNCOPAL FALL HITTING HEAD ...</td>\n",
       "      <td>HITTING HEAD ONTO THE WALL</td>\n",
       "      <td>SO</td>\n",
       "    </tr>\n",
       "    <tr>\n",
       "      <th>0</th>\n",
       "      <td>190106373</td>\n",
       "      <td>83YF FELL OFF HER STAIR CHAIRS COMING DOWN STA...</td>\n",
       "      <td>HITTING CHEST ONTO A TABLE</td>\n",
       "      <td>SO</td>\n",
       "    </tr>\n",
       "  </tbody>\n",
       "</table>\n",
       "</div>"
      ],
      "text/plain": [
       "  cpsc_case_number                                               text  \\\n",
       "0        190103309  74YOM FELL INTO A PLANTER BOX AND SUSTAINED A ...   \n",
       "0        190104639  75 YOF C/O ANKLE FRACTURE S/P WAS WEARING A SI...   \n",
       "0        190104659  69  YOM C/O FACIAL LACERATION S/P HAVING A NIG...   \n",
       "0        190106324  85YM SUFFERED FROM SYNCOPAL FALL HITTING HEAD ...   \n",
       "0        190106373  83YF FELL OFF HER STAIR CHAIRS COMING DOWN STA...   \n",
       "\n",
       "                            span_text span_label  \n",
       "0                  INTO A PLANTER BOX         SO  \n",
       "0                    AGAINST THE DOOR         SO  \n",
       "0  HITTING HIS FACE ON HIS NIGHTSTAND         SO  \n",
       "0          HITTING HEAD ONTO THE WALL         SO  \n",
       "0          HITTING CHEST ONTO A TABLE         SO  "
      ]
     },
     "execution_count": 93,
     "metadata": {},
     "output_type": "execute_result"
    }
   ],
   "source": [
    "SO_entries.head()"
   ]
  },
  {
   "cell_type": "code",
   "execution_count": 94,
   "id": "8c95f7c1",
   "metadata": {},
   "outputs": [],
   "source": [
    "list_remove = ['A', 'HEAD', 'HIT', 'THE', 'ON', 'HITTING', 'STRIKING', \n",
    "               'HER', 'OF', 'AGAINST', 'STRUCK', 'ONTO', 'HIS', 'INTO',\n",
    "              'FACE','BACK', 'SIDE', 'CHEST', 'RIGHT', 'LEFT', 'EDGE', \n",
    "               'FOREHEAD', 'STAND','FRAME', 'AND', 'COFFEE', 'LANDED', 'ARM'\n",
    "              ]\n",
    "SO_words = []\n",
    "for i in range(len(SO_entries)):\n",
    "    temp_entry = SO_entries.iloc[i,2]\n",
    "    temp_text  = temp_entry.split(' ')\n",
    "    out_temp = list(set(temp_text)-set(list_remove))\n",
    "    out_temp = ['BATHTUB' if word == 'TUB' else word for word in out_temp]\n",
    "    SO_words.append(out_temp)    "
   ]
  },
  {
   "cell_type": "code",
   "execution_count": 95,
   "id": "14190be8",
   "metadata": {},
   "outputs": [
    {
     "data": {
      "text/html": [
       "<div>\n",
       "<style scoped>\n",
       "    .dataframe tbody tr th:only-of-type {\n",
       "        vertical-align: middle;\n",
       "    }\n",
       "\n",
       "    .dataframe tbody tr th {\n",
       "        vertical-align: top;\n",
       "    }\n",
       "\n",
       "    .dataframe thead th {\n",
       "        text-align: right;\n",
       "    }\n",
       "</style>\n",
       "<table border=\"1\" class=\"dataframe\">\n",
       "  <thead>\n",
       "    <tr style=\"text-align: right;\">\n",
       "      <th></th>\n",
       "      <th>count</th>\n",
       "    </tr>\n",
       "    <tr>\n",
       "      <th>element</th>\n",
       "      <th></th>\n",
       "    </tr>\n",
       "  </thead>\n",
       "  <tbody>\n",
       "    <tr>\n",
       "      <th>SINK</th>\n",
       "      <td>327</td>\n",
       "    </tr>\n",
       "    <tr>\n",
       "      <th>FURNITURE</th>\n",
       "      <td>338</td>\n",
       "    </tr>\n",
       "    <tr>\n",
       "      <th>BED</th>\n",
       "      <td>355</td>\n",
       "    </tr>\n",
       "    <tr>\n",
       "      <th>TOILET</th>\n",
       "      <td>461</td>\n",
       "    </tr>\n",
       "    <tr>\n",
       "      <th>NIGHTSTAND</th>\n",
       "      <td>492</td>\n",
       "    </tr>\n",
       "    <tr>\n",
       "      <th>COUNTER</th>\n",
       "      <td>525</td>\n",
       "    </tr>\n",
       "    <tr>\n",
       "      <th>CHAIR</th>\n",
       "      <td>600</td>\n",
       "    </tr>\n",
       "    <tr>\n",
       "      <th>CABINET</th>\n",
       "      <td>628</td>\n",
       "    </tr>\n",
       "    <tr>\n",
       "      <th>CORNER</th>\n",
       "      <td>659</td>\n",
       "    </tr>\n",
       "    <tr>\n",
       "      <th>BATHTUB</th>\n",
       "      <td>772</td>\n",
       "    </tr>\n",
       "    <tr>\n",
       "      <th>DRESSER</th>\n",
       "      <td>855</td>\n",
       "    </tr>\n",
       "    <tr>\n",
       "      <th>DOOR</th>\n",
       "      <td>1473</td>\n",
       "    </tr>\n",
       "    <tr>\n",
       "      <th>TABLE</th>\n",
       "      <td>2154</td>\n",
       "    </tr>\n",
       "    <tr>\n",
       "      <th>WALL</th>\n",
       "      <td>2899</td>\n",
       "    </tr>\n",
       "  </tbody>\n",
       "</table>\n",
       "</div>"
      ],
      "text/plain": [
       "            count\n",
       "element          \n",
       "SINK          327\n",
       "FURNITURE     338\n",
       "BED           355\n",
       "TOILET        461\n",
       "NIGHTSTAND    492\n",
       "COUNTER       525\n",
       "CHAIR         600\n",
       "CABINET       628\n",
       "CORNER        659\n",
       "BATHTUB       772\n",
       "DRESSER       855\n",
       "DOOR         1473\n",
       "TABLE        2154\n",
       "WALL         2899"
      ]
     },
     "execution_count": 95,
     "metadata": {},
     "output_type": "execute_result"
    }
   ],
   "source": [
    "sns.set_theme(style=\"white\")\n",
    "              \n",
    "SO_word_counts = collections.Counter(flatten_list(SO_words))\n",
    "my_dict = dict(SO_word_counts)\n",
    "\n",
    "rows = []\n",
    "for key, value in my_dict.items():\n",
    "    row = {'element': key, 'count': value}\n",
    "    rows.append(row)\n",
    "df = pd.DataFrame(rows).sort_values('count', ascending=False)\n",
    "\n",
    "df.set_index('element', inplace=True)\n",
    "SO_plot_subset = df.head(14).sort_values('count')\n",
    "SO_plot_subset"
   ]
  },
  {
   "cell_type": "code",
   "execution_count": 96,
   "id": "99c1440e",
   "metadata": {},
   "outputs": [
    {
     "data": {
      "image/png": "[encoded data removed]",
      "text/plain": [
       "<Figure size 640x480 with 1 Axes>"
      ]
     },
     "metadata": {},
     "output_type": "display_data"
    }
   ],
   "source": [
    "ax = SO_plot_subset.plot.barh(width = 0.8)\n",
    "plt.ylabel('')\n",
    "plt.xlabel('Count')\n",
    "plt.title('Object struck')\n",
    "plt.gca().get_legend().remove()\n",
    "plt.gca().invert_yaxis()\n",
    "plt.grid(axis='x', linestyle='--', linewidth=0.7, alpha=0.7)\n",
    "plt.savefig(\"Object_struck.pdf\", format=\"pdf\", pad_inches = 0.5, bbox_inches = 'tight')"
   ]
  },
  {
   "cell_type": "code",
   "execution_count": 135,
   "id": "978e809f",
   "metadata": {},
   "outputs": [
    {
     "data": {
      "image/png": "[encoded data removed]",
      "text/plain": [
       "<Figure size 1200x400 with 2 Axes>"
      ]
     },
     "metadata": {},
     "output_type": "display_data"
    }
   ],
   "source": [
    "c1 = \"#8F2835\"\n",
    "c2 = \"#61000D\"\n",
    "c3 = \"#1D54B3\"\n",
    "c4 = \"#16408A\"\n",
    "\n",
    "\n",
    "fig, (ax1, ax2) = plt.subplots(1, 2, figsize=(12,4))\n",
    "# fig.suptitle('Falls involving objects', size=20, y=1.02)\n",
    "OBJ_plot_subset.plot.barh(width = 0.8, ax = ax1, color = c1)\n",
    "SO_plot_subset.plot.barh(width = 0.8, ax = ax2, color = c3)\n",
    "ax1.legend().set_visible(False) \n",
    "ax2.legend().set_visible(False) \n",
    "ax1.set_ylabel('')\n",
    "ax2.set_ylabel('')\n",
    "ax1.tick_params(labelsize=12)\n",
    "ax2.tick_params(labelsize=12)\n",
    "ax1.set_title(\"Object instigating fall\", fontsize = 16, color = c2)\n",
    "ax2.set_title(\"Object struck\", fontsize = 16, color = c4)\n",
    "ax1.set_xlabel('Count', fontsize = 14, color = c2)\n",
    "ax2.set_xlabel('Count', fontsize = 14, color = c4)\n",
    "ax1.grid(True, which='both', axis='x', linestyle='--', linewidth=0.8, color='lightgray')\n",
    "ax2.grid(True, which='both', axis='x', linestyle='--', linewidth=0.8, color='lightgray')\n",
    "ax1.tick_params(axis='y', labelcolor=c2)\n",
    "ax2.tick_params(axis='y', labelcolor=c4)\n",
    "ax1.tick_params(axis='x', labelcolor=c2)\n",
    "ax2.tick_params(axis='x', labelcolor=c4)\n",
    "for spine in ['left', 'right', 'top', 'bottom']:\n",
    "    ax1.spines[spine].set_edgecolor(c2)\n",
    "    ax2.spines[spine].set_edgecolor(c4)\n",
    "\n",
    "plt.subplots_adjust(wspace=0.35)  #\n",
    "plt.savefig(\"Objects_associated_with_falls.pdf\", format=\"pdf\", pad_inches = 0.25, bbox_inches = 'tight')"
   ]
  },
  {
   "cell_type": "markdown",
   "id": "b2912648",
   "metadata": {},
   "source": [
    "### Clean labels for plotting"
   ]
  },
  {
   "cell_type": "code",
   "execution_count": 98,
   "id": "6bb4b742",
   "metadata": {},
   "outputs": [
    {
     "name": "stdout",
     "output_type": "stream",
     "text": [
      "['TREATED AND ADMITTED/HOSPITALIZED' 'TREATED/EXAMINED AND RELEASED'\n",
      " 'HELD FOR OBSERVATION' 'TREATED AND TRANSFERRED'\n",
      " 'LEFT WITHOUT BEING SEEN']\n"
     ]
    }
   ],
   "source": [
    "# Remove the starting numbers from the category codes\n",
    "combo_df['diagnosis'] = combo_df['diagnosis'].str.replace(r'\\d+ - ', '', regex=True)\n",
    "combo_df['disposition'] = combo_df['disposition'].str.replace(r'\\d+ - ', '', regex=True)\n",
    "\n",
    "# Change the diagnosis codes to sentence case\n",
    "combo_df['diagnosis']= combo_df['diagnosis'].str.title()\n",
    "print(combo_df['disposition'].unique())"
   ]
  },
  {
   "cell_type": "code",
   "execution_count": 99,
   "id": "415f56ab",
   "metadata": {},
   "outputs": [
    {
     "name": "stdout",
     "output_type": "stream",
     "text": [
      "['Admitted' 'Released' 'Held' 'Transferred' 'Unseen']\n"
     ]
    }
   ],
   "source": [
    "# Shorten the disposition names, keeping general meaning\n",
    "label_mapping = {'TREATED AND ADMITTED/HOSPITALIZED': 'Admitted', \n",
    "                 'TREATED/EXAMINED AND RELEASED': 'Released', \n",
    "                 'HELD FOR OBSERVATION': 'Held', \n",
    "                 'TREATED AND TRANSFERRED': 'Transferred',  \n",
    "                 'LEFT WITHOUT BEING SEEN': 'Unseen', }\n",
    "combo_df['disposition'] = combo_df['disposition'].map(label_mapping)\n",
    "print(combo_df['disposition'].unique())"
   ]
  },
  {
   "cell_type": "code",
   "execution_count": 100,
   "id": "42905721",
   "metadata": {},
   "outputs": [
    {
     "data": {
      "text/plain": [
       "<seaborn.axisgrid.FacetGrid at 0x2b12e82e0>"
      ]
     },
     "execution_count": 100,
     "metadata": {},
     "output_type": "execute_result"
    },
    {
     "data": {
      "image/png": "[encoded data removed]",
      "text/plain": [
       "<Figure size 633.5x500 with 1 Axes>"
      ]
     },
     "metadata": {},
     "output_type": "display_data"
    }
   ],
   "source": [
    "sns.displot(combo_df, x = 'narrative_characters', hue = 'disposition', kind = 'kde')"
   ]
  },
  {
   "cell_type": "markdown",
   "id": "8fc2fd21",
   "metadata": {},
   "source": [
    "Gather rows for specific strike types"
   ]
  },
  {
   "cell_type": "code",
   "execution_count": 101,
   "id": "41d4a158",
   "metadata": {},
   "outputs": [
    {
     "data": {
      "text/plain": [
       "9638"
      ]
     },
     "execution_count": 101,
     "metadata": {},
     "output_type": "execute_result"
    }
   ],
   "source": [
    "object_involved = combo_df[combo_df['OBJ'] == 1]\n",
    "len(object_involved)\n",
    "# Note this list ends up shorter than all unique OBJ entries because some cases might have OBJ in >1 span"
   ]
  },
  {
   "cell_type": "markdown",
   "id": "b08cd847",
   "metadata": {},
   "source": [
    "I will subset the data to include only cases where just one of these spans are labeled: struck object, struck floor, or struck unknown. In that way, I am improving the chance that I am separating cases with only a single type of striking. That is, I want to have a group of cases where it was recorded that an object was struck but there was no additional mention of striking the floor. Likewise, I want a group where striking the floor was mentioned but there was no additional mentioning of striking an object. Given the 90% precision and 80% recall of the model, and given that information may have been left out of the clinical narratives, these groupings will not be perfect. However, I will proceed with analyzing them, keeping in mind they carry with them some margin of error."
   ]
  },
  {
   "cell_type": "code",
   "execution_count": 102,
   "id": "f3f1f340",
   "metadata": {},
   "outputs": [
    {
     "name": "stdout",
     "output_type": "stream",
     "text": [
      "15553 17410 4696\n"
     ]
    }
   ],
   "source": [
    "struck_object = combo_df[(combo_df['SO']==1) & (combo_df['SF']!=1) & (combo_df['SU']!=1)]\n",
    "struck_floor = combo_df[(combo_df['SO']!=1) & (combo_df['SF']==1) & (combo_df['SU']!=1)]\n",
    "struck_unknown = combo_df[(combo_df['SO']!=1) & (combo_df['SF']!=1) & (combo_df['SU']==1)]\n",
    "print(len(struck_floor), len(struck_object), len(struck_unknown))"
   ]
  },
  {
   "cell_type": "markdown",
   "id": "95e9682e",
   "metadata": {},
   "source": [
    "Bind the struck object and struck floor sets back together for plotting"
   ]
  },
  {
   "cell_type": "code",
   "execution_count": 103,
   "id": "f4e22ba3",
   "metadata": {},
   "outputs": [
    {
     "data": {
      "text/html": [
       "<div>\n",
       "<style scoped>\n",
       "    .dataframe tbody tr th:only-of-type {\n",
       "        vertical-align: middle;\n",
       "    }\n",
       "\n",
       "    .dataframe tbody tr th {\n",
       "        vertical-align: top;\n",
       "    }\n",
       "\n",
       "    .dataframe thead th {\n",
       "        text-align: right;\n",
       "    }\n",
       "</style>\n",
       "<table border=\"1\" class=\"dataframe\">\n",
       "  <thead>\n",
       "    <tr style=\"text-align: right;\">\n",
       "      <th></th>\n",
       "      <th>cpsc_case_number</th>\n",
       "      <th>text</th>\n",
       "      <th>SO</th>\n",
       "      <th>SF</th>\n",
       "      <th>SU</th>\n",
       "      <th>OBJ</th>\n",
       "      <th>STR</th>\n",
       "      <th>WT</th>\n",
       "      <th>narrative</th>\n",
       "      <th>treatment_date</th>\n",
       "      <th>...</th>\n",
       "      <th>disposition</th>\n",
       "      <th>location</th>\n",
       "      <th>fire_involvement</th>\n",
       "      <th>alcohol</th>\n",
       "      <th>drug</th>\n",
       "      <th>product_1</th>\n",
       "      <th>product_2</th>\n",
       "      <th>product_3</th>\n",
       "      <th>narrative_characters</th>\n",
       "      <th>struck</th>\n",
       "    </tr>\n",
       "  </thead>\n",
       "  <tbody>\n",
       "    <tr>\n",
       "      <th>0</th>\n",
       "      <td>190103309</td>\n",
       "      <td>74YOM FELL INTO A PLANTER BOX AND SUSTAINED A ...</td>\n",
       "      <td>1</td>\n",
       "      <td>0</td>\n",
       "      <td>0</td>\n",
       "      <td>0</td>\n",
       "      <td>0</td>\n",
       "      <td>0</td>\n",
       "      <td>74YOM FELL INTO A PLANTER BOX AND SUSTAINED A ...</td>\n",
       "      <td>2019-01-01</td>\n",
       "      <td>...</td>\n",
       "      <td>Released</td>\n",
       "      <td>HOME</td>\n",
       "      <td>NO/?</td>\n",
       "      <td>No/Unk</td>\n",
       "      <td>No/Unk</td>\n",
       "      <td>1413 - GREENHOUSE OR GARDENING SUPPLIES</td>\n",
       "      <td>0 - None</td>\n",
       "      <td>0 - None</td>\n",
       "      <td>57</td>\n",
       "      <td>Object</td>\n",
       "    </tr>\n",
       "    <tr>\n",
       "      <th>1</th>\n",
       "      <td>190104639</td>\n",
       "      <td>75 YOF C/O ANKLE FRACTURE S/P WAS WEARING A SI...</td>\n",
       "      <td>1</td>\n",
       "      <td>0</td>\n",
       "      <td>0</td>\n",
       "      <td>0</td>\n",
       "      <td>0</td>\n",
       "      <td>0</td>\n",
       "      <td>75 YOF C/O ANKLE FRACTURE S/P WAS WEARING A SI...</td>\n",
       "      <td>2019-01-01</td>\n",
       "      <td>...</td>\n",
       "      <td>Released</td>\n",
       "      <td>HOME</td>\n",
       "      <td>NO/?</td>\n",
       "      <td>No/Unk</td>\n",
       "      <td>No/Unk</td>\n",
       "      <td>1644 - NIGHTWEAR</td>\n",
       "      <td>4076 - BEDS OR BEDFRAMES, OTHER OR NOT SPECIFIED</td>\n",
       "      <td>1893 - DOORS, OTHER OR NOT SPECIFIED</td>\n",
       "      <td>114</td>\n",
       "      <td>Object</td>\n",
       "    </tr>\n",
       "    <tr>\n",
       "      <th>2</th>\n",
       "      <td>190104659</td>\n",
       "      <td>69  YOM C/O FACIAL LACERATION S/P HAVING A NIG...</td>\n",
       "      <td>1</td>\n",
       "      <td>0</td>\n",
       "      <td>0</td>\n",
       "      <td>0</td>\n",
       "      <td>0</td>\n",
       "      <td>0</td>\n",
       "      <td>69  YOM C/O FACIAL LACERATION S/P HAVING A NIG...</td>\n",
       "      <td>2019-01-01</td>\n",
       "      <td>...</td>\n",
       "      <td>Released</td>\n",
       "      <td>HOME</td>\n",
       "      <td>NO/?</td>\n",
       "      <td>No/Unk</td>\n",
       "      <td>No/Unk</td>\n",
       "      <td>4076 - BEDS OR BEDFRAMES, OTHER OR NOT SPECIFIED</td>\n",
       "      <td>4057 - TABLES (EXCL.  BABY CHANGING TABLES, BI...</td>\n",
       "      <td>0 - None</td>\n",
       "      <td>111</td>\n",
       "      <td>Object</td>\n",
       "    </tr>\n",
       "  </tbody>\n",
       "</table>\n",
       "<p>3 rows × 31 columns</p>\n",
       "</div>"
      ],
      "text/plain": [
       "   cpsc_case_number                                               text  SO  \\\n",
       "0         190103309  74YOM FELL INTO A PLANTER BOX AND SUSTAINED A ...   1   \n",
       "1         190104639  75 YOF C/O ANKLE FRACTURE S/P WAS WEARING A SI...   1   \n",
       "2         190104659  69  YOM C/O FACIAL LACERATION S/P HAVING A NIG...   1   \n",
       "\n",
       "   SF  SU  OBJ  STR  WT                                          narrative  \\\n",
       "0   0   0    0    0   0  74YOM FELL INTO A PLANTER BOX AND SUSTAINED A ...   \n",
       "1   0   0    0    0   0  75 YOF C/O ANKLE FRACTURE S/P WAS WEARING A SI...   \n",
       "2   0   0    0    0   0  69  YOM C/O FACIAL LACERATION S/P HAVING A NIG...   \n",
       "\n",
       "  treatment_date  ...  disposition location fire_involvement alcohol    drug  \\\n",
       "0     2019-01-01  ...     Released     HOME             NO/?  No/Unk  No/Unk   \n",
       "1     2019-01-01  ...     Released     HOME             NO/?  No/Unk  No/Unk   \n",
       "2     2019-01-01  ...     Released     HOME             NO/?  No/Unk  No/Unk   \n",
       "\n",
       "                                          product_1  \\\n",
       "0           1413 - GREENHOUSE OR GARDENING SUPPLIES   \n",
       "1                                  1644 - NIGHTWEAR   \n",
       "2  4076 - BEDS OR BEDFRAMES, OTHER OR NOT SPECIFIED   \n",
       "\n",
       "                                           product_2  \\\n",
       "0                                           0 - None   \n",
       "1   4076 - BEDS OR BEDFRAMES, OTHER OR NOT SPECIFIED   \n",
       "2  4057 - TABLES (EXCL.  BABY CHANGING TABLES, BI...   \n",
       "\n",
       "                              product_3 narrative_characters  struck  \n",
       "0                              0 - None                   57  Object  \n",
       "1  1893 - DOORS, OTHER OR NOT SPECIFIED                  114  Object  \n",
       "2                              0 - None                  111  Object  \n",
       "\n",
       "[3 rows x 31 columns]"
      ]
     },
     "execution_count": 103,
     "metadata": {},
     "output_type": "execute_result"
    }
   ],
   "source": [
    "struck_object = struck_object.assign(struck = 'Object')\n",
    "struck_floor = struck_floor.assign(struck = 'Floor')\n",
    "striking_df = pd.concat([struck_object, struck_floor ], ignore_index=True) \n",
    "striking_df.head(3)"
   ]
  },
  {
   "cell_type": "markdown",
   "id": "955e6a51",
   "metadata": {},
   "source": [
    "Plot disposition distribution for each category"
   ]
  },
  {
   "cell_type": "code",
   "execution_count": 104,
   "id": "ae1edf2c",
   "metadata": {},
   "outputs": [],
   "source": [
    "strike_disp = striking_df[['disposition', 'struck' ]]\n",
    "strike_disp_counts = strike_disp.groupby(['struck', 'disposition']).size().reset_index(name='count')\n",
    "temp = strike_disp_counts.pivot(columns = 'disposition', index = 'struck', values = 'count' )\n",
    "temp.columns.name=''\n",
    "col_order = ['Released', 'Admitted', 'Held', 'Transferred', 'Unseen']\n",
    "strike_disp_counts = temp[col_order]"
   ]
  },
  {
   "cell_type": "code",
   "execution_count": 105,
   "id": "d1be36d8",
   "metadata": {
    "scrolled": true
   },
   "outputs": [
    {
     "data": {
      "text/plain": [
       "<Figure size 800x400 with 0 Axes>"
      ]
     },
     "metadata": {},
     "output_type": "display_data"
    },
    {
     "data": {
      "image/png": "[encoded data removed]",
      "text/plain": [
       "<Figure size 640x480 with 1 Axes>"
      ]
     },
     "metadata": {},
     "output_type": "display_data"
    }
   ],
   "source": [
    "# Create the figure\n",
    "plt.figure(figsize=(8, 4))\n",
    "\n",
    "#sns.set_palette('colorblind')\n",
    "plt.style.use('tableau-colorblind10')\n",
    "\n",
    "# Convert to relative proportions \n",
    "strike_disp_counts.apply(lambda x: x*100/sum(x), axis = 1).plot(kind = 'bar', stacked = True, fontsize = 14, edgecolor='none')\n",
    "plt.legend(bbox_to_anchor=(1, 1), loc=2) \n",
    "plt.ylabel(\"Percent\", size = 16)\n",
    "plt.xlabel(\"\")\n",
    "plt.savefig(\"Disposition_by_strike.pdf\", format=\"pdf\", pad_inches = 0.5, bbox_inches = 'tight')"
   ]
  },
  {
   "cell_type": "code",
   "execution_count": 106,
   "id": "be909a24",
   "metadata": {},
   "outputs": [],
   "source": [
    "diag_cols_to_use = ['Internal Injury',\n",
    " 'Fracture',\n",
    " 'Laceration',\n",
    " 'Contusions, Abr.',\n",
    " 'Avulsion',\n",
    " 'Hematoma',\n",
    " 'Concussion',\n",
    " 'Strain, Sprain',\n",
    " 'Dislocation']"
   ]
  },
  {
   "cell_type": "code",
   "execution_count": 107,
   "id": "2722ad37",
   "metadata": {},
   "outputs": [],
   "source": [
    "striking_other = striking_df[striking_df['diagnosis'].isin(diag_cols_to_use) == False]"
   ]
  },
  {
   "cell_type": "code",
   "execution_count": 108,
   "id": "906cc351",
   "metadata": {},
   "outputs": [
    {
     "data": {
      "text/html": [
       "<div>\n",
       "<style scoped>\n",
       "    .dataframe tbody tr th:only-of-type {\n",
       "        vertical-align: middle;\n",
       "    }\n",
       "\n",
       "    .dataframe tbody tr th {\n",
       "        vertical-align: top;\n",
       "    }\n",
       "\n",
       "    .dataframe thead th {\n",
       "        text-align: right;\n",
       "    }\n",
       "</style>\n",
       "<table border=\"1\" class=\"dataframe\">\n",
       "  <thead>\n",
       "    <tr style=\"text-align: right;\">\n",
       "      <th></th>\n",
       "      <th>Other</th>\n",
       "    </tr>\n",
       "    <tr>\n",
       "      <th>struck</th>\n",
       "      <th></th>\n",
       "    </tr>\n",
       "  </thead>\n",
       "  <tbody>\n",
       "    <tr>\n",
       "      <th>Floor</th>\n",
       "      <td>350</td>\n",
       "    </tr>\n",
       "    <tr>\n",
       "      <th>Object</th>\n",
       "      <td>404</td>\n",
       "    </tr>\n",
       "  </tbody>\n",
       "</table>\n",
       "</div>"
      ],
      "text/plain": [
       "        Other\n",
       "struck       \n",
       "Floor     350\n",
       "Object    404"
      ]
     },
     "execution_count": 108,
     "metadata": {},
     "output_type": "execute_result"
    }
   ],
   "source": [
    "other_diag_counts = striking_other.groupby(['struck', 'diagnosis']).size().reset_index(name='count').groupby(['struck']).sum('count')\n",
    "other_diag_counts.reset_index()\n",
    "other_diag_counts.rename(columns = {'count': 'Other'}, inplace = True)\n",
    "other_diag_counts"
   ]
  },
  {
   "cell_type": "code",
   "execution_count": 109,
   "id": "9568e3a3",
   "metadata": {
    "scrolled": true
   },
   "outputs": [
    {
     "data": {
      "text/html": [
       "<div>\n",
       "<style scoped>\n",
       "    .dataframe tbody tr th:only-of-type {\n",
       "        vertical-align: middle;\n",
       "    }\n",
       "\n",
       "    .dataframe tbody tr th {\n",
       "        vertical-align: top;\n",
       "    }\n",
       "\n",
       "    .dataframe thead th {\n",
       "        text-align: right;\n",
       "    }\n",
       "</style>\n",
       "<table border=\"1\" class=\"dataframe\">\n",
       "  <thead>\n",
       "    <tr style=\"text-align: right;\">\n",
       "      <th></th>\n",
       "      <th>Internal Injury</th>\n",
       "      <th>Fracture</th>\n",
       "      <th>Laceration</th>\n",
       "      <th>Contusions, Abr.</th>\n",
       "      <th>Avulsion</th>\n",
       "      <th>Hematoma</th>\n",
       "      <th>Concussion</th>\n",
       "      <th>Strain, Sprain</th>\n",
       "      <th>Dislocation</th>\n",
       "      <th>Other</th>\n",
       "    </tr>\n",
       "    <tr>\n",
       "      <th>struck</th>\n",
       "      <th></th>\n",
       "      <th></th>\n",
       "      <th></th>\n",
       "      <th></th>\n",
       "      <th></th>\n",
       "      <th></th>\n",
       "      <th></th>\n",
       "      <th></th>\n",
       "      <th></th>\n",
       "      <th></th>\n",
       "    </tr>\n",
       "  </thead>\n",
       "  <tbody>\n",
       "    <tr>\n",
       "      <th>Floor</th>\n",
       "      <td>4574</td>\n",
       "      <td>5472</td>\n",
       "      <td>1191</td>\n",
       "      <td>2704</td>\n",
       "      <td>149</td>\n",
       "      <td>458</td>\n",
       "      <td>117</td>\n",
       "      <td>346</td>\n",
       "      <td>192</td>\n",
       "      <td>350</td>\n",
       "    </tr>\n",
       "    <tr>\n",
       "      <th>Object</th>\n",
       "      <td>6098</td>\n",
       "      <td>3203</td>\n",
       "      <td>3452</td>\n",
       "      <td>2683</td>\n",
       "      <td>325</td>\n",
       "      <td>673</td>\n",
       "      <td>206</td>\n",
       "      <td>270</td>\n",
       "      <td>96</td>\n",
       "      <td>404</td>\n",
       "    </tr>\n",
       "  </tbody>\n",
       "</table>\n",
       "</div>"
      ],
      "text/plain": [
       "        Internal Injury  Fracture  Laceration  Contusions, Abr.  Avulsion  \\\n",
       "struck                                                                      \n",
       "Floor              4574      5472        1191              2704       149   \n",
       "Object             6098      3203        3452              2683       325   \n",
       "\n",
       "        Hematoma  Concussion  Strain, Sprain  Dislocation  Other  \n",
       "struck                                                            \n",
       "Floor        458         117             346          192    350  \n",
       "Object       673         206             270           96    404  "
      ]
     },
     "execution_count": 109,
     "metadata": {},
     "output_type": "execute_result"
    }
   ],
   "source": [
    "strike_diag = striking_df[['diagnosis', 'struck' ]]\n",
    "strike_diag_sub = strike_diag[strike_diag['diagnosis'].isin(diag_cols_to_use)]\n",
    "strike_diag_counts = strike_diag_sub.groupby(['struck', 'diagnosis']).size().reset_index(name='count')\n",
    "temp = strike_diag_counts.pivot(columns = 'diagnosis', index = 'struck', values = 'count' )\n",
    "temp.columns.name=''\n",
    "temp_ordered = temp[diag_cols_to_use]\n",
    "strike_diag_counts = temp_ordered.merge(other_diag_counts, left_on = 'struck', right_on = 'struck')\n",
    "strike_diag_counts"
   ]
  },
  {
   "cell_type": "code",
   "execution_count": 110,
   "id": "23123341",
   "metadata": {},
   "outputs": [],
   "source": [
    "import seaborn as sns\n",
    "\n",
    "# Get the existing \"Set1\" palette which has 9 colors\n",
    "existing_palette = sns.color_palette(\"Set1\")\n",
    "\n",
    "# Add one more color (for example, 'purple') to the existing palette\n",
    "extended_palette = existing_palette + [(0.5, 0.0, 0.5)]\n",
    "\n",
    "# Now, set this new palette as the default palette\n",
    "sns.set_palette(extended_palette)"
   ]
  },
  {
   "cell_type": "code",
   "execution_count": 111,
   "id": "a7eff026",
   "metadata": {
    "scrolled": true
   },
   "outputs": [
    {
     "data": {
      "text/plain": [
       "<Figure size 800x400 with 0 Axes>"
      ]
     },
     "metadata": {},
     "output_type": "display_data"
    },
    {
     "data": {
      "image/png": "[encoded data removed]",
      "text/plain": [
       "<Figure size 640x480 with 1 Axes>"
      ]
     },
     "metadata": {},
     "output_type": "display_data"
    }
   ],
   "source": [
    "# Create the figure\n",
    "plt.figure(figsize=(8, 4))\n",
    "sns.set_style(\"whitegrid\")\n",
    "# sns.set_palette('extended_palette')\n",
    "plt.style.use('fast')\n",
    "strike_diag_counts.apply(lambda x: x*100/sum(x), axis = 1).plot(kind = 'bar', stacked = True, fontsize = 14, edgecolor = 'none')\n",
    "plt.legend(bbox_to_anchor=(1, 1), loc=2) \n",
    "plt.ylabel(\"Percent\", size = 16)\n",
    "plt.xlabel(\"\")\n",
    "plt.savefig(\"Diagnosis_by_strike.pdf\", format=\"pdf\", pad_inches = 0.5, bbox_inches = 'tight')"
   ]
  },
  {
   "cell_type": "code",
   "execution_count": 112,
   "id": "fdab2459",
   "metadata": {},
   "outputs": [],
   "source": [
    "# Get color palettes\n",
    "palette1 = sns.color_palette(['navy','mediumpurple','turquoise','deeppink','dimgrey'])\n",
    "# palette2 = sns.color_palette(\"Set1\") + [(0.5, 0.0, 0.5)]\n",
    "palette2 = ['maroon','goldenrod','darkcyan','#b3ad67','#f8ee93','salmon','mediumslateblue','lightblue','darkorange','dimgrey',]"
   ]
  },
  {
   "cell_type": "code",
   "execution_count": 113,
   "id": "330f6cd6",
   "metadata": {},
   "outputs": [
    {
     "data": {
      "image/png": "[encoded data removed]",
      "text/plain": [
       "<Figure size 1000x450 with 2 Axes>"
      ]
     },
     "metadata": {},
     "output_type": "display_data"
    }
   ],
   "source": [
    "fig, (ax1, ax2) = plt.subplots(1, 2, figsize=(10,4.5))\n",
    "sns.set_style(\"white\")\n",
    "strike_disp_counts.apply(lambda x: x*100/sum(x), axis = 1).plot(kind = 'bar', width = 0.7, ax = ax1, stacked = True, fontsize = 14, edgecolor = 'none', color=palette1)\n",
    "strike_diag_counts.apply(lambda x: x*100/sum(x), axis = 1).plot(kind = 'bar', width = 0.7, ax = ax2, stacked = True, fontsize = 14, edgecolor = 'none', color=palette2)\n",
    "# Get and reverse legend for ax1\n",
    "handles1, labels1 = ax1.get_legend_handles_labels()\n",
    "ax1.legend(handles1[::-1], labels1[::-1]).set_bbox_to_anchor((1, 1))\n",
    "# Get and reverse legend for ax2\n",
    "handles2, labels2 = ax2.get_legend_handles_labels()\n",
    "ax2.legend(handles2[::-1], labels2[::-1]).set_bbox_to_anchor((1, 1))\n",
    "ax1.set_xlabel(\"\")\n",
    "ax2.set_xlabel(\"\")\n",
    "ax1.set_ylabel(\"Percent\", fontsize = 16)\n",
    "ax2.set_ylabel(\"Percent\", fontsize = 16)\n",
    "ax1.set_title(\"Disposition\", fontsize = 18, color = 'black')\n",
    "ax2.set_title(\"Diagnosis\", fontsize = 18, color = 'black')\n",
    "ax1.grid(True, which='both', axis='y', linestyle='--', linewidth=0.8, color='darkgray')\n",
    "ax2.grid(True, which='both', axis='y', linestyle='--', linewidth=0.8, color='darkgray')\n",
    "plt.subplots_adjust(wspace=1)  #\n",
    "plt.savefig(\"Struck_object_Disp_Diag.pdf\", format=\"pdf\", pad_inches = 0.2, bbox_inches = 'tight')"
   ]
  },
  {
   "cell_type": "markdown",
   "id": "88585ee6",
   "metadata": {},
   "source": [
    "Look at frequencies of dispositon and diagnosis by strike type"
   ]
  },
  {
   "cell_type": "code",
   "execution_count": 114,
   "id": "d1a9a727",
   "metadata": {},
   "outputs": [
    {
     "data": {
      "text/plain": [
       "disposition\n",
       "Released       9126\n",
       "Admitted       5643\n",
       "Transferred     375\n",
       "Held            318\n",
       "Unseen           91\n",
       "Name: count, dtype: int64"
      ]
     },
     "execution_count": 114,
     "metadata": {},
     "output_type": "execute_result"
    }
   ],
   "source": [
    "sf_disp = struck_floor['disposition'].value_counts()\n",
    "sf_disp"
   ]
  },
  {
   "cell_type": "code",
   "execution_count": 115,
   "id": "9cf6ec0f",
   "metadata": {
    "scrolled": true
   },
   "outputs": [
    {
     "name": "stdout",
     "output_type": "stream",
     "text": [
      "12491 4066\n"
     ]
    }
   ],
   "source": [
    "so_disp = struck_object['disposition'].value_counts()\n",
    "print(so_disp[\"Released\"], so_disp[\"Admitted\"])"
   ]
  },
  {
   "cell_type": "markdown",
   "id": "8cbe9162",
   "metadata": {},
   "source": [
    "Use an odds ratio contigency table to determine if the striking the floor has a higher risk of hospitalization than striking an object."
   ]
  },
  {
   "cell_type": "code",
   "execution_count": 116,
   "id": "07f38082",
   "metadata": {},
   "outputs": [
    {
     "name": "stdout",
     "output_type": "stream",
     "text": [
      "1.8995484485505283 ConfidenceInterval(low=1.8090840982718586, high=1.9946461824278392)\n"
     ]
    }
   ],
   "source": [
    "from scipy.stats.contingency import odds_ratio\n",
    "res = odds_ratio([[sf_disp[\"Admitted\"],so_disp[\"Admitted\"]],[sf_disp[\"Released\"],so_disp[\"Released\"]]])\n",
    "print(res.statistic, res.confidence_interval(confidence_level=0.95))"
   ]
  },
  {
   "cell_type": "markdown",
   "id": "3dddcbeb",
   "metadata": {},
   "source": [
    "The odds of being admitted/hospitalized if a patient strikes the floor are 1.xx times (95% CI = 1.xx-1.xx) that of being admitted if a patient strikes an object."
   ]
  },
  {
   "cell_type": "code",
   "execution_count": 117,
   "id": "621f50bb",
   "metadata": {},
   "outputs": [],
   "source": [
    "so_diag = struck_object['diagnosis'].value_counts()"
   ]
  },
  {
   "cell_type": "code",
   "execution_count": 118,
   "id": "93bd3873",
   "metadata": {},
   "outputs": [],
   "source": [
    "sf_diag = struck_floor['diagnosis'].value_counts()"
   ]
  },
  {
   "cell_type": "code",
   "execution_count": 119,
   "id": "0b1f7130",
   "metadata": {},
   "outputs": [
    {
     "data": {
      "text/plain": [
       "10081"
      ]
     },
     "execution_count": 119,
     "metadata": {},
     "output_type": "execute_result"
    }
   ],
   "source": [
    "sf_diag.sum() - sf_diag[\"Fracture\"]"
   ]
  },
  {
   "cell_type": "code",
   "execution_count": 120,
   "id": "0f622780",
   "metadata": {},
   "outputs": [
    {
     "name": "stdout",
     "output_type": "stream",
     "text": [
      "2.407554253719156 ConfidenceInterval(low=2.288291887131683, high=2.5332880290133644)\n"
     ]
    }
   ],
   "source": [
    "res = odds_ratio([[sf_diag[\"Fracture\"],so_diag[\"Fracture\"]],[sf_diag.sum() - sf_diag[\"Fracture\"], so_diag.sum() - so_diag[\"Fracture\"]]])\n",
    "print(res.statistic, res.confidence_interval(confidence_level=0.95))"
   ]
  },
  {
   "cell_type": "code",
   "execution_count": 121,
   "id": "cdc8d1bd",
   "metadata": {},
   "outputs": [
    {
     "name": "stdout",
     "output_type": "stream",
     "text": [
      "0.3353226677205903 ConfidenceInterval(low=0.312422054795882, high=0.3597290814959434)\n"
     ]
    }
   ],
   "source": [
    "res = odds_ratio([[sf_diag[\"Laceration\"],so_diag[\"Laceration\"]],[sf_diag.sum() - sf_diag[\"Laceration\"], so_diag.sum() - so_diag[\"Laceration\"]]])\n",
    "print(res.statistic, res.confidence_interval(confidence_level=0.95))"
   ]
  },
  {
   "cell_type": "code",
   "execution_count": 122,
   "id": "0d31eb2e",
   "metadata": {},
   "outputs": [],
   "source": [
    "from spacy import displacy\n",
    "colors = {'SO':'plum','SF':'lightskyblue','SU':'silver','OBJ':'palegreen','STR':'mistyrose','WT':'yellow'}\n",
    "options = {\"ents\": [\"sc\"], \"colors\": colors}"
   ]
  },
  {
   "cell_type": "code",
   "execution_count": 123,
   "id": "29427f99",
   "metadata": {},
   "outputs": [],
   "source": [
    "x = binary_df[binary_df['cpsc_case_number']==190654735]\n",
    "x2 = x.iloc[0,1]"
   ]
  },
  {
   "cell_type": "code",
   "execution_count": 124,
   "id": "9fdeb139",
   "metadata": {
    "scrolled": true
   },
   "outputs": [
    {
     "data": {
      "text/html": [
       "<span class=\"tex2jax_ignore\"><div class=\"spans\" style=\"line-height: 2.5; direction: ltr\">88YOF FELL AND WAS \n",
       "<span style=\"font-weight: bold; display: inline-block; position: relative; height: 60px;\">\n",
       "    FOUND\n",
       "    \n",
       "<span style=\"background: yellow; top: 40px; height: 4px; left: -1px; width: calc(100% + 2px); position: absolute;\">\n",
       "</span>\n",
       "\n",
       "    \n",
       "<span style=\"background: yellow; top: 40px; height: 4px; border-top-left-radius: 3px; border-bottom-left-radius: 3px; left: -1px; width: calc(100% + 2px); position: absolute;\">\n",
       "    <span style=\"background: yellow; z-index: 10; color: #000; top: -0.5em; padding: 2px 3px; position: absolute; font-size: 0.6em; font-weight: bold; line-height: 1; border-radius: 3px\">\n",
       "        WT\n",
       "    </span>\n",
       "</span>\n",
       "\n",
       "\n",
       "</span>\n",
       "\n",
       "<span style=\"font-weight: bold; display: inline-block; position: relative; height: 60px;\">\n",
       "    ON\n",
       "    \n",
       "<span style=\"background: yellow; top: 40px; height: 4px; left: -1px; width: calc(100% + 2px); position: absolute;\">\n",
       "</span>\n",
       "\n",
       "    \n",
       "</span>\n",
       "\n",
       "<span style=\"font-weight: bold; display: inline-block; position: relative; height: 60px;\">\n",
       "    THE\n",
       "    \n",
       "<span style=\"background: yellow; top: 40px; height: 4px; left: -1px; width: calc(100% + 2px); position: absolute;\">\n",
       "</span>\n",
       "\n",
       "    \n",
       "</span>\n",
       "\n",
       "<span style=\"font-weight: bold; display: inline-block; position: relative; height: 60px;\">\n",
       "    FLOOR\n",
       "    \n",
       "<span style=\"background: yellow; top: 40px; height: 4px; left: -1px; width: calc(100% + 2px); position: absolute;\">\n",
       "</span>\n",
       "\n",
       "    \n",
       "</span>\n",
       ".   SHE SAID SHE \n",
       "<span style=\"font-weight: bold; display: inline-block; position: relative; height: 60px;\">\n",
       "    TRIPPED\n",
       "    \n",
       "<span style=\"background: palegreen; top: 40px; height: 4px; left: -1px; width: calc(100% + 2px); position: absolute;\">\n",
       "</span>\n",
       "\n",
       "    \n",
       "<span style=\"background: palegreen; top: 40px; height: 4px; border-top-left-radius: 3px; border-bottom-left-radius: 3px; left: -1px; width: calc(100% + 2px); position: absolute;\">\n",
       "    <span style=\"background: palegreen; z-index: 10; color: #000; top: -0.5em; padding: 2px 3px; position: absolute; font-size: 0.6em; font-weight: bold; line-height: 1; border-radius: 3px\">\n",
       "        OBJ\n",
       "    </span>\n",
       "</span>\n",
       "\n",
       "\n",
       "</span>\n",
       "\n",
       "<span style=\"font-weight: bold; display: inline-block; position: relative; height: 60px;\">\n",
       "    ON\n",
       "    \n",
       "<span style=\"background: palegreen; top: 40px; height: 4px; left: -1px; width: calc(100% + 2px); position: absolute;\">\n",
       "</span>\n",
       "\n",
       "    \n",
       "</span>\n",
       "\n",
       "<span style=\"font-weight: bold; display: inline-block; position: relative; height: 60px;\">\n",
       "    A\n",
       "    \n",
       "<span style=\"background: palegreen; top: 40px; height: 4px; left: -1px; width: calc(100% + 2px); position: absolute;\">\n",
       "</span>\n",
       "\n",
       "    \n",
       "</span>\n",
       "\n",
       "<span style=\"font-weight: bold; display: inline-block; position: relative; height: 60px;\">\n",
       "    THROW\n",
       "    \n",
       "<span style=\"background: palegreen; top: 40px; height: 4px; left: -1px; width: calc(100% + 2px); position: absolute;\">\n",
       "</span>\n",
       "\n",
       "    \n",
       "</span>\n",
       "\n",
       "<span style=\"font-weight: bold; display: inline-block; position: relative; height: 60px;\">\n",
       "    RUG\n",
       "    \n",
       "<span style=\"background: palegreen; top: 40px; height: 4px; left: -1px; width: calc(100% + 2px); position: absolute;\">\n",
       "</span>\n",
       "\n",
       "    \n",
       "</span>\n",
       "AND \n",
       "<span style=\"font-weight: bold; display: inline-block; position: relative; height: 60px;\">\n",
       "    LANDED\n",
       "    \n",
       "<span style=\"background: lightskyblue; top: 40px; height: 4px; left: -1px; width: calc(100% + 2px); position: absolute;\">\n",
       "</span>\n",
       "\n",
       "    \n",
       "<span style=\"background: lightskyblue; top: 40px; height: 4px; border-top-left-radius: 3px; border-bottom-left-radius: 3px; left: -1px; width: calc(100% + 2px); position: absolute;\">\n",
       "    <span style=\"background: lightskyblue; z-index: 10; color: #000; top: -0.5em; padding: 2px 3px; position: absolute; font-size: 0.6em; font-weight: bold; line-height: 1; border-radius: 3px\">\n",
       "        SF\n",
       "    </span>\n",
       "</span>\n",
       "\n",
       "\n",
       "</span>\n",
       "\n",
       "<span style=\"font-weight: bold; display: inline-block; position: relative; height: 60px;\">\n",
       "    ON\n",
       "    \n",
       "<span style=\"background: lightskyblue; top: 40px; height: 4px; left: -1px; width: calc(100% + 2px); position: absolute;\">\n",
       "</span>\n",
       "\n",
       "    \n",
       "</span>\n",
       "\n",
       "<span style=\"font-weight: bold; display: inline-block; position: relative; height: 60px;\">\n",
       "    HER\n",
       "    \n",
       "<span style=\"background: lightskyblue; top: 40px; height: 4px; left: -1px; width: calc(100% + 2px); position: absolute;\">\n",
       "</span>\n",
       "\n",
       "    \n",
       "</span>\n",
       "\n",
       "<span style=\"font-weight: bold; display: inline-block; position: relative; height: 60px;\">\n",
       "    RIGHT\n",
       "    \n",
       "<span style=\"background: lightskyblue; top: 40px; height: 4px; left: -1px; width: calc(100% + 2px); position: absolute;\">\n",
       "</span>\n",
       "\n",
       "    \n",
       "</span>\n",
       "\n",
       "<span style=\"font-weight: bold; display: inline-block; position: relative; height: 60px;\">\n",
       "    SIDE\n",
       "    \n",
       "<span style=\"background: lightskyblue; top: 40px; height: 4px; left: -1px; width: calc(100% + 2px); position: absolute;\">\n",
       "</span>\n",
       "\n",
       "    \n",
       "</span>\n",
       "HITTING HER HEAD .   C / O RIGHT HIP PAIN .   DX :   R HIP FRACTURE .   HEAD CONTUSION </div></span>"
      ],
      "text/plain": [
       "<IPython.core.display.HTML object>"
      ]
     },
     "metadata": {},
     "output_type": "display_data"
    }
   ],
   "source": [
    "doc = nlp_spancat(x2)\n",
    "displacy.render(doc, style = 'span', options=options, jupyter = True)"
   ]
  },
  {
   "cell_type": "code",
   "execution_count": 125,
   "id": "e665597e",
   "metadata": {},
   "outputs": [],
   "source": [
    "x = binary_df[binary_df['cpsc_case_number']==190934697]\n",
    "x2 = x.iloc[0,1]"
   ]
  },
  {
   "cell_type": "code",
   "execution_count": 126,
   "id": "fe8b2945",
   "metadata": {
    "scrolled": true
   },
   "outputs": [
    {
     "data": {
      "text/html": [
       "<span class=\"tex2jax_ignore\"><div class=\"spans\" style=\"line-height: 2.5; direction: ltr\">71YOF WAS TAKING OUT TRASH LAST WEEK AND \n",
       "<span style=\"font-weight: bold; display: inline-block; position: relative; height: 60px;\">\n",
       "    TRIPPED\n",
       "    \n",
       "<span style=\"background: palegreen; top: 40px; height: 4px; left: -1px; width: calc(100% + 2px); position: absolute;\">\n",
       "</span>\n",
       "\n",
       "    \n",
       "<span style=\"background: palegreen; top: 40px; height: 4px; border-top-left-radius: 3px; border-bottom-left-radius: 3px; left: -1px; width: calc(100% + 2px); position: absolute;\">\n",
       "    <span style=\"background: palegreen; z-index: 10; color: #000; top: -0.5em; padding: 2px 3px; position: absolute; font-size: 0.6em; font-weight: bold; line-height: 1; border-radius: 3px\">\n",
       "        OBJ\n",
       "    </span>\n",
       "</span>\n",
       "\n",
       "\n",
       "</span>\n",
       "\n",
       "<span style=\"font-weight: bold; display: inline-block; position: relative; height: 60px;\">\n",
       "    ON\n",
       "    \n",
       "<span style=\"background: palegreen; top: 40px; height: 4px; left: -1px; width: calc(100% + 2px); position: absolute;\">\n",
       "</span>\n",
       "\n",
       "    \n",
       "</span>\n",
       "\n",
       "<span style=\"font-weight: bold; display: inline-block; position: relative; height: 60px;\">\n",
       "    THE\n",
       "    \n",
       "<span style=\"background: palegreen; top: 40px; height: 4px; left: -1px; width: calc(100% + 2px); position: absolute;\">\n",
       "</span>\n",
       "\n",
       "    \n",
       "</span>\n",
       "\n",
       "<span style=\"font-weight: bold; display: inline-block; position: relative; height: 60px;\">\n",
       "    LID\n",
       "    \n",
       "<span style=\"background: palegreen; top: 40px; height: 4px; left: -1px; width: calc(100% + 2px); position: absolute;\">\n",
       "</span>\n",
       "\n",
       "    \n",
       "</span>\n",
       "\n",
       "<span style=\"font-weight: bold; display: inline-block; position: relative; height: 60px;\">\n",
       "    TO\n",
       "    \n",
       "<span style=\"background: palegreen; top: 40px; height: 4px; left: -1px; width: calc(100% + 2px); position: absolute;\">\n",
       "</span>\n",
       "\n",
       "    \n",
       "</span>\n",
       "\n",
       "<span style=\"font-weight: bold; display: inline-block; position: relative; height: 60px;\">\n",
       "    THE\n",
       "    \n",
       "<span style=\"background: palegreen; top: 40px; height: 4px; left: -1px; width: calc(100% + 2px); position: absolute;\">\n",
       "</span>\n",
       "\n",
       "    \n",
       "</span>\n",
       "\n",
       "<span style=\"font-weight: bold; display: inline-block; position: relative; height: 60px;\">\n",
       "    CAN\n",
       "    \n",
       "<span style=\"background: palegreen; top: 40px; height: 4px; left: -1px; width: calc(100% + 2px); position: absolute;\">\n",
       "</span>\n",
       "\n",
       "    \n",
       "</span>\n",
       "AND \n",
       "<span style=\"font-weight: bold; display: inline-block; position: relative; height: 60px;\">\n",
       "    FELL\n",
       "    \n",
       "<span style=\"background: mistyrose; top: 40px; height: 4px; left: -1px; width: calc(100% + 2px); position: absolute;\">\n",
       "</span>\n",
       "\n",
       "    \n",
       "<span style=\"background: mistyrose; top: 40px; height: 4px; border-top-left-radius: 3px; border-bottom-left-radius: 3px; left: -1px; width: calc(100% + 2px); position: absolute;\">\n",
       "    <span style=\"background: mistyrose; z-index: 10; color: #000; top: -0.5em; padding: 2px 3px; position: absolute; font-size: 0.6em; font-weight: bold; line-height: 1; border-radius: 3px\">\n",
       "        STR\n",
       "    </span>\n",
       "</span>\n",
       "\n",
       "\n",
       "</span>\n",
       "\n",
       "<span style=\"font-weight: bold; display: inline-block; position: relative; height: 60px;\">\n",
       "    DOWN\n",
       "    \n",
       "<span style=\"background: mistyrose; top: 40px; height: 4px; left: -1px; width: calc(100% + 2px); position: absolute;\">\n",
       "</span>\n",
       "\n",
       "    \n",
       "</span>\n",
       "\n",
       "<span style=\"font-weight: bold; display: inline-block; position: relative; height: 60px;\">\n",
       "    THE\n",
       "    \n",
       "<span style=\"background: mistyrose; top: 40px; height: 4px; left: -1px; width: calc(100% + 2px); position: absolute;\">\n",
       "</span>\n",
       "\n",
       "    \n",
       "</span>\n",
       "\n",
       "<span style=\"font-weight: bold; display: inline-block; position: relative; height: 60px;\">\n",
       "    STEPS\n",
       "    \n",
       "<span style=\"background: mistyrose; top: 40px; height: 4px; left: -1px; width: calc(100% + 2px); position: absolute;\">\n",
       "</span>\n",
       "\n",
       "    \n",
       "</span>\n",
       "\n",
       "<span style=\"font-weight: bold; display: inline-block; position: relative; height: 60px;\">\n",
       "    INTO\n",
       "    \n",
       "<span style=\"background: plum; top: 40px; height: 4px; left: -1px; width: calc(100% + 2px); position: absolute;\">\n",
       "</span>\n",
       "\n",
       "    \n",
       "<span style=\"background: plum; top: 40px; height: 4px; border-top-left-radius: 3px; border-bottom-left-radius: 3px; left: -1px; width: calc(100% + 2px); position: absolute;\">\n",
       "    <span style=\"background: plum; z-index: 10; color: #000; top: -0.5em; padding: 2px 3px; position: absolute; font-size: 0.6em; font-weight: bold; line-height: 1; border-radius: 3px\">\n",
       "        SO\n",
       "    </span>\n",
       "</span>\n",
       "\n",
       "\n",
       "</span>\n",
       "\n",
       "<span style=\"font-weight: bold; display: inline-block; position: relative; height: 60px;\">\n",
       "    A\n",
       "    \n",
       "<span style=\"background: plum; top: 40px; height: 4px; left: -1px; width: calc(100% + 2px); position: absolute;\">\n",
       "</span>\n",
       "\n",
       "    \n",
       "</span>\n",
       "\n",
       "<span style=\"font-weight: bold; display: inline-block; position: relative; height: 60px;\">\n",
       "    PLANTER\n",
       "    \n",
       "<span style=\"background: plum; top: 40px; height: 4px; left: -1px; width: calc(100% + 2px); position: absolute;\">\n",
       "</span>\n",
       "\n",
       "    \n",
       "</span>\n",
       "AND SUSTAINED AN ABRASION TO BUTTOCKS THAT GOT INFECTED DX : CELLULITIS TO BUTTOCVKS </div></span>"
      ],
      "text/plain": [
       "<IPython.core.display.HTML object>"
      ]
     },
     "metadata": {},
     "output_type": "display_data"
    }
   ],
   "source": [
    "doc = nlp_spancat(x2)\n",
    "displacy.render(doc, style = 'span', options=options, jupyter = True)"
   ]
  },
  {
   "cell_type": "markdown",
   "id": "76abd094",
   "metadata": {},
   "source": [
    "## CONCLUSIONS\n",
    "\n",
    "The model developed herein reveals potentially useful insights in regards to falling in older adults. While the model is not perfect, the effect sizes observed from the prediction spans are likely greater than the inaccuracy of the model.  \n",
    "\n",
    "Two of the span categories that were labeled were not subjected to any additional analysis within this notebook: falling involving stairs and involving a patient waiting for help. Subsequent analysis of these two types of spans is likely to also reveal potentially useful information.\n",
    "\n",
    "*This section needs editing and additional information.*"
   ]
  },
  {
   "cell_type": "code",
   "execution_count": null,
   "id": "d48aea33",
   "metadata": {},
   "outputs": [],
   "source": []
  }
 ],
 "metadata": {
  "kernelspec": {
   "display_name": "Python 3 (ipykernel)",
   "language": "python",
   "name": "python3"
  },
  "language_info": {
   "codemirror_mode": {
    "name": "ipython",
    "version": 3
   },
   "file_extension": ".py",
   "mimetype": "text/x-python",
   "name": "python",
   "nbconvert_exporter": "python",
   "pygments_lexer": "ipython3",
   "version": "3.9.18"
  }
 },
 "nbformat": 4,
 "nbformat_minor": 5
}
