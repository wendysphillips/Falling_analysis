{
 "cells": [
  {
   "cell_type": "code",
   "execution_count": 11,
   "id": "a92c3d52-681a-4702-946a-58424d90ac89",
   "metadata": {},
   "outputs": [],
   "source": [
    "import numpy as np\n",
    "import pandas as pd\n",
    "import json\n",
    "from pathlib import Path\n",
    "import re\n",
    "import spacy"
   ]
  },
  {
   "cell_type": "code",
   "execution_count": 92,
   "id": "154326e0",
   "metadata": {},
   "outputs": [],
   "source": [
    "medical_terms = {\n",
    "    \"&\": \"and\",\n",
    "    \"***\": \"\",\n",
    "    \">>\": \"clinical diagnosis\",\n",
    "    \"@\": \"at\",\n",
    "    \"+\":\"with\",\n",
    "    \"abd\": \"abdomen\",\n",
    "    \"af\": \"accidental fall\",\n",
    "    \"afib\": \"atrial fibrillation\",\n",
    "    \"aki\": \"acute kidney injury\",\n",
    "    \"am\": \"morning\",\n",
    "    \"ams\": \"altered mental status\",\n",
    "    \"bac\": \"blood alcohol content\",\n",
    "    \"bal\": \"blood alcohol level,\",\n",
    "    \"biba\": \"brought in by ambulance\",\n",
    "    \"c/o\": \"complains of\",\n",
    "    \"chi\": \"closed-head injury\",\n",
    "    \"clsd\": \"closed\",\n",
    "    \"cpk\": \"creatine phosphokinase\",\n",
    "    \"cva\": \"cerebral vascular accident\",\n",
    "    \"dx\": \"clinical diagnosis\",\n",
    "    \"ecf\": \"extended-care facility\",\n",
    "    \"er\": \"emergency room\",\n",
    "    \"etoh\": \"ethyl alcohol\",\n",
    "    \"eval\": \"evaluation\",\n",
    "    \"fd\": \"fall detected\",\n",
    "    \"fx\": \"fracture\",\n",
    "    \"fxs\": \"fractures\",\n",
    "    \"glf\": \"ground level fall\",\n",
    "    \"h/o\": \"history of\",\n",
    "    \"htn\": \"hypertension\",\n",
    "    \"hx\": \"history of\",\n",
    "    \"inj\": \"injury\",\n",
    "    \"inr\": \"international normalized ratio\",\n",
    "    \"intox\": \"intoxication\",\n",
    "    \"l\": \"left\",\n",
    "    \"loc\": \"loss of consciousness\",\n",
    "    \"lt\": \"left\",\n",
    "    \"mech\": \"mechanical\",\n",
    "    \"mult\": \"multiple\",\n",
    "    \"n.h.\": \"nursing home\",\n",
    "    \"nh\": \"nursing home\",\n",
    "    \"p/w\": \"presents with\",\n",
    "    \"pm\": \"afternoon\",\n",
    "    \"pt\": \"patient\",\n",
    "    \"pta\": \"prior to arrival\",\n",
    "    \"pts\": \"patient's\",\n",
    "    \"px\": \"physical examination\", # not \"procedure\",\n",
    "    \"r\": \"right\",\n",
    "    \"r/o\": \"rules out\",\n",
    "    \"rt\": \"right\",\n",
    "    \"s'd&f\": \"slipped and fell\",\n",
    "    \"s/p\": \"after\",\n",
    "    \"sah\": \"subarachnoid hemorrhage\",\n",
    "    \"sdh\": \"acute subdural hematoma\",\n",
    "    \"sts\": \"sit-to-stand\",\n",
    "    \"t'd&f\": \"tripped and fell\",\n",
    "    \"tr\": \"trauma\",\n",
    "    \"uti\": \"urinary tract infection\",\n",
    "    \"w/\": \"with\",\n",
    "    \"w/o\": \"without\",\n",
    "    \"wks\": \"weeks\"\n",
    "}\n",
    "\n",
    "def add_space_after(text, target=\",\"):\n",
    "    replaced_text = re.sub(r'({})(\\S)'.format(re.escape(target)), r'{} \\2'.format(target),text)\n",
    "    return replaced_text\n",
    "\n",
    "def add_space_before(text, target=\",\"):\n",
    "    replaced_text = re.sub(r'(\\S)({})'.format(re.escape(target)), r'\\1 {}'.format(target), text)\n",
    "    return replaced_text\n",
    "\n",
    "# cleanning\n",
    "def clean_narrative(text):\n",
    "    # lowercase everything\n",
    "    if pd.isna(text):\n",
    "        return \"NA\"\n",
    "    else:     \n",
    "        text = text.lower()\n",
    "        \n",
    "        # unglue DX\n",
    "        regex_dx = r\"([ˆ\\W]*(dx)[ˆ\\W]*)\"\n",
    "        text = re.sub(regex_dx, r\". dx: \", text)\n",
    "    \n",
    "        # remove age and sex identifications\n",
    "        ## regex to capture age and sex (not perfect but captures almost all of the cases)\n",
    "        regex_age_sex = r\"(\\d+)\\s*?(yof|yf|yo\\s*female|yo\\s*f|yom|ym|yo\\s*male|yo\\s*m)\"\n",
    "        age_sex_match = re.search(regex_age_sex, text)\n",
    "    \n",
    "        ## format age and sex\n",
    "        if age_sex_match:\n",
    "            age = age_sex_match.group(1)\n",
    "            sex = age_sex_match.group(2)\n",
    "            \n",
    "            # probably not best practice but it works with this data\n",
    "            if \"f\" in sex:\n",
    "                #text = text.replace(age_sex_match.group(0), f\"{age} years old female\")\n",
    "                text = text.replace(age_sex_match.group(0), f\"patient\")\n",
    "            elif \"m\" in sex:\n",
    "                #text = text.replace(age_sex_match.group(0), f\"{age} years old male\")\n",
    "                text = text.replace(age_sex_match.group(0), f\"patient\")\n",
    "        \n",
    "        # translate medical terms\n",
    "        for term, replacement in medical_terms.items():\n",
    "            if term == \"@\" or term == \">>\" or term == \"&\" or term == \"***\" or term == \"+\" :\n",
    "                pattern = fr\"({re.escape(term)})\"\n",
    "                text = re.sub(pattern, f\" {replacement} \", text) # force spaces around replacement\n",
    "                \n",
    "            else:\n",
    "                pattern = fr\"(?<!-)\\b({re.escape(term)})\\b(?!-)\"\n",
    "                text = re.sub(pattern, replacement, text)\n",
    "                \n",
    "        text = add_space_after(text, target=\".\")        \n",
    "        text = add_space_after(text, target=\",\") \n",
    "        text = add_space_after(text, target=\";\") \n",
    "        text = add_space_after(text, target=\":\") \n",
    "        text = add_space_before(text, target=\"--\")  \n",
    "        text = add_space_after(text, target=\"--\")\n",
    "        text = re.sub(\"-\", \" \", text)\n",
    "        # remove extra white spaces\n",
    "        text = re.sub(r'\\s+', ' ', text)\n",
    "    \n",
    "        return text.upper()"
   ]
  },
  {
   "cell_type": "markdown",
   "id": "a2bb2f37",
   "metadata": {},
   "source": [
    "### load variable mapping"
   ]
  },
  {
   "cell_type": "code",
   "execution_count": 58,
   "id": "d003607b",
   "metadata": {},
   "outputs": [],
   "source": [
    "with Path(\"variable_mapping.json\").open(\"r\") as f:\n",
    "    mapping = json.load(f, parse_int=True)"
   ]
  },
  {
   "cell_type": "code",
   "execution_count": 59,
   "id": "8ed2c89f",
   "metadata": {},
   "outputs": [],
   "source": [
    "# convert the encoded values in the mapping to integers since they get read in as strings\n",
    "for c in mapping.keys():\n",
    "    mapping[c] = {int(k): v for k, v in mapping[c].items()}"
   ]
  },
  {
   "cell_type": "markdown",
   "id": "3d3dbb9d",
   "metadata": {},
   "source": [
    "### load primary data"
   ]
  },
  {
   "cell_type": "code",
   "execution_count": 60,
   "id": "94fddc67",
   "metadata": {},
   "outputs": [
    {
     "data": {
      "text/html": [
       "<div>\n",
       "<style scoped>\n",
       "    .dataframe tbody tr th:only-of-type {\n",
       "        vertical-align: middle;\n",
       "    }\n",
       "\n",
       "    .dataframe tbody tr th {\n",
       "        vertical-align: top;\n",
       "    }\n",
       "\n",
       "    .dataframe thead th {\n",
       "        text-align: right;\n",
       "    }\n",
       "</style>\n",
       "<table border=\"1\" class=\"dataframe\">\n",
       "  <thead>\n",
       "    <tr style=\"text-align: right;\">\n",
       "      <th></th>\n",
       "      <th>cpsc_case_number</th>\n",
       "      <th>narrative</th>\n",
       "      <th>treatment_date</th>\n",
       "      <th>age</th>\n",
       "      <th>sex</th>\n",
       "      <th>race</th>\n",
       "      <th>other_race</th>\n",
       "      <th>hispanic</th>\n",
       "      <th>diagnosis</th>\n",
       "      <th>other_diagnosis</th>\n",
       "      <th>...</th>\n",
       "      <th>body_part</th>\n",
       "      <th>body_part_2</th>\n",
       "      <th>disposition</th>\n",
       "      <th>location</th>\n",
       "      <th>fire_involvement</th>\n",
       "      <th>alcohol</th>\n",
       "      <th>drug</th>\n",
       "      <th>product_1</th>\n",
       "      <th>product_2</th>\n",
       "      <th>product_3</th>\n",
       "    </tr>\n",
       "  </thead>\n",
       "  <tbody>\n",
       "    <tr>\n",
       "      <th>0</th>\n",
       "      <td>190103269</td>\n",
       "      <td>94YOM FELL TO THE FLOOR AT THE NURSING HOME ON...</td>\n",
       "      <td>2019-01-01</td>\n",
       "      <td>94</td>\n",
       "      <td>1</td>\n",
       "      <td>0</td>\n",
       "      <td>NaN</td>\n",
       "      <td>0</td>\n",
       "      <td>62</td>\n",
       "      <td>NaN</td>\n",
       "      <td>...</td>\n",
       "      <td>75</td>\n",
       "      <td>&lt;NA&gt;</td>\n",
       "      <td>4</td>\n",
       "      <td>5</td>\n",
       "      <td>0</td>\n",
       "      <td>0</td>\n",
       "      <td>0</td>\n",
       "      <td>1807</td>\n",
       "      <td>0</td>\n",
       "      <td>0</td>\n",
       "    </tr>\n",
       "    <tr>\n",
       "      <th>1</th>\n",
       "      <td>190103270</td>\n",
       "      <td>86YOM FELL IN THE SHOWER AT HOME AND SUSTAINED...</td>\n",
       "      <td>2019-01-01</td>\n",
       "      <td>86</td>\n",
       "      <td>1</td>\n",
       "      <td>0</td>\n",
       "      <td>NaN</td>\n",
       "      <td>0</td>\n",
       "      <td>62</td>\n",
       "      <td>NaN</td>\n",
       "      <td>...</td>\n",
       "      <td>75</td>\n",
       "      <td>&lt;NA&gt;</td>\n",
       "      <td>4</td>\n",
       "      <td>1</td>\n",
       "      <td>0</td>\n",
       "      <td>0</td>\n",
       "      <td>0</td>\n",
       "      <td>611</td>\n",
       "      <td>0</td>\n",
       "      <td>0</td>\n",
       "    </tr>\n",
       "    <tr>\n",
       "      <th>2</th>\n",
       "      <td>190103273</td>\n",
       "      <td>87YOF WAS GETTING UP FROM THE COUCH AND FELL T...</td>\n",
       "      <td>2019-01-01</td>\n",
       "      <td>87</td>\n",
       "      <td>2</td>\n",
       "      <td>0</td>\n",
       "      <td>NaN</td>\n",
       "      <td>0</td>\n",
       "      <td>53</td>\n",
       "      <td>NaN</td>\n",
       "      <td>...</td>\n",
       "      <td>32</td>\n",
       "      <td>&lt;NA&gt;</td>\n",
       "      <td>4</td>\n",
       "      <td>1</td>\n",
       "      <td>0</td>\n",
       "      <td>0</td>\n",
       "      <td>0</td>\n",
       "      <td>679</td>\n",
       "      <td>1807</td>\n",
       "      <td>0</td>\n",
       "    </tr>\n",
       "    <tr>\n",
       "      <th>3</th>\n",
       "      <td>190103291</td>\n",
       "      <td>67YOF WAS AT A FRIENDS HOUSE AND SLIPPED ON WA...</td>\n",
       "      <td>2019-01-01</td>\n",
       "      <td>67</td>\n",
       "      <td>2</td>\n",
       "      <td>0</td>\n",
       "      <td>NaN</td>\n",
       "      <td>0</td>\n",
       "      <td>57</td>\n",
       "      <td>NaN</td>\n",
       "      <td>...</td>\n",
       "      <td>33</td>\n",
       "      <td>&lt;NA&gt;</td>\n",
       "      <td>1</td>\n",
       "      <td>1</td>\n",
       "      <td>0</td>\n",
       "      <td>0</td>\n",
       "      <td>0</td>\n",
       "      <td>1807</td>\n",
       "      <td>0</td>\n",
       "      <td>0</td>\n",
       "    </tr>\n",
       "    <tr>\n",
       "      <th>4</th>\n",
       "      <td>190103294</td>\n",
       "      <td>70YOF WAS STANDING ON A STEP STOOL AND FELL OF...</td>\n",
       "      <td>2019-01-01</td>\n",
       "      <td>70</td>\n",
       "      <td>2</td>\n",
       "      <td>0</td>\n",
       "      <td>NaN</td>\n",
       "      <td>0</td>\n",
       "      <td>57</td>\n",
       "      <td>NaN</td>\n",
       "      <td>...</td>\n",
       "      <td>33</td>\n",
       "      <td>&lt;NA&gt;</td>\n",
       "      <td>1</td>\n",
       "      <td>1</td>\n",
       "      <td>0</td>\n",
       "      <td>0</td>\n",
       "      <td>0</td>\n",
       "      <td>620</td>\n",
       "      <td>0</td>\n",
       "      <td>0</td>\n",
       "    </tr>\n",
       "  </tbody>\n",
       "</table>\n",
       "<p>5 rows × 22 columns</p>\n",
       "</div>"
      ],
      "text/plain": [
       "   cpsc_case_number                                          narrative  \\\n",
       "0         190103269  94YOM FELL TO THE FLOOR AT THE NURSING HOME ON...   \n",
       "1         190103270  86YOM FELL IN THE SHOWER AT HOME AND SUSTAINED...   \n",
       "2         190103273  87YOF WAS GETTING UP FROM THE COUCH AND FELL T...   \n",
       "3         190103291  67YOF WAS AT A FRIENDS HOUSE AND SLIPPED ON WA...   \n",
       "4         190103294  70YOF WAS STANDING ON A STEP STOOL AND FELL OF...   \n",
       "\n",
       "  treatment_date  age  sex  race other_race  hispanic  diagnosis  \\\n",
       "0     2019-01-01   94    1     0        NaN         0         62   \n",
       "1     2019-01-01   86    1     0        NaN         0         62   \n",
       "2     2019-01-01   87    2     0        NaN         0         53   \n",
       "3     2019-01-01   67    2     0        NaN         0         57   \n",
       "4     2019-01-01   70    2     0        NaN         0         57   \n",
       "\n",
       "  other_diagnosis  ...  body_part body_part_2  disposition  location  \\\n",
       "0             NaN  ...         75        <NA>            4         5   \n",
       "1             NaN  ...         75        <NA>            4         1   \n",
       "2             NaN  ...         32        <NA>            4         1   \n",
       "3             NaN  ...         33        <NA>            1         1   \n",
       "4             NaN  ...         33        <NA>            1         1   \n",
       "\n",
       "   fire_involvement  alcohol  drug  product_1  product_2  product_3  \n",
       "0                 0        0     0       1807          0          0  \n",
       "1                 0        0     0        611          0          0  \n",
       "2                 0        0     0        679       1807          0  \n",
       "3                 0        0     0       1807          0          0  \n",
       "4                 0        0     0        620          0          0  \n",
       "\n",
       "[5 rows x 22 columns]"
      ]
     },
     "execution_count": 60,
     "metadata": {},
     "output_type": "execute_result"
    }
   ],
   "source": [
    "df = pd.read_csv(\n",
    "    \"primary_data.csv\",\n",
    "    # set columns that can be null to nullable ints\n",
    "    dtype={\"body_part_2\": \"Int64\", \"diagnosis_2\": \"Int64\"},\n",
    ")\n",
    "df.head()"
   ]
  },
  {
   "cell_type": "markdown",
   "id": "39e80fbe",
   "metadata": {},
   "source": [
    "### replace numeric values with corresponding strings"
   ]
  },
  {
   "cell_type": "code",
   "execution_count": 61,
   "id": "30c9eab9",
   "metadata": {},
   "outputs": [],
   "source": [
    "decoded_df = df.copy()\n",
    "\n",
    "for col in mapping.keys():\n",
    "    decoded_df[col] = decoded_df[col].map(mapping[col])"
   ]
  },
  {
   "cell_type": "code",
   "execution_count": 62,
   "id": "79536b05",
   "metadata": {},
   "outputs": [],
   "source": [
    "# ensure mappings were applied correctly by checking that the number of missing values did not change\n",
    "assert (decoded_df.isnull().sum() == df.isnull().sum()).all()"
   ]
  },
  {
   "cell_type": "code",
   "execution_count": 63,
   "id": "ea9ad37b-9614-437b-aac7-64aa5e39e67c",
   "metadata": {},
   "outputs": [],
   "source": [
    "random_sample = decoded_df.sample(n=5000, replace=False, random_state=42)"
   ]
  },
  {
   "cell_type": "code",
   "execution_count": 64,
   "id": "c683c71b-ad2f-45b7-899d-3117140c3a6e",
   "metadata": {},
   "outputs": [],
   "source": [
    "random_sample_sub = random_sample.iloc[:,0:2]"
   ]
  },
  {
   "cell_type": "code",
   "execution_count": 93,
   "id": "3fcc1f7f",
   "metadata": {},
   "outputs": [],
   "source": [
    "random_sample_sub['narrative'] = random_sample_sub['narrative'].apply(lambda x: clean_narrative(x))"
   ]
  },
  {
   "cell_type": "code",
   "execution_count": 94,
   "id": "b447cd5e-6798-43ff-9250-cd90a6d17860",
   "metadata": {
    "tags": []
   },
   "outputs": [
    {
     "data": {
      "text/html": [
       "<div>\n",
       "<style scoped>\n",
       "    .dataframe tbody tr th:only-of-type {\n",
       "        vertical-align: middle;\n",
       "    }\n",
       "\n",
       "    .dataframe tbody tr th {\n",
       "        vertical-align: top;\n",
       "    }\n",
       "\n",
       "    .dataframe thead th {\n",
       "        text-align: right;\n",
       "    }\n",
       "</style>\n",
       "<table border=\"1\" class=\"dataframe\">\n",
       "  <thead>\n",
       "    <tr style=\"text-align: right;\">\n",
       "      <th></th>\n",
       "      <th>cpsc_case_number</th>\n",
       "      <th>narrative</th>\n",
       "    </tr>\n",
       "  </thead>\n",
       "  <tbody>\n",
       "    <tr>\n",
       "      <th>80147</th>\n",
       "      <td>220302739</td>\n",
       "      <td>PATIENT WAS SITTING IN A WHEELCHAIR LEANING FO...</td>\n",
       "    </tr>\n",
       "    <tr>\n",
       "      <th>48158</th>\n",
       "      <td>210101788</td>\n",
       "      <td>PATIENT WAS PLAYING WITH HER GRANDCHILD WHEN S...</td>\n",
       "    </tr>\n",
       "    <tr>\n",
       "      <th>112225</th>\n",
       "      <td>221250671</td>\n",
       "      <td>PATIENT TRIPPED GETTING OUT OF AN ELEVATOR AND...</td>\n",
       "    </tr>\n",
       "    <tr>\n",
       "      <th>50792</th>\n",
       "      <td>210212098</td>\n",
       "      <td>PATIENT SLIPPED ON NYLON SOCKS WHILE COMING OU...</td>\n",
       "    </tr>\n",
       "    <tr>\n",
       "      <th>115089</th>\n",
       "      <td>230214236</td>\n",
       "      <td>PATIENT PRESENTS AFTER A SYNCOPAL EPISODE WITH...</td>\n",
       "    </tr>\n",
       "  </tbody>\n",
       "</table>\n",
       "</div>"
      ],
      "text/plain": [
       "        cpsc_case_number                                          narrative\n",
       "80147          220302739  PATIENT WAS SITTING IN A WHEELCHAIR LEANING FO...\n",
       "48158          210101788  PATIENT WAS PLAYING WITH HER GRANDCHILD WHEN S...\n",
       "112225         221250671  PATIENT TRIPPED GETTING OUT OF AN ELEVATOR AND...\n",
       "50792          210212098  PATIENT SLIPPED ON NYLON SOCKS WHILE COMING OU...\n",
       "115089         230214236  PATIENT PRESENTS AFTER A SYNCOPAL EPISODE WITH..."
      ]
     },
     "execution_count": 94,
     "metadata": {},
     "output_type": "execute_result"
    }
   ],
   "source": [
    "random_sample_sub.head()"
   ]
  },
  {
   "cell_type": "markdown",
   "id": "92b54147-4454-4311-bb57-1850a3f1871e",
   "metadata": {},
   "source": [
    "# NLP"
   ]
  },
  {
   "cell_type": "code",
   "execution_count": 5,
   "id": "c59c0b39-9bfb-4453-a9f7-6742d023f104",
   "metadata": {},
   "outputs": [
    {
     "name": "stdout",
     "output_type": "stream",
     "text": [
      "3.6.1\n"
     ]
    }
   ],
   "source": [
    "print(spacy.__version__)"
   ]
  },
  {
   "cell_type": "markdown",
   "id": "18501e0d-7920-492b-a259-fd0bc34bad42",
   "metadata": {},
   "source": [
    "# My Model"
   ]
  },
  {
   "cell_type": "markdown",
   "id": "5e91e26a-632b-4f0a-bc62-a4ab88f338b5",
   "metadata": {},
   "source": [
    "Corrected data"
   ]
  },
  {
   "cell_type": "code",
   "execution_count": 6,
   "id": "5628b143-9f57-4b01-9e39-0846c0f2dd48",
   "metadata": {
    "tags": []
   },
   "outputs": [],
   "source": [
    "fall = pd.read_csv('corrected_fall_set4.csv')"
   ]
  },
  {
   "cell_type": "code",
   "execution_count": 7,
   "id": "2be50d35-1c6b-47c3-b486-478fd58a0c5a",
   "metadata": {
    "tags": []
   },
   "outputs": [
    {
     "data": {
      "text/html": [
       "<div>\n",
       "<style scoped>\n",
       "    .dataframe tbody tr th:only-of-type {\n",
       "        vertical-align: middle;\n",
       "    }\n",
       "\n",
       "    .dataframe tbody tr th {\n",
       "        vertical-align: top;\n",
       "    }\n",
       "\n",
       "    .dataframe thead th {\n",
       "        text-align: right;\n",
       "    }\n",
       "</style>\n",
       "<table border=\"1\" class=\"dataframe\">\n",
       "  <thead>\n",
       "    <tr style=\"text-align: right;\">\n",
       "      <th></th>\n",
       "      <th>key_entry</th>\n",
       "      <th>span</th>\n",
       "      <th>label</th>\n",
       "    </tr>\n",
       "  </thead>\n",
       "  <tbody>\n",
       "    <tr>\n",
       "      <th>0</th>\n",
       "      <td>94YOF HX OF DEMENTIA S/P POSSIBLE UNWITNESSED ...</td>\n",
       "      <td>FRAME FELL ON HER NOSE</td>\n",
       "      <td>AO</td>\n",
       "    </tr>\n",
       "    <tr>\n",
       "      <th>1</th>\n",
       "      <td>70YOF WITH FALL FROM BED DX: LT INTEROTROCHANT...</td>\n",
       "      <td>FALL FROM BED</td>\n",
       "      <td>CHR</td>\n",
       "    </tr>\n",
       "    <tr>\n",
       "      <th>2</th>\n",
       "      <td>81 YOM FROM HOME WITH A FALL FROM HIS BED TO T...</td>\n",
       "      <td>FALL FROM HIS BED</td>\n",
       "      <td>CHR</td>\n",
       "    </tr>\n",
       "    <tr>\n",
       "      <th>3</th>\n",
       "      <td>70 YOF C/O INJ TO HEAD/FACE AFTER FALL OFF THE...</td>\n",
       "      <td>FALL OFF THE TOLIET</td>\n",
       "      <td>CHR</td>\n",
       "    </tr>\n",
       "    <tr>\n",
       "      <th>4</th>\n",
       "      <td>80YOF FALL OFF TOILET ONTO FLOOR AND C/O UNSUR...</td>\n",
       "      <td>FALL OFF TOILET</td>\n",
       "      <td>CHR</td>\n",
       "    </tr>\n",
       "  </tbody>\n",
       "</table>\n",
       "</div>"
      ],
      "text/plain": [
       "                                           key_entry                    span  \\\n",
       "0  94YOF HX OF DEMENTIA S/P POSSIBLE UNWITNESSED ...  FRAME FELL ON HER NOSE   \n",
       "1  70YOF WITH FALL FROM BED DX: LT INTEROTROCHANT...           FALL FROM BED   \n",
       "2  81 YOM FROM HOME WITH A FALL FROM HIS BED TO T...       FALL FROM HIS BED   \n",
       "3  70 YOF C/O INJ TO HEAD/FACE AFTER FALL OFF THE...     FALL OFF THE TOLIET   \n",
       "4  80YOF FALL OFF TOILET ONTO FLOOR AND C/O UNSUR...         FALL OFF TOILET   \n",
       "\n",
       "  label  \n",
       "0    AO  \n",
       "1   CHR  \n",
       "2   CHR  \n",
       "3   CHR  \n",
       "4   CHR  "
      ]
     },
     "execution_count": 7,
     "metadata": {},
     "output_type": "execute_result"
    }
   ],
   "source": [
    "fall.head()"
   ]
  },
  {
   "cell_type": "code",
   "execution_count": 8,
   "id": "5edb43ff",
   "metadata": {},
   "outputs": [],
   "source": [
    "# Replace leading whitespaces using a regular expression\n",
    "fall['span'] = fall['span'].str.replace(r'^\\s+', '', regex=True)"
   ]
  },
  {
   "cell_type": "code",
   "execution_count": 12,
   "id": "cf578fef",
   "metadata": {},
   "outputs": [
    {
     "name": "stdout",
     "output_type": "stream",
     "text": [
      "94YOF HX OF DEMENTIA S/P POSSIBLE UNWITNESSED BUT SUSPECTED MECHANICAL FALL. STAFF AT ASSISTED LIVING NOTICED BLOOD ON PATIENTS NOSE. WENT TO ROOM AND NOTICED A BROKEN PICTURE FRAME. PATIENT STATES THE FRAME FELL ON HER NOSE DX NASAL ABRASION, RT KNEE ABRASION, GLF\n"
     ]
    },
    {
     "data": {
      "text/plain": [
       "'PATIENT HISTORY OF OF DEMENTIA AFTER POSSIBLE UNWITNESSED BUT SUSPECTED MECHANICAL FALL. STAFF AT ASSISTED LIVING NOTICED BLOOD ON PATIENTS NOSE. WENT TO ROOM AND NOTICED A BROKEN PICTURE FRAME. PATIENT STATES THE FRAME FELL ON HER NOSE. CLINICAL DIAGNOSIS: NASAL ABRASION, RIGHT KNEE ABRASION, GROUND LEVEL FALL'"
      ]
     },
     "execution_count": 12,
     "metadata": {},
     "output_type": "execute_result"
    }
   ],
   "source": [
    "print(fall.key_entry[0])\n",
    "clean_narrative(fall.key_entry[0])"
   ]
  },
  {
   "cell_type": "code",
   "execution_count": 13,
   "id": "f8c61d77",
   "metadata": {},
   "outputs": [],
   "source": [
    "fall['key_entry'] = fall['key_entry'].apply(lambda x: clean_narrative(x))"
   ]
  },
  {
   "cell_type": "code",
   "execution_count": 14,
   "id": "1541ba89",
   "metadata": {},
   "outputs": [],
   "source": [
    "fall['span'] = fall['span'].apply(lambda x: clean_narrative(x))"
   ]
  },
  {
   "cell_type": "code",
   "execution_count": 15,
   "id": "b0a34ee7",
   "metadata": {},
   "outputs": [
    {
     "data": {
      "text/html": [
       "<div>\n",
       "<style scoped>\n",
       "    .dataframe tbody tr th:only-of-type {\n",
       "        vertical-align: middle;\n",
       "    }\n",
       "\n",
       "    .dataframe tbody tr th {\n",
       "        vertical-align: top;\n",
       "    }\n",
       "\n",
       "    .dataframe thead th {\n",
       "        text-align: right;\n",
       "    }\n",
       "</style>\n",
       "<table border=\"1\" class=\"dataframe\">\n",
       "  <thead>\n",
       "    <tr style=\"text-align: right;\">\n",
       "      <th></th>\n",
       "      <th>key_entry</th>\n",
       "      <th>span</th>\n",
       "      <th>label</th>\n",
       "    </tr>\n",
       "  </thead>\n",
       "  <tbody>\n",
       "    <tr>\n",
       "      <th>0</th>\n",
       "      <td>PATIENT HISTORY OF OF DEMENTIA AFTER POSSIBLE ...</td>\n",
       "      <td>FRAME FELL ON HER NOSE</td>\n",
       "      <td>AO</td>\n",
       "    </tr>\n",
       "    <tr>\n",
       "      <th>1</th>\n",
       "      <td>PATIENT WITH FALL FROM BED. CLINICAL DIAGNOSIS...</td>\n",
       "      <td>FALL FROM BED</td>\n",
       "      <td>CHR</td>\n",
       "    </tr>\n",
       "    <tr>\n",
       "      <th>2</th>\n",
       "      <td>PATIENT FROM HOME WITH A FALL FROM HIS BED TO ...</td>\n",
       "      <td>FALL FROM HIS BED</td>\n",
       "      <td>CHR</td>\n",
       "    </tr>\n",
       "    <tr>\n",
       "      <th>3</th>\n",
       "      <td>PATIENT COMPLAINS OF INJURY TO HEAD/FACE AFTER...</td>\n",
       "      <td>FALL OFF THE TOLIET</td>\n",
       "      <td>CHR</td>\n",
       "    </tr>\n",
       "  </tbody>\n",
       "</table>\n",
       "</div>"
      ],
      "text/plain": [
       "                                           key_entry                    span  \\\n",
       "0  PATIENT HISTORY OF OF DEMENTIA AFTER POSSIBLE ...  FRAME FELL ON HER NOSE   \n",
       "1  PATIENT WITH FALL FROM BED. CLINICAL DIAGNOSIS...           FALL FROM BED   \n",
       "2  PATIENT FROM HOME WITH A FALL FROM HIS BED TO ...       FALL FROM HIS BED   \n",
       "3  PATIENT COMPLAINS OF INJURY TO HEAD/FACE AFTER...     FALL OFF THE TOLIET   \n",
       "\n",
       "  label  \n",
       "0    AO  \n",
       "1   CHR  \n",
       "2   CHR  \n",
       "3   CHR  "
      ]
     },
     "execution_count": 15,
     "metadata": {},
     "output_type": "execute_result"
    }
   ],
   "source": [
    "fall.head(4)"
   ]
  },
  {
   "cell_type": "code",
   "execution_count": 16,
   "id": "102b7600-fbe3-4c09-8dec-741544dd6ecf",
   "metadata": {
    "tags": []
   },
   "outputs": [
    {
     "data": {
      "text/plain": [
       "60"
      ]
     },
     "execution_count": 16,
     "metadata": {},
     "output_type": "execute_result"
    }
   ],
   "source": [
    "fall_nas = fall[fall['label'].isna()]\n",
    "len(fall_nas)"
   ]
  },
  {
   "cell_type": "code",
   "execution_count": 17,
   "id": "2790ce13-46a2-4db6-84e2-53c59edf08fe",
   "metadata": {
    "tags": []
   },
   "outputs": [],
   "source": [
    "fall_labeled = fall[fall['label'].isna() == False]"
   ]
  },
  {
   "cell_type": "code",
   "execution_count": 18,
   "id": "34c1d176",
   "metadata": {},
   "outputs": [
    {
     "data": {
      "text/html": [
       "<div>\n",
       "<style scoped>\n",
       "    .dataframe tbody tr th:only-of-type {\n",
       "        vertical-align: middle;\n",
       "    }\n",
       "\n",
       "    .dataframe tbody tr th {\n",
       "        vertical-align: top;\n",
       "    }\n",
       "\n",
       "    .dataframe thead th {\n",
       "        text-align: right;\n",
       "    }\n",
       "</style>\n",
       "<table border=\"1\" class=\"dataframe\">\n",
       "  <thead>\n",
       "    <tr style=\"text-align: right;\">\n",
       "      <th></th>\n",
       "      <th>key_entry</th>\n",
       "      <th>span</th>\n",
       "      <th>label</th>\n",
       "    </tr>\n",
       "  </thead>\n",
       "  <tbody>\n",
       "    <tr>\n",
       "      <th>0</th>\n",
       "      <td>PATIENT HISTORY OF OF DEMENTIA AFTER POSSIBLE ...</td>\n",
       "      <td>FRAME FELL ON HER NOSE</td>\n",
       "      <td>AO</td>\n",
       "    </tr>\n",
       "    <tr>\n",
       "      <th>1</th>\n",
       "      <td>PATIENT WITH FALL FROM BED. CLINICAL DIAGNOSIS...</td>\n",
       "      <td>FALL FROM BED</td>\n",
       "      <td>CHR</td>\n",
       "    </tr>\n",
       "  </tbody>\n",
       "</table>\n",
       "</div>"
      ],
      "text/plain": [
       "                                           key_entry                    span  \\\n",
       "0  PATIENT HISTORY OF OF DEMENTIA AFTER POSSIBLE ...  FRAME FELL ON HER NOSE   \n",
       "1  PATIENT WITH FALL FROM BED. CLINICAL DIAGNOSIS...           FALL FROM BED   \n",
       "\n",
       "  label  \n",
       "0    AO  \n",
       "1   CHR  "
      ]
     },
     "execution_count": 18,
     "metadata": {},
     "output_type": "execute_result"
    }
   ],
   "source": [
    "fall_labeled.head(2)"
   ]
  },
  {
   "cell_type": "code",
   "execution_count": 36,
   "id": "e89708b8",
   "metadata": {},
   "outputs": [
    {
     "data": {
      "text/plain": [
       "array(['AO', 'CHR', 'TRS', 'COL', 'DIZ', 'LAD', 'MED', 'OBJ', 'RCH', 'SF',\n",
       "       'SHW', 'SO', 'STR', 'SU', 'WT'], dtype=object)"
      ]
     },
     "execution_count": 36,
     "metadata": {},
     "output_type": "execute_result"
    }
   ],
   "source": [
    "all_labels = fall_labeled.label.unique()\n",
    "all_labels"
   ]
  },
  {
   "cell_type": "code",
   "execution_count": 41,
   "id": "2c6d7342",
   "metadata": {},
   "outputs": [],
   "source": [
    "labels_to_use = ['CHR', 'TRS', 'LAD', 'OBJ', 'RCH', 'SF', 'SHW', 'SO', 'STR', 'SU', 'WT']"
   ]
  },
  {
   "cell_type": "code",
   "execution_count": 42,
   "id": "a5a289a2",
   "metadata": {},
   "outputs": [],
   "source": [
    "fall_labeled_sub = fall_labeled[fall_labeled['label'].isin(labels_to_use)]"
   ]
  },
  {
   "cell_type": "code",
   "execution_count": 43,
   "id": "c4489540-39a1-4ac2-90a9-b823642f9c3f",
   "metadata": {
    "tags": []
   },
   "outputs": [
    {
     "data": {
      "text/plain": [
       "355"
      ]
     },
     "execution_count": 43,
     "metadata": {},
     "output_type": "execute_result"
    }
   ],
   "source": [
    "key_list = fall_labeled_sub.key_entry.unique()\n",
    "len(key_list)"
   ]
  },
  {
   "cell_type": "code",
   "execution_count": 20,
   "id": "537e17ee",
   "metadata": {},
   "outputs": [
    {
     "data": {
      "text/html": [
       "<div>\n",
       "<style scoped>\n",
       "    .dataframe tbody tr th:only-of-type {\n",
       "        vertical-align: middle;\n",
       "    }\n",
       "\n",
       "    .dataframe tbody tr th {\n",
       "        vertical-align: top;\n",
       "    }\n",
       "\n",
       "    .dataframe thead th {\n",
       "        text-align: right;\n",
       "    }\n",
       "</style>\n",
       "<table border=\"1\" class=\"dataframe\">\n",
       "  <thead>\n",
       "    <tr style=\"text-align: right;\">\n",
       "      <th></th>\n",
       "      <th>key_entry</th>\n",
       "      <th>span</th>\n",
       "      <th>label</th>\n",
       "    </tr>\n",
       "  </thead>\n",
       "  <tbody>\n",
       "    <tr>\n",
       "      <th>1</th>\n",
       "      <td>PATIENT WITH FALL FROM BED. CLINICAL DIAGNOSIS...</td>\n",
       "      <td>FALL FROM BED</td>\n",
       "      <td>CHR</td>\n",
       "    </tr>\n",
       "  </tbody>\n",
       "</table>\n",
       "</div>"
      ],
      "text/plain": [
       "                                           key_entry           span label\n",
       "1  PATIENT WITH FALL FROM BED. CLINICAL DIAGNOSIS...  FALL FROM BED   CHR"
      ]
     },
     "execution_count": 20,
     "metadata": {},
     "output_type": "execute_result"
    }
   ],
   "source": [
    "fall_labeled[fall_labeled.key_entry == key_list[1]]"
   ]
  },
  {
   "cell_type": "code",
   "execution_count": 46,
   "id": "1a9fe623-37b0-4abb-af94-9453d88ff489",
   "metadata": {
    "tags": []
   },
   "outputs": [
    {
     "name": "stdout",
     "output_type": "stream",
     "text": [
      "temp_df has length > 1\n",
      "25 40\n",
      "41 64\n",
      "temp_df has length > 1\n",
      "25 40\n",
      "84 108\n",
      "temp_df has length > 1\n",
      "27 45\n",
      "50 78\n",
      "temp_df has length > 1\n",
      "65 87\n",
      "159 195\n",
      "temp_df has length > 1\n",
      "38 72\n",
      "73 103\n",
      "temp_df has length > 1\n",
      "86 99\n",
      "111 123\n",
      "temp_df has length > 1\n",
      "28 41\n",
      "42 57\n",
      "temp_df has length > 1\n",
      "8 21\n",
      "22 39\n",
      "temp_df has length > 1\n",
      "8 24\n",
      "45 54\n",
      "temp_df has length > 1\n",
      "16 35\n",
      "36 62\n",
      "temp_df has length > 1\n",
      "8 27\n",
      "28 45\n",
      "temp_df has length > 1\n",
      "8 23\n",
      "91 132\n",
      "temp_df has length > 1\n",
      "8 23\n",
      "24 34\n",
      "temp_df has length > 1\n",
      "8 23\n",
      "24 49\n",
      "temp_df has length > 1\n",
      "58 73\n",
      "78 99\n",
      "temp_df has length > 1\n",
      "9 24\n",
      "51 64\n",
      "temp_df has length > 1\n",
      "8 23\n",
      "39 47\n",
      "temp_df has length > 1\n",
      "8 23\n",
      "42 51\n",
      "temp_df has length > 1\n",
      "32 49\n",
      "61 73\n",
      "temp_df has length > 1\n",
      "9 31\n",
      "112 123\n",
      "temp_df has length > 1\n",
      "37 51\n",
      "61 75\n",
      "temp_df has length > 1\n",
      "35 52\n",
      "9 30\n",
      "53 89\n",
      "temp_df has length > 1\n",
      "8 25\n",
      "43 64\n",
      "temp_df has length > 1\n",
      "62 79\n",
      "81 96\n",
      "temp_df has length > 1\n",
      "13 25\n",
      "26 39\n",
      "temp_df has length > 1\n",
      "31 48\n",
      "84 101\n",
      "temp_df has length > 1\n",
      "24 34\n",
      "56 70\n",
      "temp_df has length > 1\n",
      "19 36\n",
      "37 49\n",
      "temp_df has length > 1\n",
      "20 50\n",
      "86 106\n",
      "temp_df has length > 1\n",
      "46 78\n",
      "107 159\n",
      "16 28\n",
      "temp_df has length > 1\n",
      "20 33\n",
      "113 131\n",
      "temp_df has length > 1\n",
      "18 51\n",
      "62 77\n",
      "temp_df has length > 1\n",
      "31 58\n",
      "80 99\n",
      "temp_df has length > 1\n",
      "66 81\n",
      "86 110\n",
      "temp_df has length > 1\n",
      "46 80\n",
      "85 96\n",
      "temp_df has length > 1\n",
      "37 58\n",
      "78 102\n",
      "temp_df has length > 1\n",
      "51 79\n",
      "84 113\n",
      "temp_df has length > 1\n",
      "16 30\n",
      "99 136\n",
      "temp_df has length > 1\n",
      "35 59\n",
      "136 189\n",
      "temp_df has length > 1\n",
      "122 146\n",
      "148 164\n",
      "temp_df has length > 1\n",
      "167 190\n",
      "94 102\n",
      "temp_df has length > 1\n",
      "102 129\n",
      "145 175\n",
      "temp_df has length > 1\n",
      "16 34\n",
      "50 71\n",
      "temp_df has length > 1\n",
      "8 42\n",
      "52 71\n",
      "temp_df has length > 1\n",
      "60 100\n",
      "136 162\n",
      "temp_df has length > 1\n",
      "8 31\n",
      "53 73\n",
      "temp_df has length > 1\n",
      "8 24\n",
      "25 45\n",
      "temp_df has length > 1\n",
      "56 74\n",
      "79 91\n",
      "93 109\n",
      "temp_df has length > 1\n",
      "51 71\n",
      "89 113\n",
      "temp_df has length > 1\n",
      "31 53\n",
      "12 30\n",
      "temp_df has length > 1\n",
      "28 49\n",
      "77 88\n",
      "temp_df has length > 1\n",
      "9 31\n",
      "74 105\n",
      "temp_df has length > 1\n",
      "44 68\n",
      "85 101\n",
      "20 43\n",
      "119 141\n",
      "temp_df has length > 1\n",
      "16 36\n",
      "42 63\n",
      "temp_df has length > 1\n",
      "76 96\n",
      "116 140\n",
      "temp_df has length > 1\n",
      "43 63\n",
      "75 109\n",
      "temp_df has length > 1\n",
      "8 31\n",
      "37 53\n",
      "temp_df has length > 1\n",
      "117 143\n",
      "160 206\n",
      "temp_df has length > 1\n",
      "111 131\n",
      "165 182\n",
      "temp_df has length > 1\n",
      "47 68\n",
      "87 110\n",
      "temp_df has length > 1\n",
      "67 79\n",
      "8 25\n",
      "temp_df has length > 1\n",
      "45 57\n",
      "101 115\n",
      "temp_df has length > 1\n",
      "8 17\n",
      "58 67\n",
      "temp_df has length > 1\n",
      "69 80\n",
      "170 214\n",
      "temp_df has length > 1\n",
      "12 48\n",
      "87 134\n",
      "temp_df has length > 1\n",
      "19 33\n",
      "83 107\n",
      "temp_df has length > 1\n",
      "31 54\n",
      "8 26\n",
      "temp_df has length > 1\n",
      "23 44\n",
      "49 63\n",
      "temp_df has length > 1\n",
      "58 82\n",
      "84 104\n",
      "temp_df has length > 1\n",
      "62 75\n",
      "95 152\n",
      "temp_df has length > 1\n",
      "78 88\n",
      "94 105\n",
      "temp_df has length > 1\n",
      "43 52\n",
      "101 125\n",
      "temp_df has length > 1\n",
      "23 37\n",
      "51 79\n",
      "temp_df has length > 1\n",
      "63 86\n",
      "12 30\n",
      "temp_df has length > 1\n",
      "48 62\n",
      "16 33\n",
      "temp_df has length > 1\n",
      "93 116\n",
      "43 49\n",
      "temp_df has length > 1\n",
      "60 75\n",
      "42 55\n",
      "temp_df has length > 1\n",
      "103 118\n",
      "60 84\n",
      "temp_df has length > 1\n",
      "121 143\n",
      "75 100\n",
      "171 194\n",
      "temp_df has length > 1\n",
      "222 247\n",
      "61 71\n",
      "temp_df has length > 1\n",
      "41 62\n",
      "90 123\n",
      "temp_df has length > 1\n",
      "70 89\n",
      "45 65\n",
      "temp_df has length > 1\n",
      "45 70\n",
      "20 44\n",
      "temp_df has length > 1\n",
      "59 78\n",
      "32 50\n",
      "temp_df has length > 1\n",
      "138 163\n",
      "117 136\n",
      "52 73\n",
      "temp_df has length > 1\n",
      "122 160\n",
      "91 112\n",
      "temp_df has length > 1\n",
      "57 66\n",
      "8 36\n",
      "temp_df has length > 1\n",
      "37 46\n",
      "8 36\n",
      "temp_df has length > 1\n",
      "23 42\n",
      "43 56\n",
      "temp_df has length > 1\n",
      "8 26\n",
      "27 44\n",
      "temp_df has length > 1\n",
      "19 41\n",
      "63 79\n",
      "temp_df has length > 1\n",
      "73 100\n",
      "42 59\n",
      "temp_df has length > 1\n",
      "97 117\n",
      "71 88\n",
      "temp_df has length > 1\n",
      "27 42\n",
      "8 22\n",
      "temp_df has length > 1\n",
      "51 76\n",
      "100 124\n",
      "temp_df has length > 1\n",
      "126 158\n",
      "91 109\n",
      "temp_df has length > 1\n",
      "88 107\n",
      "46 62\n",
      "temp_df has length > 1\n",
      "33 48\n",
      "8 26\n",
      "temp_df has length > 1\n",
      "175 211\n",
      "129 148\n",
      "temp_df has length > 1\n",
      "46 73\n",
      "26 45\n",
      "temp_df has length > 1\n",
      "70 104\n",
      "33 56\n",
      "temp_df has length > 1\n",
      "13 35\n",
      "44 58\n",
      "temp_df has length > 1\n",
      "47 70\n",
      "31 46\n",
      "temp_df has length > 1\n",
      "63 87\n",
      "40 58\n",
      "temp_df has length > 1\n",
      "65 86\n",
      "47 64\n",
      "temp_df has length > 1\n",
      "113 146\n",
      "54 79\n",
      "temp_df has length > 1\n",
      "69 93\n",
      "23 42\n",
      "temp_df has length > 1\n",
      "40 72\n",
      "12 30\n",
      "temp_df has length > 1\n",
      "63 101\n",
      "16 39\n",
      "temp_df has length > 1\n",
      "90 126\n",
      "67 89\n",
      "temp_df has length > 1\n",
      "28 45\n",
      "8 27\n",
      "temp_df has length > 1\n",
      "36 71\n",
      "13 31\n",
      "temp_df has length > 1\n",
      "47 72\n",
      "225 244\n",
      "temp_df has length > 1\n",
      "83 111\n",
      "24 68\n",
      "temp_df has length > 1\n",
      "14 40\n",
      "45 53\n",
      "temp_df has length > 1\n",
      "10 36\n",
      "40 48\n",
      "temp_df has length > 1\n",
      "118 137\n",
      "138 186\n",
      "temp_df has length > 1\n",
      "50 69\n",
      "8 25\n",
      "temp_df has length > 1\n",
      "51 75\n",
      "12 34\n",
      "temp_df has length > 1\n",
      "8 34\n",
      "43 67\n",
      "temp_df has length > 1\n",
      "8 24\n",
      "45 57\n",
      "temp_df has length > 1\n",
      "167 180\n",
      "60 85\n",
      "temp_df has length > 1\n",
      "26 48\n",
      "129 158\n",
      "53 96\n",
      "temp_df has length > 1\n",
      "24 43\n",
      "44 57\n",
      "temp_df has length > 1\n",
      "62 84\n",
      "129 159\n",
      "temp_df has length > 1\n",
      "91 107\n",
      "66 89\n",
      "temp_df has length > 1\n",
      "58 75\n",
      "27 47\n",
      "temp_df has length > 1\n",
      "112 124\n",
      "40 66\n",
      "temp_df has length > 1\n",
      "37 55\n",
      "8 26\n",
      "temp_df has length > 1\n",
      "40 52\n",
      "89 119\n",
      "temp_df has length > 1\n",
      "91 107\n",
      "62 73\n",
      "temp_df has length > 1\n",
      "59 91\n",
      "12 22\n",
      "temp_df has length > 1\n",
      "62 78\n",
      "12 31\n",
      "temp_df has length > 1\n",
      "54 67\n",
      "25 53\n",
      "temp_df has length > 1\n",
      "50 63\n",
      "27 49\n",
      "temp_df has length > 1\n",
      "51 64\n",
      "72 91\n",
      "temp_df has length > 1\n",
      "100 113\n",
      "51 73\n",
      "temp_df has length > 1\n",
      "56 67\n",
      "13 34\n",
      "temp_df has length > 1\n",
      "81 97\n",
      "61 80\n",
      "temp_df has length > 1\n",
      "82 103\n",
      "150 183\n",
      "temp_df has length > 1\n",
      "92 100\n",
      "121 139\n",
      "temp_df has length > 1\n",
      "146 181\n",
      "95 122\n"
     ]
    }
   ],
   "source": [
    "nlp = spacy.blank(\"en\")\n",
    "# special_case = [{Token.ORTH: \"CLOSED-HEAD\"}]\n",
    "# nlp.tokenizer.add_special_case(\"CLOSED-HEAD\", special_case)\n",
    "\n",
    "from spacy.tokens import Span\n",
    "\n",
    "# keeping span token lengths to appropriately set config\n",
    "token_lengths = []\n",
    "label_list = []\n",
    "\n",
    "docs=[] # this will hold the processed strings and spans\n",
    "for k in key_list:\n",
    "    doc = nlp(k)\n",
    "    temp_df = fall_labeled_sub[fall_labeled_sub.key_entry == k]\n",
    "\n",
    "    if len(temp_df)==1:              \n",
    "        span_text = temp_df.iloc[0,1]\n",
    "        temp_label = temp_df.iloc[0,2]       \n",
    "        span_start_char = k.find(span_text)\n",
    "        span_end_char = span_start_char + len(span_text)\n",
    "\n",
    "        # Finding the start and end tokens using character offsets\n",
    "        start_token = None\n",
    "        end_token = None\n",
    "        for token in doc:\n",
    "            if token.idx == span_start_char:\n",
    "                 start_token = token.i\n",
    "            if token.idx + len(token.text) == span_end_char:\n",
    "                end_token = token.i\n",
    "                break\n",
    "        if start_token is not None and end_token is not None:\n",
    "            temp_start = start_token\n",
    "            temp_end = end_token + 1\n",
    "            doc.spans[\"sc\"] = [Span(doc, temp_start, temp_end, temp_label)]\n",
    "            docs.append(doc)\n",
    "            token_lengths.append(temp_end - temp_start)\n",
    "            label_list.append(temp_label)\n",
    "        else:\n",
    "            print(k, \"span=\", span_text,\"couldn't find tokens\")\n",
    "    else:\n",
    "        print(\"temp_df has length > 1\")\n",
    "        span_list = []\n",
    "        for ent in range(len(temp_df)):\n",
    "            span_text = temp_df.iloc[ent,1]\n",
    "            temp_label = temp_df.iloc[ent,2]\n",
    "            span_start_char = k.find(span_text)\n",
    "            span_end_char = span_start_char + len(span_text)\n",
    "            print(span_start_char, span_end_char)\n",
    "\n",
    "            # Finding the start and end tokens using character offsets\n",
    "            start_token = None\n",
    "            end_token = None\n",
    "            for token in doc:\n",
    "                if token.idx == span_start_char:\n",
    "                     start_token = token.i\n",
    "                if token.idx + len(token.text) == span_end_char:\n",
    "                    end_token = token.i\n",
    "                    break\n",
    "            if start_token is not None and end_token is not None:\n",
    "                temp_start = start_token\n",
    "                temp_end = end_token + 1             \n",
    "                span_list.append(Span(doc, temp_start, temp_end, temp_label))\n",
    "                token_lengths.append(temp_end - temp_start)\n",
    "                label_list.append(temp_label)\n",
    "            else:\n",
    "                print(k, \"span=\",span_text, \"couldn't find tokens\")\n",
    "        \n",
    "        doc.spans[\"sc\"] = span_list\n",
    "    docs.append(doc)\n",
    "          "
   ]
  },
  {
   "cell_type": "code",
   "execution_count": 47,
   "id": "80aca9ed",
   "metadata": {},
   "outputs": [
    {
     "data": {
      "text/plain": [
       "568"
      ]
     },
     "execution_count": 47,
     "metadata": {},
     "output_type": "execute_result"
    }
   ],
   "source": [
    "len(docs)"
   ]
  },
  {
   "cell_type": "code",
   "execution_count": 48,
   "id": "c32a732a",
   "metadata": {},
   "outputs": [
    {
     "name": "stdout",
     "output_type": "stream",
     "text": [
      "2 13 4.0\n"
     ]
    }
   ],
   "source": [
    "print(np.min(token_lengths), np.max(token_lengths), np.median(token_lengths))"
   ]
  },
  {
   "cell_type": "code",
   "execution_count": 49,
   "id": "d4a50f06",
   "metadata": {},
   "outputs": [
    {
     "data": {
      "text/plain": [
       "array([2., 7.])"
      ]
     },
     "execution_count": 49,
     "metadata": {},
     "output_type": "execute_result"
    }
   ],
   "source": [
    "np.quantile(token_lengths, q =[0.05,0.95])"
   ]
  },
  {
   "cell_type": "code",
   "execution_count": 52,
   "id": "81d92095",
   "metadata": {},
   "outputs": [
    {
     "name": "stderr",
     "output_type": "stream",
     "text": [
      "/var/folders/83/9m_71sms06v2j4rp_zdx2r0r0000gn/T/ipykernel_43544/1828734055.py:1: FutureWarning: unique with argument that is not not a Series, Index, ExtensionArray, or np.ndarray is deprecated and will raise in a future version.\n",
      "  pd.unique(label_list)\n"
     ]
    },
    {
     "data": {
      "text/plain": [
       "array(['CHR', 'SF', 'SO', 'SU', 'RCH', 'WT', 'TRS', 'LAD', 'OBJ', 'STR',\n",
       "       'SHW'], dtype=object)"
      ]
     },
     "execution_count": 52,
     "metadata": {},
     "output_type": "execute_result"
    }
   ],
   "source": [
    "pd.unique(label_list)"
   ]
  },
  {
   "cell_type": "markdown",
   "id": "0888d041",
   "metadata": {},
   "source": [
    "Make training and test sets with the docs"
   ]
  },
  {
   "cell_type": "code",
   "execution_count": 53,
   "id": "08dec8e9-3243-4929-af99-da59854c1739",
   "metadata": {},
   "outputs": [],
   "source": [
    "from spacy.tokens import DocBin"
   ]
  },
  {
   "cell_type": "code",
   "execution_count": 54,
   "id": "f8299d7f-7b9b-490a-a09c-fd7eb7f0b35b",
   "metadata": {},
   "outputs": [],
   "source": [
    "doc_bin = DocBin(docs=docs[0:400])"
   ]
  },
  {
   "cell_type": "code",
   "execution_count": 55,
   "id": "0646813a-597c-4887-b100-53b7354bc933",
   "metadata": {},
   "outputs": [],
   "source": [
    "doc_bin.to_disk(\"./train_230929.spacy\")"
   ]
  },
  {
   "cell_type": "code",
   "execution_count": 56,
   "id": "a1fa81e1-08f2-41ae-ae6f-d0d2787322b3",
   "metadata": {},
   "outputs": [],
   "source": [
    "doc_bin = DocBin(docs=docs[500:])\n",
    "doc_bin.to_disk(\"./dev_230929.spacy\")"
   ]
  },
  {
   "cell_type": "markdown",
   "id": "34d2b248-4078-413a-9622-58674b528e7c",
   "metadata": {},
   "source": [
    "python -m spacy init config ./config.cfg --lang en --pipeline spancat"
   ]
  },
  {
   "cell_type": "markdown",
   "id": "6e220f29-7abc-44bf-8a99-e4a017f84e01",
   "metadata": {},
   "source": [
    "## Using model"
   ]
  },
  {
   "cell_type": "code",
   "execution_count": 84,
   "id": "260f2df3-c0da-4f9a-ae84-c4dbea3bc93b",
   "metadata": {
    "tags": []
   },
   "outputs": [],
   "source": [
    "nlp = spacy.load(\"/Users/wendyphillips/Documents/Computing/WendysPython/Falling_analysis/code/outputs2309229a/model-best\")"
   ]
  },
  {
   "cell_type": "code",
   "execution_count": 95,
   "id": "92ff006d",
   "metadata": {},
   "outputs": [
    {
     "data": {
      "text/plain": [
       "'HEAD INJURY/91YOWF WAS AMBULATING IN CHURCH WHEN LOST HER FOOT ON A STEP AND FELL DOWN 1 STEP, FALLING AND STRIKING HER FOREHEAD ON THE FLOOR. NO LOSS OF CONSCIOUSNESS BUT COMPLAINS OF HEADACHE.'"
      ]
     },
     "execution_count": 95,
     "metadata": {},
     "output_type": "execute_result"
    }
   ],
   "source": [
    "random_sample_sub.iloc[1000,1]"
   ]
  },
  {
   "cell_type": "code",
   "execution_count": 96,
   "id": "5c6cc55b-d2ee-474e-8097-48c2aca45b7a",
   "metadata": {
    "tags": []
   },
   "outputs": [
    {
     "data": {
      "text/plain": [
       "'HEAD INJURY/91YOWF WAS AMBULATING IN CHURCH WHEN LOST HER FOOT ON A STEP AND FELL DOWN 1 STEP, FALLING AND STRIKING HER FOREHEAD ON THE FLOOR. NO LOSS OF CONSCIOUSNESS BUT COMPLAINS OF HEADACHE.'"
      ]
     },
     "execution_count": 96,
     "metadata": {},
     "output_type": "execute_result"
    }
   ],
   "source": [
    "doc = nlp(random_sample_sub.iloc[1000,1])\n",
    "doc.text"
   ]
  },
  {
   "cell_type": "code",
   "execution_count": 97,
   "id": "9e0f668f",
   "metadata": {},
   "outputs": [
    {
     "data": {
      "text/plain": [
       "{'sc': [FELL DOWN 1 STEP, STRIKING HER FOREHEAD ON THE FLOOR, ON A STEP]}"
      ]
     },
     "execution_count": 97,
     "metadata": {},
     "output_type": "execute_result"
    }
   ],
   "source": [
    "doc.spans"
   ]
  },
  {
   "cell_type": "code",
   "execution_count": 98,
   "id": "1cf950fb-98d6-4410-86ba-08dd02939886",
   "metadata": {
    "tags": []
   },
   "outputs": [
    {
     "name": "stdout",
     "output_type": "stream",
     "text": [
      "STR 14 18 FELL DOWN 1 STEP\n",
      "SF 21 27 STRIKING HER FOREHEAD ON THE FLOOR\n",
      "LAD 10 13 ON A STEP\n"
     ]
    }
   ],
   "source": [
    "for span in doc.spans[\"sc\"]:\n",
    "    print(span.label_, span.start, span.end, span.text)"
   ]
  },
  {
   "cell_type": "code",
   "execution_count": 100,
   "id": "2ffa9794-24b6-46b4-bce4-dcc976b099b2",
   "metadata": {
    "tags": []
   },
   "outputs": [
    {
     "name": "stdout",
     "output_type": "stream",
     "text": [
      "PATIENT WITHHEAD AND NECK PAIN AND RIGHT FOREARM LAC AFTER A MECHANICAL FALL. PATIENT WAS PUSHING HIS LAWNMOWER DOWN A HILL AT HIS DAUGHTERS HOUSE AND FELL, STRIKING RIGHT FOREARM. CLINICAL DIAGNOSIS: CERV SPINE FRACTURE; RIGHT FOREARM LAC.\n",
      "PATIENT GOING TO RESTROOM WHEN HE GOT HIS FEET TRIPPED UP AND FELL INTO THE DOOR. CLINICAL DIAGNOSIS: NECK PAIN, EPISTAXIS, FALL\n",
      "SO 12 16 FELL INTO THE DOOR\n",
      "PATIENT FELL IN FLOORT A HOME, LANDED ON HIP. CLINICAL DIAGNOSIS: HIP FRACTURE\n",
      "SF 7 10 LANDED ON HIP\n",
      "PATIENT PATIENT WAS GETTING OUT OF BED TO USE THE BATHROOM WHEN HE FELL TO THE FLOOR HAVING BILATERAL FOOT PAIN AND THINKS HE HIT HIS HEAD HE IS ACTING ALTERED. CLINICAL DIAGNOSIS: CLOSED HEAD INJURY, BILATERAL FOOT PAIN\n",
      "TRS 3 7 GETTING OUT OF BED\n",
      "PATIENT TRIPPED OVER HER CAT HIT LOW BACK ON TOILET. CLINICAL DIAGNOSIS: FRACTURE LUMBAR SPINE\n",
      "SO 5 10 HIT LOW BACK ON TOILET\n",
      "OBJ 1 5 TRIPPED OVER HER CAT\n",
      "PATIENT TRIPPED ON RUG, FELL IN FLOOR AT HOME. CLINICAL DIAGNOSIS: FOREARM ABRASION, RIB STRAIN\n",
      "OBJ 1 4 TRIPPED ON RUG\n",
      "PATIENT WAS SMOKING MARIJUANA AT HOME WHEN SHE STOOD UP TO ANSWER THE DOOR AND SHE FELL JAMMED HER RIGHT SECOND TOE. CLINICAL DIAGNOSIS: DISLOCATION TOE; SYNCOPE; MARIJUANA ABUSE\n",
      "TRS 8 14 STOOD UP TO ANSWER THE DOOR\n",
      "PATIENT HAD A SLIP AND FALL TO THE FLOOR ONTO HEAD AND HIP. CLINICAL DIAGNOSIS: FRACTURED LEFT HIP HEMATOMA TO SCALP\n",
      "SF 9 13 ONTO HEAD AND HIP\n",
      "PATIENT PATIENT WAS WORKING ON HIS HOUSE AND FELL APROX 7 FT FROM LADDER W/ LEFT LOWER EXTREMITY EXTERNALLY ROTATED. CLINICAL DIAGNOSIS: INTERTROCHANTERIC FRACTURE LEFT FEMUR FALL ACUTE SUBDURAL HEMATOMA\n",
      "LAD 12 14 FROM LADDER\n",
      "PATIENT STATES FELL YESTERDAY AND AGAIN TODAY PUTTING ARMS OUT TO CATCH HERSELF STRIKING WALL INJURING KNEE AND NECK. CLINICAL DIAGNOSIS: KNEE PAIN; NECK STRAIN\n",
      "SO 13 15 STRIKING WALL\n",
      "PATIENT MOVING A PORTABLE FIREPLACE, TRIPPED ON UNEVEN GROUND AND FELL ONTO LEFT SHOULDER. CLINICAL DIAGNOSIS: DISLOCATION LEFT SHOULDER #\n",
      "SF 11 15 FELL ONTO LEFT SHOULDER\n",
      "OBJ 6 10 TRIPPED ON UNEVEN GROUND\n",
      "PATIENT UNWITNESSED FALL TO FLOOR UNKOWN IF PATIENT HIT HEAD. CLINICAL DIAGNOSIS: FALL, URINARY TRACT INFECTION\n",
      "PATIENT SUFFFERED MECHANICAL FALL HOME LANDING TO SIDE ON HARD FLOOR. CLINICAL DIAGNOSIS: HIP FRACTURE\n",
      "PATIENT WAS AT A NURSING FACILITY WHEN HE FELL OUT OF BED AND STRUCK HIS HEAD. PATIENT NOW HAS A LACERATION ON HIS SCALP AND PAIN SURROUNDING THE LACERATION. CLINICAL DIAGNOSIS: FALL\n",
      "SU 13 16 STRUCK HIS HEAD\n",
      "CHR 8 12 FELL OUT OF BED\n",
      "PATIENT LIVES ALONE WAS WALKING INTO HER BEDROOM AND HAD A SLIP AND FALL TO THE FLOOR. CLINICAL DIAGNOSIS: FRACTURED HIP; CONTUSION TO RIGHT ELBOW\n",
      "PATIENT, TRIPPED AND FELL ON A SET OUTSIDE STAIRS, DOWN FOR 3HR. CLINICAL DIAGNOSIS: PERIORBITAL HEATOMA; L3 COMPRESSION FRACTURE; LAMA\n",
      "STR 4 10 FELL ON A SET OUTSIDE STAIRS\n",
      "PATIENT, HISTORY OF ORTHOSTATIC HYPOTENSION, WAS GETTING OUT OF THE BED WHEN SUDDENL COLLAPSED AND FELL, FOUND DOWN SHORTLY AFTER BY HUSBAND. CLINICAL DIAGNOSIS: DEHYDRATION, HYPOMANGESEMIA; FALL; CLOSED FRACUTE OF NASAL BONE; LACERATION OF FORE HEAD\n",
      "TRS 8 13 GETTING OUT OF THE BED\n",
      "PATIENT WAS WALKING INTO A RESTAURANT AND THE FLOOR WAS SLICK AND FELL ONTO HEAD. CLINICAL DIAGNOSIS: CLOSED HEAD INJURY SUBARACHNOID HEMORRHAGE\n",
      "SF 12 15 FELL ONTO HEAD\n",
      "PATIENT HAD A GROUND LEVEL FALL AND HIT HER HEAD WHILE TRYING TO OPEN A DOOR AT HOME. CLINICAL DIAGNOSIS: SCALP HEMATOMA AND LEFT FOOT STRAIN AT \n",
      "RCH 11 16 TRYING TO OPEN A DOOR\n",
      "PATIENT COMPLAINS OF LEFT SHOULDER PAIN AFTER FALL OFF 6 FT STEPLADDER. CLINICAL DIAGNOSIS: LEFT SHOULDER SPRAIN\n",
      "PATIENT AFTER FALL FROM A CHAIR YESTERDAY LANDING ON THE FLOOR. WAS ON THE FLOOR ALL NIGHT. BROUGHT IN BY AMBULANCE. CLINICAL DIAGNOSIS: TRAUMATIC RHABDOMYOLYSIS, FALL\n",
      "CHR 2 6 FALL FROM A CHAIR\n",
      "PATIENT FELL DOWN 1 STEP. CLINICAL DIAGNOSIS: CONT OF FACE, RIGHT WRIST PAIN\n",
      "STR 1 5 FELL DOWN 1 STEP\n",
      "PATIENT TRIPPED AND FELL ON RUG AT HOME WITH ETHYL ALCOHOL (BLOOD ALCOHOL LEVEL, 234) WITH LOSS OF CONSCIOUSNESS WITH RIGHT SHOULDER DEFORMITY. CLINICAL DIAGNOSIS: FRACTURE HUMERAL NECK\n",
      "CHR 3 6 FELL ON RUG\n",
      "PATIENT REPORTS TRIPPING ON RUG IN BATHROOM AT HOME AND STRIKING HEAD ON FLOOR. CLINICAL DIAGNOSIS: CLOSED HEAD INJURY. CLINICAL DIAGNOSIS: HEAD CONTUSION\n",
      "SF 10 14 STRIKING HEAD ON FLOOR\n",
      "PATIENT. HEAD PAIN AFTER FALL OFF BED WHILE REACHING FOR HER PHONE. CLINICAL DIAGNOSIS: CONTUSION OF OCCIPITAL REGION OF SCALP\n",
      "CHR 5 8 FALL OFF BED\n",
      "RCH 9 13 REACHING FOR HER PHONE\n",
      "PATIENT. HIP PAIN AFTER MECHANICAL TRIP AND FALL ON THE FLOOR. CLINICAL DIAGNOSIS: CLOSED FRACTURE OF RIGHT HIP\n",
      "PATIENT GROUND LEVEL FALL TO FLOOR AT NURSHING HOME. CLINICAL DIAGNOSIS: SCALP LACERATION\n",
      "PATIENT COMPLAINS OF FALL, SHE GOT FROM A CHAIR AND BENT FORWARD TO PICK UP A PLATE AND LOST HER BALANCE, FELL ON HER RIGHT SIDE UNTO THE FLOOR. SHE HAS RIGHT RIB CAGE PAIN. CLINICAL DIAGNOSIS: CONTUSION OF RIB.\n",
      "PATIENT COMPLAINS OF ALTERED MENTAL STATUS AND HIP FRACTURE AFTER FALL DOWN STEPS WHILE OUTSIDE WHILE INTOXICATED WITH ALCOHOL. BLOOD ALCOHOL CONTENT 0. 12. CLINICAL DIAGNOSIS: HIP FRACTURE; ALCOHOL INTOXICATION\n",
      "STR 10 13 FALL DOWN STEPS\n",
      "PATIENT WAS HAVING A BOWEL MOVEMENT GOT DIZZY AND FELL OFF THE TOILET. CLINICAL DIAGNOSIS: TONGUE CONTUSION\n",
      "CHR 9 13 FELL OFF THE TOILET\n",
      "PATIENT FELL IN FLOOR AT HOME. CLINICAL DIAGNOSIS: PELVIS AND HIP FRACTURES\n",
      "PATIENT TRIPPED AND FELL GETTING OUT OF BED THIS MORNING HITTING HIS HEAD. CLINICAL DIAGNOSIS: CLOSED HEAD INJURY\n",
      "TRS 4 8 GETTING OUT OF BED\n",
      "SU 10 13 HITTING HIS HEAD\n",
      "PATIENT FOUND ON FLOOR BY VISITING NURSE; USING A WALKER AND FELL. CLINICAL DIAGNOSIS: FACIAL LAC, FALL, CLOSED HEAD INJURY, THORACIC COMPRESSION FRACTURE, ATRIAL FLUTTER, THROMBOCYTOPENIA, MACROCYTIC ANEMIA #\n",
      "PATIENT PRESENTS TO ED FOR CO RIB INJURY PATIENT WAS TAKING THE TRASH OUT 2 DAYS AGO AND WENT TO TAKE TRASH OUT OF TRASH CAN AND DID NOT USE HIS CANE PATIENT STUMBLED FORWARD STRIKING HIS RIGHT LOWER CHEST WALL ON TRASH CAN. CLINICAL DIAGNOSIS: RIB FRACTURE\n",
      "SO 35 40 STRIKING HIS RIGHT LOWER CHEST\n",
      "PATIENT WITH BILATERAL KNEE PAIN AND CHEST WITH RIGHT SHOULDER PAIN AFTER TRIPPING OVER HIS COFFEE TABLE IN THE DARK AND FALLING. CLINICAL DIAGNOSIS: SEPARATION ACROMIOCLAVICULAR, CONTUSION KNEE\n",
      "PATIENT COMPLAINS OF HEAD INJURY AND LOWER ARM FRACTURE AFTER FALL ONTO WINDOW SILL WHILE FIXING THE WINDOW BLINDS IN HER HOME. CLINICAL DIAGNOSIS: HEAD INJURY; LOWER ARM FRACTURE\n",
      "SO 10 14 FALL ONTO WINDOW SILL\n",
      "PATIENT PATIENT FEELING WEAK FELL HITTINGHEAD ON FLOOR WITH LOSS OF CONSCIOUSNESS. CLINICAL DIAGNOSIS: CLOSED HEAD INJURY, SEPSIS\n",
      "SF 4 8 FELL HITTINGHEAD ON FLOOR\n",
      "PATIENT HAD A SLIP AND FALL AT THE NURSING HOME STRUCK HEAD ATTEMPTING TO GET OUT OF BED AND HIT HEAD ON THE BED FRAME. CLINICAL DIAGNOSIS: SUBDURAL HEMATOMA\n",
      "SO 19 25 HIT HEAD ON THE BED FRAME\n",
      "TRS 13 18 TO GET OUT OF BED\n",
      "PATIENT FALL TO FLOOR COMPLAINS OF THIGH PAIN WHEN TURNING TO GET ON TOILET AND \"GOT TANGLED UP. CLINICAL DIAGNOSIS: FEMUR FRACTURE\n",
      "PATIENT WITH HISTORY OF DEMENTIA BROUGHT IN BY AMBULANCE AFTER SHE FELL OFF THE BED AT 1 MORNING YESTERDAY. PATIENT'S FAMILY REPORTS FINDING HER WITH HER HEAD STUCK BETWEEN HER BED AND THE DRESSER AND HER BODY ON THE FLOOR. CLINICAL DIAGNOSIS: FALL, SYNCOPE, COMPRESSION FRACTURE T12 VERTEBRA\n",
      "CHR 11 15 FELL OFF THE BED\n",
      "PATIENT PRESENTS WITH RIGHT CHEST WALL PAIN AND HEAD TRAUMA 2/2 REACHING FOR BED W/ HIS RIGHT HAND WHEN HIS RIGHT HAND SLIPPED AND HIT HIS RIGHT CHEST WALL AND HEAD ON GROUND. CLINICAL DIAGNOSIS: RIB FRACTURE; FALL\n",
      "PATIENT PATIENT WAS TRYING TO AMBULATE UP SOME STAIRS WHILE CARRYING A VACUUM WHEN HE FELL BACKWARDS FROM THE TOP OF APPROXIMATELY 9 OR 10 STAIRS, BELIEVES THAT HE STRUCK HIS HEAD, COMPLAINING OF RIGHT SHOULDER PAIN. CLINICAL DIAGNOSIS: TRAUMATIC SUBARACHNOID HEMORRHAGE WITH LOSS OF CONSCOISNESS OF 30 MINTUTES OR LESS, ACUTE PAIN OF RIGHT SHOULDER, FALL DOWN STAIRS, TRAUMATIC INJURY OF HEAD\n",
      "SU 30 33 STRUCK HIS HEAD\n",
      "STR 62 65 FALL DOWN STAIRS\n",
      "PATIENT GETTING OUT BED FELL ONTO FLOOR. CLINICAL DIAGNOSIS: CONTUSION HIP\n",
      "TRS 1 4 GETTING OUT BED\n",
      "SF 4 7 FELL ONTO FLOOR\n",
      "PATIENT HAD A SLIP AND FALL IN THE BATHTUB STRUCK HEAD. CLINICAL DIAGNOSIS: CLOSED HEAD INJURY\n",
      "SHW 5 9 FALL IN THE BATHTUB\n",
      "SU 9 11 STRUCK HEAD\n",
      "PATIENT WAS AT THE NURSING HOME AND FELL OUT OF HIS WHEELCHAIR STRIKING THE BACK OF HIS HEAD ON THE WINDOW SILL. CLINICAL DIAGNOSIS: CLOSED HEAD INJURY; LACERATION SCALP\n",
      "CHR 7 12 FELL OUT OF HIS WHEELCHAIR\n",
      "PATIENT, ON FOR DVT, WAS GETTING UP FROM TOILET WHEN HER HEEL GOT CAUGHT CAUSING HER TO FALL STRIKING HEAD ONTO THE WALKER, WITH SMALL HEMATOMA, DENIES ANY PRECEDING PRODROME. CLINICAL DIAGNOSIS: CEREBELLAR INFARCT, LEFT AGAINST MEDICAL ADVICE\n",
      "SO 20 25 STRIKING HEAD ONTO THE WALKER\n",
      "OBJ 11 16 WHEN HER HEEL GOT CAUGHT\n",
      "PATIENT TRIPPED AND FELL AT HER SON'S HOME, TRIPPED OVER A WIRE OUTSIDE AND FELL. CLINICAL DIAGNOSIS: CERVICAL STRAIN; FRACTURE. NOSE\n",
      "PATIENT COMPLAINS OF WEAKNESS; WALKED TO COUCH TO SIT, BUT SAT ON FLOOR. FELL YESTERDAY, COMPLAINS OF FACIAL BRUISING AND FRACTURE LEFT WRIST (WAS SEEN AT WALK IN CLINIC. CLINICAL DIAGNOSIS: URINARY TRACT INFECTION, FALL, FRACTURE LEFT DISTAL RADIUS\n",
      "PATIENT PATIENT'S SON STATES THE PATIENT WAS SUPPOSED TO STEP DOWN 4 STAIRS BUT STEPPED OFF THE STAIRS AND FELL APPROXIMATELY 2. 5 FEET DIRECTLY ONTO HER HEAD. CLINICAL DIAGNOSIS: TRAUMATIC INJURY OF HEAD, ACUTE NECK PAIN, RIGHT ARM PAIN, FALL, CLOSED ANDERSON MONTESANO TYPE II FRACTURE OF RIGHT OCCIPITAL CONDYLE, FALL DOWN STAIRS\n",
      "SF 27 30 ONTO HER HEAD\n",
      "STR 60 63 FALL DOWN STAIRS\n",
      "PATIENT WAS TRYING TO PUT ON HER PANTS AND FELL TO THE FLOOR ONTO THE BACK OF HER HEAD. CLINICAL DIAGNOSIS: CLOSED HEAD INJURY; LACERATION SCALP\n",
      "PATIENT, WALKING HER NEW PUPPY WHICH YANKED ON THE LEASH CAUSING HER TO FALL DOWN 2 STEPS. CLINICAL DIAGNOSIS: HIP FRACTURE\n",
      "STR 14 18 FALL DOWN 2 STEPS\n",
      "PATIENT ROLLED OUT OF BED TONIGHT AT NURSING HOME AND LANDED ON THE FLOOR HITTING HER HEAD. CLINICAL DIAGNOSIS: CLOSED HEAD INJURY\n",
      "CHR 1 5 ROLLED OUT OF BED\n",
      "SU 14 17 HITTING HER HEAD\n",
      "PATIENT WAS GETTING OFF THE COUCH TO TURN ON A LIGHT AND WHEN SHE STOOD UP SHE BECAME LIGHTHEADED AND FELL TO THE FLOOR STRIKING HER HEAD ON THE FLOOR. HAS SMALL HEMATOMA OVER LEFT BROW. PATIENT TRANSFERRED. CLINICAL DIAGNOSIS: FALL\n",
      "SF 24 30 STRIKING HER HEAD ON THE FLOOR\n",
      "TRS 2 6 GETTING OFF THE COUCH\n",
      "PATIENT PER WIFE PATIENT FELL OUT OF HIS CHAIR HITTING HEAD ON FLOOR WITH LOSS OF CONSCIOUSNESS, SOB. CLINICAL DIAGNOSIS: CLOSED HEAD INJURY, CHF\n",
      "SF 9 13 HITTING HEAD ON FLOOR\n",
      "CHR 4 9 FELL OUT OF HIS CHAIR\n",
      "PATIENT PATIENT FROM ASST/LIVING, NURSING HOME AND ROLLED OUT OF BED, HIT FACE ON FLOOR. CLINICAL DIAGNOSIS: LAC OF LIP #\n",
      "CHR 10 14 ROLLED OUT OF BED\n",
      "SF 15 19 HIT FACE ON FLOOR\n",
      "PATIENT TO EMERGENCY ROOM FOR FALL ON HARD FLOOR 7 HRS AGO AT HOME, PATIENT STATES HAS SWELLING AND HEMATOMA ON RIGHT HIP, DENIES HEAD INJURY. CLINICAL DIAGNOSIS: FALL AT HOME, HIP PAIN, HYPONATREMIA\n",
      "PATIENT, EVALUATION FROM MECHANICAL FALL X1 DAY, PATIENT WAS GETTING OUT OF BED AND HIS PAJAMAS GOT CAUGHT ON HIS ARTIFICIAL LEG CAUSING A FALL INTO LINEN CLOSET, ADMITS TO LEFT SD RIB PAIN AND SKIN TEARS TO LEFT FOREARM, PATIENT HAS NAUSEA DURING EXAM. CLINICAL DIAGNOSIS: FALL, CLOSED FRACTURE OF MULTIPLE RIBS LEFT SIDE, SKIN TEARS TO LEFT ARM\n",
      "TRS 11 15 GETTING OUT OF BED\n",
      "PATIENT PATIENT STOOD UP TO ADJUST HIS HEATER AT HOME WHILE HE WAS GETTING READY TO GO TO BED AND THE NEXT THING HE KNEW HE WAS ON THE GROUND, LEFT FOOT INJURY WITH OBVIOUS DEFORMITY. CLINICAL DIAGNOSIS: RIGHT LISFRANC DISLOCATION, OPEN DISPLACED FRACTURE OF FIFTH METATARSAL BONE OF RIGHT FOOT\n",
      "TRS 2 8 STOOD UP TO ADJUST HIS HEATER\n",
      "PATIENT REPORTS HE WAS GETTING ONTO A RIDING LAWNMOWER AND HE FELL OFF THE SIDE AND LANDED ON HIS LEFT SHOULDER. DENIES HITTING HIS HEAD OR LOSS OF CONSCIOUSNESS. CLINICAL DIAGNOSIS: OTHER CLOSED DISPLACED FRACTURE OF PROXIMAL END OF LEFT HUMERUS\n",
      "SF 16 21 LANDED ON HIS LEFT SHOULDER\n",
      "CHR 11 15 FELL OFF THE SIDE\n",
      "PATIENT FELL OFF LADDER WITH ALCOHOL USE NO BLOOD ALCOHOL LEVEL, . CLINICAL DIAGNOSIS: THORACIC VERTEBRA FRACTURE, SACRAL FRACTURE\n",
      "LAD 2 4 OFF LADDER\n",
      "PATIENT GOT UP TO USE BATHROOM, SLIPPED OFF TOILET AND FELL ONTO FLOOR; STRUCK HEAD. COMPLAINS OF BACK PAIN AND HEADACHE. CLINICAL DIAGNOSIS: FALL, ELEVATED TROPONIN, RHABDOMYOLYSIS #\n",
      "SF 11 14 FELL ONTO FLOOR\n",
      "SU 15 17 STRUCK HEAD\n",
      "PATIENT, PRESENTING AFTER FALL, REPORTED HAD FALLEN TO THE FLOOR, FROM NURSING HOME, NO BLOOD THINNERS. CLINICAL DIAGNOSIS: FALL, LACERATION OF SCALP, SVT\n",
      "PATIENT SUSTAINED A FALL AT 6PM TONITE AND LANDED ON HER RIGHT ARM, PATIENT DENIES HEAD INJURY OR LOSS OF CONSCIOUSNESS, PATIENT SAYS TRIPPED ON AN EXTENSION CORD WHILE GETTING OUT CHRISTMAS DECORATIONS. CLINICAL DIAGNOSIS: HAND INJURY, RIGHT, FALL, CLOSED FRACTURE OF RIGHT WRIST\n",
      "OBJ 25 30 TRIPPED ON AN EXTENSION CORD\n",
      "SF 8 13 LANDED ON HER RIGHT ARM\n",
      "PATIENT WAS WALKING WHEN SHE TRIPPED AND FELL TO CARPETING. CLINICAL DIAGNOSIS: FRACTURED RIGHT FEMUR\n",
      "PATIENT. HEAD INJURY AFTER PATIENT WAS SITTING ON A CHAIR, FELL ASLEEP AND FELL ON THE SIDE OF THE HEAD. CLINICAL DIAGNOSIS: BLUNT HEAD TRAUMA\n",
      "SF 15 22 FELL ON THE SIDE OF THE HEAD\n",
      "PATIENT BROUGHT IN BY AMBULANCE FROM NURSING HOME AFTER FALLING ON THE FLOOR AND HITTING HEAD. CLINICAL DIAGNOSIS: HEAD INJURY WITH LOSS OF CONSCIOUSNESS, ADMIT\n",
      "SU 14 16 HITTING HEAD\n",
      "PATIENT FELL WHILE MOPPING THE FLOOR. CLINICAL DIAGNOSIS: FRACTURE TO HIP\n",
      "PATIENT ON FOR PE, TRIPPED AND FELL WHILE GRILLING OUTSIDE, WITH FOREHEAD LACERATION. CLINICAL DIAGNOSIS: SUBARACHNOID HEMORRHAGE\n",
      "PATIENT PATIENT WAS HER DAILY WALK WHEN SHE TRIPPED AND FELL ONTO SIDEWALK HITTING RIGHT HIP PAINFUL. CLINICAL DIAGNOSIS: CONTUSION RIGHT HIP\n",
      "SF 10 13 FELL ONTO SIDEWALK\n",
      "PATIENT BROUGHT IN BY AMBULANCE FOR RIGHT SHOULDER PAIN AFTER FALL ON CARPETED FLOOR AT NURSING HOME. CLINICAL DIAGNOSIS: SHOULDER FRACTURE\n",
      "PATIENT HAD A SLIP AND FALL TO THE FLOOR AT THE NURSING HOME. CLINICAL DIAGNOSIS: HIP FRACTURE\n",
      "PATIENT BRAVO TRAUMA, FELL DOWN STEPS HIT HEAD. CLINICAL DIAGNOSIS: CLOSED WEDGE COMP FRACTURE T11 VERTEBRA\n",
      "STR 4 7 FELL DOWN STEPS\n",
      "SU 7 9 HIT HEAD\n",
      "PATIENT FELL TO FLOOR IN BATHROOM. CLINICAL DIAGNOSIS: KNEE FRACTURE\n",
      "PATIENT TO EMERGENCY ROOM FOR EVALUATION AFTER FALL AT HER HOME, PATIENT SAYS LIVES IN COAP, PATIENT SAYS USES WALKER TO AMBULATE AND FELL IN BATHROOM AND HIT HEAD ON SINK, NO LOSS OF CONSCIOUSNESS OR THINNERS, PATIENT USED WALKER TO STAND BACK UP. CLINICAL DIAGNOSIS: SOB, FALL, INJURY OF HEAD, HYPOKALEMIA\n",
      "SO 29 33 HIT HEAD ON SINK\n",
      "PATIENT WENT TO SIT ON A CHAIR AND MISSED IT AND FELL DOWN A FLIGHT OF STAIRS ONTO HEAD. CLINICAL DIAGNOSIS: CLOSED HEAD INJURY\n",
      "SF 17 19 ONTO HEAD\n",
      "STR 11 17 FELL DOWN A FLIGHT OF STAIRS\n",
      "LAD 4 7 ON A CHAIR\n",
      "PATIENT REPORTS FALLING OUT OF BED THIS MORNING INJURING HIP. CLINICAL DIAGNOSIS: FRACTURE PELVIS\n",
      "CHR 2 6 FALLING OUT OF BED\n",
      "PATIENT FELL GETTING OUT OF A CHAIR LANDING ON LEFT HIP ON TILE FLOOR. CLINICAL DIAGNOSIS: HIP FRACTURE\n",
      "TRS 2 7 GETTING OUT OF A CHAIR\n",
      "SF 7 11 LANDING ON LEFT HIP\n",
      "PATIENT FROM HOME FELL TO THE FLOOR TRANSFERRING FROM CHAIR TO BED COMPLAINS OF HIP/THIGH PAIN WITH USE FOR ATRIAL FIBRILLATION. CLINICAL DIAGNOSIS: HYPONATREMIA, LOWER EXTREMITY HEMATOMAS\n",
      "TRS 7 10 TRANSFERRING FROM CHAIR\n",
      "PATIENT PRESENTS FROM HOME. PATIENT STATES HE FELL DOWN APPROXIMATELY 7 STEPS 1 DAY PRIOR. CLINICAL DIAGNOSIS: MULTIPLE ABRASIONS LOWER LEG\n",
      "STR 8 13 FELL DOWN APPROXIMATELY 7 STEPS\n",
      "PATIENT, ON FOR ATRIAL FIBRILLATION IN ADDITION TO , LIVES HOME WITH SON WHO WASN'T THERE, AMBULATING WITHOUT HER WALKER AND FELL TO THE FLOOR STRIKING HEAD, DISCOVERED 1HOUR LATER BY NEIGHBORS, WITH SCALP HEMATOMA IN ADDITION TO. CLINICAL DIAGNOSIS: LACERATION OF SCALP; HYPERTENSIVE URGENCY\n",
      "*PATIENT, LOST GRIP ON WALKER AN FELL ONTO FLOOR, HIT HEAD ON FLOOR, FEMUR. CLINICAL DIAGNOSIS: FRACTURE FEMUR NECK, HEAD INJURY\n",
      "SF 8 11 FELL ONTO FLOOR\n",
      "SF 12 16 HIT HEAD ON FLOOR\n",
      "PATIENT PRESENTED TO ED COMPLAINS OF FALL FROM 20 FEET. HITTING HEAD ON MAIL BOX WITH 6 LOOSE /MISSING TEETH. SUSTAINED CHIN LACERATION AND LOWER JAW PAIN. CLINICAL DIAGNOSIS: RIB FRACTURE, SACRAL FRACTURE, ACETABULUM FRACTURE\n",
      "PATIENT PATIENT GETTING UP TO GO TO THE BATHROOM WENT TO PUT ON SLIPPERS AND FEEL BACKWARDS HITTING HEAD HAS HEMOMTA LEFT POSTERIOR SCALP, NECK PAIN PATIENT ON CLOPIDOGREL. CLINICAL DIAGNOSIS: FALL\n",
      "TRS 2 6 GETTING UP TO GO\n",
      "PATIENT WAS IN HIS BACKYARD WHEN HE FELL AGAINST A FENCE CUTTING HIS HAND. CLINICAL DIAGNOSIS: LEFT HAND LACERATION.\n",
      "SO 7 11 FELL AGAINST A FENCE\n",
      "PATIENT WAS DRINKING BOURBON WITH HER HUSBAND EARLIER THIS EVENING, AND WHEN GOING DOWNSTAIRS, SHE TRIPPED ABOUT THE LAST 3 STEPS AND FELL DOWN ONTO THE GROUND. BLOOD ALCOHOL LEVEL, 282. CLINICAL DIAGNOSIS: CLOSED NONDISPLACED FRACTURE SURGICAL NECK OF LEFT HUMERUS, ALCOHOLIC INTOXICATION WITHOUT COMPLICATION, FALL DOWN STAIRS.\n",
      "STR 53 56 FALL DOWN STAIRS\n",
      "STR 17 23 TRIPPED ABOUT THE LAST 3 STEPS\n",
      "PATIENT PRESENTS WITH GENERALIZED WEAKNESS. PATIENT ALSO REPORTED THAT HE FELL FROM THE EDGE OF HIS BED ONTO THE GROUND 4 DAYS PRIOR AND REMAINED ON THE GROUND FOR THOSE 4 DAYS. PATIENT HAS BILATERAL LOWER EXTREMITY WEAKNESS WITHOUT BACK PAIN AND HEAD TRAUMA. CLINICAL DIAGNOSIS: NON TRAUMATIC RHABDOMYOLYSIS, ACUTE KIDNEY INJURY, ELEVATED TROPONIN, TRANSMINITIS, HEPTATITIS C VIRUS, NONINTRACTABLE EPILEPSY\n"
     ]
    },
    {
     "name": "stdout",
     "output_type": "stream",
     "text": [
      "CHR 11 18 FELL FROM THE EDGE OF HIS BED\n",
      "PATIENT PATIENT PULLING HEAVY GARBAGE CAN WHEN HE STEPPED WRONG AND FELL ONTO DRIVEWAY HAVING RIGHT HAND LACERATION 1 TO 2CM. CLINICAL DIAGNOSIS: LACERATION OF HAND, SUTURE OF SKIN WOUND, FALL\n",
      "SF 11 14 FELL ONTO DRIVEWAY\n",
      "PATIENT. UPPER ARM PAIN AFTER AFTER PATIENT WAS RUNNING IN HER HOUSE TO GRAB AN ITEM WHEN SHE HAD HER FOOT STOPPED AND TRIPPED ON HER LEFT SHOULDER, RECENTLY GOT NEW CARPET. CLINICAL DIAGNOSIS: CLOSED DISPLACED FRACTURE OF SURGICAL NECK OF LEFT HUMERUS\n",
      "PATIENT HERE FOR EVALUATION AFTER A FALL. SHE LOST HER BALANCE IN THE SHOWER AND HER LEGS GOT TWISTED UP. SHE FELL, STRIKING THE POSTERIOR PORTION OF HER HEAD AGAINST THE WALL AND HER CHIN ON HER WALKER. HAS HEMATOMA OVER OCCIPUT. CLINICAL DIAGNOSIS: FALL, HEMATOMA, CHIN LACERATION\n",
      "SHW 11 15 BALANCE IN THE SHOWER\n",
      "PATIENT COMPLAINS OF WRIST FRACTURE AFTER SLIP AND FALL TO WET FLOOR AT HOME. CLINICAL DIAGNOSIS: RIGHT WRIST FRACTURE\n",
      "PATIENT REPORTS GROUND LEVEL FALL 2 WEEKS AGO WHEN FELL ONTO TILE FLOOR, STRIKING HIP ON THE FLOOR. REPORTS INCREASE IN SEVERITY OF PAIN OVER LAST SEVERAL DAYS. (UNEMPLOYED. CLINICAL DIAGNOSIS: FRACTURE LEFT FEMORAL NECK.\n",
      "SF 9 13 FELL ONTO TILE FLOOR\n",
      "PATIENT REPORTS FROM NURSING HOME AFTER SLIPPED AND FALLING OUT OF BED AND HITTING HEAD. CLINICAL DIAGNOSIS: HEAD INJURY, FALL\n",
      "CHR 8 12 FALLING OUT OF BED\n",
      "SU 13 15 HITTING HEAD\n",
      "PATIENT TRIPPED ON AN UNEVEN FLOOR IN HIS BASEMENT AND FELL IMPACTING A METAL CAN. CLINICAL DIAGNOSIS: CLOSED FRACTURE OF NECK OF RIGHT FEMUR AND ABRASION OF RIGHT ELBOW\n",
      "OBJ 1 6 TRIPPED ON AN UNEVEN FLOOR\n",
      "PATIENT, WAS WALKING UPSTAIRS AT CLUB WHEN HER CANE TANGLED IN HER SHAWL/SCARF AND FELL DOWN 7 8 STAIRS LANDING ONTO COCRETE FLOOR. CLINICAL DIAGNOSIS: SCALP HEMATOMA, NECK AND BACK PAIN\n",
      "STR 17 22 FELL DOWN 7 8 STAIRS\n",
      "SF 22 26 LANDING ONTO COCRETE FLOOR\n",
      "PATIENT FROM THE NURSING HOME HAD A SLIP AND FALL STRIKING HEAD ON THE FLOOR. CLINICAL DIAGNOSIS: CONTUSION TO SCALP\n",
      "SF 10 15 STRIKING HEAD ON THE FLOOR\n",
      "PATIENT PATIENT STATES THAT HE HAS BACK PAIN AFTER HE FELL DOWN 2 STAIRS ONTO CONCRETE. CLINICAL DIAGNOSIS: ACUTE BILATERAL LOW BACK PAIN WITH RIGHT SIDED SCIATICA\n",
      "STR 10 14 FELL DOWN 2 STAIRS\n",
      "PATIENT REPORTS TRIPING ON RUG AND FALLING HITTING HEAD ON FLOOR TODAY AT HOME ABRASIONS ON HAND AND CUTS ON FINGERS. CLINICAL DIAGNOSIS: CLOSED HEAD INJURY FRACTURE LOWER ARM LACERATION FINGER\n",
      "SF 7 11 HITTING HEAD ON FLOOR\n",
      "PATIENT FELL FROM BED HIT FOREHEAD AT HOME. CLINICAL DIAGNOSIS: CLOSED HEAD INJURY'\n",
      "CHR 1 4 FELL FROM BED\n",
      "SU 4 6 HIT FOREHEAD\n",
      "PATIENT SLIP AND FALL ON WOOD FLOOR AND COMPLAINS OF RIGHT HIP PAIN AND UNABLE TO BARE WEIGHT. CLINICAL DIAGNOSIS: DISLOCATION HIP\n",
      "PATIENT TO EMERGENCY ROOM EVALUATION AFTER FALL AT HOME 1 HR PRIOR TO ARRIVAL, PATIENT SIT TO STAND FELL WHEN GETTING OUT OF BED AND FELL FORWARD AND ONTO CARPETED FLOOR, HAS ABRASION TO NOSE, DENIES ANY SX'S PRIOR TO FALL. CLINICAL DIAGNOSIS: FALL, ABRASION TO FACE (NOSE) WITHO INFECTION, URINARY TRACT INFECTION WITHO HEMATURIA\n",
      "TRS 21 25 GETTING OUT OF BED\n"
     ]
    }
   ],
   "source": [
    "random_sample_sub2 = random_sample_sub.iloc[1100:1200,]\n",
    "for text in random_sample_sub2['narrative']:\n",
    "    print(text)\n",
    "    doc = nlp(text)\n",
    "    for span in doc.spans[\"sc\"]:\n",
    "        print(span.label_, span.start, span.end, span.text)"
   ]
  },
  {
   "cell_type": "code",
   "execution_count": 101,
   "id": "77d8a185",
   "metadata": {},
   "outputs": [],
   "source": [
    "random_sample_sub2 = random_sample_sub.iloc[1100:2000,]\n",
    "\n",
    "# Create an empty DataFrame with column names\n",
    "output_df = pd.DataFrame(columns=['text', 'span_label', 'span_text'])\n",
    "\n",
    "for text in random_sample_sub2['narrative']:\n",
    "    doc = nlp(text)\n",
    "    \n",
    "    if len(doc.spans[\"sc\"]) == 0:\n",
    "        df2 = pd.DataFrame([[text, \"NA\", \"NA\"]], columns=['text', 'span_label', 'span_text'])\n",
    "        # Append the new row to the DataFrame\n",
    "        output_df = pd.concat([output_df, df2])\n",
    "    else:\n",
    "        for span in doc.spans[\"sc\"]:\n",
    "        # Create a new row as a dictionary\n",
    "        \n",
    "            df2 = pd.DataFrame([[text, span.label_, span.text]], columns=['text', 'span_label', 'span_text'])\n",
    "            # Append the new row to the DataFrame\n",
    "            output_df = pd.concat([output_df, df2])"
   ]
  },
  {
   "cell_type": "code",
   "execution_count": 102,
   "id": "e100a36e",
   "metadata": {},
   "outputs": [],
   "source": [
    "output_df.to_csv(\"predictions_230929.csv\")"
   ]
  },
  {
   "cell_type": "code",
   "execution_count": null,
   "id": "25eada32",
   "metadata": {},
   "outputs": [],
   "source": []
  }
 ],
 "metadata": {
  "kernelspec": {
   "display_name": "Python 3 (ipykernel)",
   "language": "python",
   "name": "python3"
  },
  "language_info": {
   "codemirror_mode": {
    "name": "ipython",
    "version": 3
   },
   "file_extension": ".py",
   "mimetype": "text/x-python",
   "name": "python",
   "nbconvert_exporter": "python",
   "pygments_lexer": "ipython3",
   "version": "3.9.18"
  }
 },
 "nbformat": 4,
 "nbformat_minor": 5
}
